{
 "cells": [
  {
   "cell_type": "markdown",
   "metadata": {},
   "source": [
    "# Example 6- Catchment analysis from the matrix transpose.\n",
    "\n",
    "We start with \"Swamp Mountain\" from the previous notebooks. This is slightly modified so that there are no lakes / pits right at the boundary.\n",
    "\n",
    "The catchments are identified by first finding all the outflow points of the mesh (local minima that correspond to the boundary mask) and then using the transpose of the downhill-propagation matrix $D^T$ to run information (the unique ID of each outflow points) up to the top of the catchment. \n",
    "\n",
    "The stopping condition is that no further change occurs. \n",
    "\n",
    "*Note* in the context of multiple pathways, this operation produces a fuzzy catchment. The first thing we do in this notebook is to specify `downhill_neighbours=1`\n",
    "\n",
    "\n",
    "## Notebook contents\n",
    "\n",
    "- [1-2-3 downhill neighbours](#1-2-3-downhill-neighbours)\n",
    "- [Upstream propogation](#Set-neighbours-to-1-and-compute-\"uphill\"-connectivity)\n",
    "- [Dense downhill matrices](#Dense-downhill-matrices)"
   ]
  },
  {
   "cell_type": "code",
   "execution_count": 1,
   "metadata": {},
   "outputs": [],
   "source": [
    "import matplotlib.pyplot as plt\n",
    "import numpy as np\n",
    "from quagmire import tools as meshtools\n",
    "%matplotlib inline"
   ]
  },
  {
   "cell_type": "markdown",
   "metadata": {},
   "source": [
    "## Construct the swamp-mountain mesh\n",
    "\n",
    "This time we take care to avoid lakes etc on the boundaries as this makes the catchment analysis more complicated. Visualise the mesh to make sure that this works."
   ]
  },
  {
   "cell_type": "code",
   "execution_count": 2,
   "metadata": {},
   "outputs": [
    {
     "name": "stdout",
     "output_type": "stream",
     "text": [
      "Underlying Mesh type: TriMesh\n"
     ]
    },
    {
     "name": "stdout",
     "output_type": "stream",
     "text": [
      "0 - Delaunay triangulation 0.636681072999977s\n",
      "0 - Calculate node weights and area 0.021659333000002334s\n",
      "0 - Find boundaries 0.005096625000021504s\n",
      "0 - cKDTree 0.04553969699998106s\n"
     ]
    },
    {
     "name": "stdout",
     "output_type": "stream",
     "text": [
      "0 - Construct neighbour cloud arrays 1.2269689660000154s, (0.6798846199999957s + 0.5470420419999868s)\n",
      "0 - Construct rbf weights 0.10940392700001667s\n",
      "\n",
      "Number of points in the triangulation: 156925\n"
     ]
    }
   ],
   "source": [
    "from quagmire import QuagMesh \n",
    "from quagmire import QuagMesh # all routines we need are within this class\n",
    "from quagmire import QuagMesh\n",
    "\n",
    "minX, maxX = -5.0, 5.0\n",
    "minY, maxY = -5.0, 5.0,\n",
    "\n",
    "spacingX = 0.05\n",
    "spacingY = 0.05\n",
    "\n",
    "x, y, simplices = meshtools.elliptical_mesh(minX, maxX, minY, maxY, spacingX, spacingY, 1.)\n",
    "\n",
    "DM = meshtools.create_DMPlex(x, y, simplices)\n",
    "DM = meshtools.refine_DM(DM, refinement_levels=2)\n",
    "\n",
    "mesh = QuagMesh(DM, downhill_neighbours=1)\n",
    "\n",
    "# Note ... this is what refinement does \n",
    "x = mesh.coords[:,0]\n",
    "y = mesh.coords[:,1]\n",
    "\n",
    "print( \"\\nNumber of points in the triangulation: {}\".format(mesh.npoints))"
   ]
  },
  {
   "cell_type": "code",
   "execution_count": 3,
   "metadata": {
    "hide_input": false
   },
   "outputs": [
    {
     "name": "stdout",
     "output_type": "stream",
     "text": [
      "0 - Build downhill matrices 0.23539285299995072s\n"
     ]
    },
    {
     "name": "stdout",
     "output_type": "stream",
     "text": [
      "0 - Build upstream areas 0.32539332400000376s\n"
     ]
    }
   ],
   "source": [
    "radius  = np.sqrt((x**2 + y**2))\n",
    "theta   = np.arctan2(y,x)+0.1\n",
    "\n",
    "height  = np.exp(-0.025*(x**2 + y**2)**2) + 0.25 * (0.2*radius)**4  * np.cos(5.0*theta)**2 ## Less so\n",
    "height  += 0.5 * (1.0-0.2*radius)\n",
    "height  -= height.min()\n",
    "\n",
    "## Add smoothed random noise to make some \"lakes\" \n",
    "\n",
    "mesh._construct_rbf_weights(delta=mesh.delta*3.0)\n",
    "\n",
    "randpts1 = np.where(np.random.random(height.shape)>0.995, -1.0, 0.0)\n",
    "hrand1   = 20.0 * mesh.rbf_smoother(randpts1, iterations=10)\n",
    "heightn = height + hrand1 * np.exp(-radius**2/15.0) \n",
    "\n",
    "\n",
    "with mesh.deform_topography():\n",
    "    mesh.downhill_neighbours = 2\n",
    "    mesh.topography.data = heightn\n",
    "\n",
    "\n",
    "# let's use a rainfall proportional to height (any choice is ok)\n",
    "\n",
    "rainfall_fn  = mesh.topography ** 2.0\n",
    "flowrate_fn  = mesh.upstream_integral_fn(rainfall_fn)\n",
    "str_power_fn = mesh.upstream_integral_fn(rainfall_fn)**2.0 * mesh.slope ** 2.0"
   ]
  },
  {
   "cell_type": "markdown",
   "metadata": {},
   "source": [
    "## Process the surface to fill swamps and lakes"
   ]
  },
  {
   "cell_type": "code",
   "execution_count": 4,
   "metadata": {},
   "outputs": [
    {
     "name": "stdout",
     "output_type": "stream",
     "text": [
      "Underlying Mesh type: TriMesh\n"
     ]
    },
    {
     "name": "stdout",
     "output_type": "stream",
     "text": [
      "0 - Delaunay triangulation 0.5760404540000081s\n",
      "0 - Calculate node weights and area 0.016248851000000286s\n",
      "0 - Find boundaries 0.0038762930000189044s\n",
      "0 - cKDTree 0.03985644900001262s\n"
     ]
    },
    {
     "name": "stdout",
     "output_type": "stream",
     "text": [
      "0 - Construct neighbour cloud arrays 1.1422578829999566s, (0.6012840869999536s + 0.5409295910000083s)\n",
      "0 - Construct rbf weights 0.0834109319999925s\n"
     ]
    },
    {
     "name": "stdout",
     "output_type": "stream",
     "text": [
      "0 - Build downhill matrices 0.2158000149999566s\n"
     ]
    },
    {
     "name": "stdout",
     "output_type": "stream",
     "text": [
      "0 - Build upstream areas 0.33913378199997624s\n",
      "Low point local patch fill\n"
     ]
    },
    {
     "name": "stdout",
     "output_type": "stream",
     "text": [
      "0 - Build downhill matrices 0.2389803379999762s\n"
     ]
    },
    {
     "name": "stdout",
     "output_type": "stream",
     "text": [
      "0 - Build downhill matrices 0.24289473199996792s\n"
     ]
    },
    {
     "name": "stdout",
     "output_type": "stream",
     "text": [
      "0 - Build downhill matrices 0.24073561499994867s\n"
     ]
    },
    {
     "name": "stdout",
     "output_type": "stream",
     "text": [
      "0 - Build downhill matrices 0.23946093500001098s\n"
     ]
    },
    {
     "name": "stdout",
     "output_type": "stream",
     "text": [
      "0 - Build downhill matrices 0.23003702400001202s\n",
      "Low point local patch fill  1.398589501999993  seconds\n"
     ]
    },
    {
     "name": "stdout",
     "output_type": "stream",
     "text": [
      "0 - Build upstream areas 0.3728297159999556s\n",
      "111  iterations, time =  0.17647516400000995\n",
      "Build low point catchments -  0.17740705699998216  seconds\n"
     ]
    },
    {
     "name": "stdout",
     "output_type": "stream",
     "text": [
      "0  Sort spills -  0.01585637900001302\n",
      "0  Gather spill data -  0.00016381599999704122\n",
      "0  Sort all spills -  0.00017121700000188866\n"
     ]
    },
    {
     "name": "stdout",
     "output_type": "stream",
     "text": [
      "0 - Build downhill matrices 0.22815792300002613s\n",
      "Low point swamp fill  0.6051639940000086  seconds\n"
     ]
    },
    {
     "name": "stdout",
     "output_type": "stream",
     "text": [
      "0 - Build upstream areas 0.6854760479999982s\n",
      "0 : 56\n"
     ]
    },
    {
     "name": "stdout",
     "output_type": "stream",
     "text": [
      "197  iterations, time =  0.2995152830000052\n",
      "Build low point catchments -  0.3004665779999982  seconds\n",
      "0  Sort spills -  0.0069656900000154565\n",
      "0  Gather spill data -  0.00023992400002725844\n",
      "0  Sort all spills -  0.00010511099998211648\n"
     ]
    },
    {
     "name": "stdout",
     "output_type": "stream",
     "text": [
      "0 - Build downhill matrices 0.2217931809999527s\n",
      "Low point swamp fill  0.6264393829999904  seconds\n"
     ]
    },
    {
     "name": "stdout",
     "output_type": "stream",
     "text": [
      "0 - Build upstream areas 0.7741795069999853s\n",
      "1 : 34\n"
     ]
    },
    {
     "name": "stdout",
     "output_type": "stream",
     "text": [
      "338  iterations, time =  0.4805936960000281\n",
      "Build low point catchments -  0.48153878900001246  seconds\n",
      "0  Sort spills -  0.003821377000008397\n",
      "0  Gather spill data -  0.0001269130000309815\n",
      "0  Sort all spills -  0.0006026600000268445\n"
     ]
    },
    {
     "name": "stdout",
     "output_type": "stream",
     "text": [
      "0 - Build downhill matrices 0.22726650499998868s\n",
      "Low point swamp fill  0.7712983569999778  seconds\n"
     ]
    },
    {
     "name": "stdout",
     "output_type": "stream",
     "text": [
      "0 - Build upstream areas 0.7220217569999932s\n",
      "2 : 14\n"
     ]
    },
    {
     "name": "stdout",
     "output_type": "stream",
     "text": [
      "338  iterations, time =  0.47962326299995084\n",
      "Build low point catchments -  0.480529851999961  seconds\n",
      "0  Sort spills -  0.0025416479999762487\n",
      "0  Gather spill data -  0.0003618349999783277\n",
      "0  Sort all spills -  7.75080000039452e-05\n"
     ]
    },
    {
     "name": "stdout",
     "output_type": "stream",
     "text": [
      "0 - Build downhill matrices 0.20983669199995347s\n",
      "Low point swamp fill  0.741580445000011  seconds\n"
     ]
    },
    {
     "name": "stdout",
     "output_type": "stream",
     "text": [
      "0 - Build upstream areas 0.7587514850000048s\n",
      "3 : 10\n"
     ]
    },
    {
     "name": "stdout",
     "output_type": "stream",
     "text": [
      "338  iterations, time =  0.45526764400000275\n",
      "Build low point catchments -  0.4564160559999664  seconds\n",
      "0  Sort spills -  0.0016299580000236347\n",
      "0  Gather spill data -  0.0003266319999966072\n",
      "0  Sort all spills -  0.00024492400001463466\n"
     ]
    },
    {
     "name": "stdout",
     "output_type": "stream",
     "text": [
      "0 - Build downhill matrices 0.20654029700000365s\n",
      "Low point swamp fill  0.7081899479999834  seconds\n"
     ]
    },
    {
     "name": "stdout",
     "output_type": "stream",
     "text": [
      "0 - Build upstream areas 0.7246816850000073s\n",
      "4 : 5\n"
     ]
    },
    {
     "name": "stdout",
     "output_type": "stream",
     "text": [
      "338  iterations, time =  0.4700127869999733\n",
      "Build low point catchments -  0.47105728799999724  seconds\n",
      "0  Sort spills -  0.0013095260000000053\n",
      "0  Gather spill data -  0.00037703600003169413\n",
      "0  Sort all spills -  0.00027452700004459984\n"
     ]
    },
    {
     "name": "stdout",
     "output_type": "stream",
     "text": [
      "0 - Build downhill matrices 0.19384055599999783s\n",
      "Low point swamp fill  0.7061368130000005  seconds\n"
     ]
    },
    {
     "name": "stdout",
     "output_type": "stream",
     "text": [
      "0 - Build upstream areas 0.7939213289999998s\n",
      "5 : 3\n"
     ]
    },
    {
     "name": "stdout",
     "output_type": "stream",
     "text": [
      "338  iterations, time =  0.5164515660000006\n",
      "Build low point catchments -  0.5173007469999789  seconds\n",
      "0  Sort spills -  0.0015582500000164146\n",
      "0  Gather spill data -  0.00012611200003220802\n",
      "0  Sort all spills -  8.390799996504938e-05\n"
     ]
    },
    {
     "name": "stdout",
     "output_type": "stream",
     "text": [
      "0 - Build downhill matrices 0.21644995099995867s\n",
      "Low point swamp fill  0.7771153520000098  seconds\n"
     ]
    },
    {
     "name": "stdout",
     "output_type": "stream",
     "text": [
      "0 - Build upstream areas 0.7534310169999685s\n",
      "6 : 2\n"
     ]
    },
    {
     "name": "stdout",
     "output_type": "stream",
     "text": [
      "338  iterations, time =  0.48911563099994737\n",
      "Build low point catchments -  0.4901107250000223  seconds\n",
      "0  Sort spills -  0.000691964999987249\n",
      "0  Gather spill data -  0.00011791200000743629\n",
      "0  Sort all spills -  7.740699999203571e-05\n"
     ]
    },
    {
     "name": "stdout",
     "output_type": "stream",
     "text": [
      "0 - Build downhill matrices 0.2189213670000072s\n",
      "Low point swamp fill  0.7493705190000242  seconds\n"
     ]
    },
    {
     "name": "stdout",
     "output_type": "stream",
     "text": [
      "0 - Build upstream areas 0.7588208860000236s\n",
      "7 : 2\n"
     ]
    },
    {
     "name": "stdout",
     "output_type": "stream",
     "text": [
      "338  iterations, time =  0.4884827170000108\n",
      "Build low point catchments -  0.4893811030000279  seconds\n",
      "0  Sort spills -  0.0007476709999991726\n",
      "0  Gather spill data -  0.00011751100004175896\n",
      "0  Sort all spills -  6.92070000241074e-05\n"
     ]
    },
    {
     "name": "stdout",
     "output_type": "stream",
     "text": [
      "0 - Build downhill matrices 0.21072971400002416s\n",
      "Low point swamp fill  0.7380153940000014  seconds\n"
     ]
    },
    {
     "name": "stdout",
     "output_type": "stream",
     "text": [
      "0 - Build upstream areas 0.7634939380000105s\n",
      "8 : 2\n"
     ]
    },
    {
     "name": "stdout",
     "output_type": "stream",
     "text": [
      "338  iterations, time =  0.5300258880000115\n",
      "Build low point catchments -  0.5310083800000029  seconds\n",
      "0  Sort spills -  0.0008436790000132532\n",
      "0  Gather spill data -  0.0001262119999978495\n",
      "0  Sort all spills -  0.0006021570000029897\n"
     ]
    },
    {
     "name": "stdout",
     "output_type": "stream",
     "text": [
      "0 - Build downhill matrices 0.2269939269999668s\n",
      "Low point swamp fill  0.7992464639999639  seconds\n"
     ]
    },
    {
     "name": "stdout",
     "output_type": "stream",
     "text": [
      "0 - Build upstream areas 0.7859134579999818s\n",
      "9 : 2\n"
     ]
    },
    {
     "name": "stdout",
     "output_type": "stream",
     "text": [
      "338  iterations, time =  0.5207133380000073\n",
      "Build low point catchments -  0.5219001479999861  seconds\n",
      "0  Sort spills -  0.000844078999989506\n",
      "0  Gather spill data -  0.0004411410000102478\n",
      "0  Sort all spills -  0.000318829999969239\n"
     ]
    },
    {
     "name": "stdout",
     "output_type": "stream",
     "text": [
      "0 - Build downhill matrices 0.23011051499997848s\n",
      "Low point swamp fill  0.7935399109999821  seconds\n"
     ]
    },
    {
     "name": "stdout",
     "output_type": "stream",
     "text": [
      "0 - Build upstream areas 0.7669408010000325s\n",
      "10 : 2\n"
     ]
    },
    {
     "name": "stdout",
     "output_type": "stream",
     "text": [
      "338  iterations, time =  0.462576247999948\n",
      "Build low point catchments -  0.4634676300000251  seconds\n",
      "0  Sort spills -  0.0008481779999556238\n",
      "0  Gather spill data -  0.00039473600003248066\n",
      "0  Sort all spills -  0.0003592340000295735\n"
     ]
    },
    {
     "name": "stdout",
     "output_type": "stream",
     "text": [
      "0 - Build downhill matrices 0.2173617400000012s\n",
      "Low point swamp fill  0.7189958889999843  seconds\n"
     ]
    },
    {
     "name": "stdout",
     "output_type": "stream",
     "text": [
      "0 - Build upstream areas 0.7380659060000312s\n",
      "11 : 2\n"
     ]
    },
    {
     "name": "stdout",
     "output_type": "stream",
     "text": [
      "338  iterations, time =  0.46637238400001024\n",
      "Build low point catchments -  0.46727766700001894  seconds\n",
      "0  Sort spills -  0.0008209750000105487\n",
      "0  Gather spill data -  0.0004436410000039359\n",
      "0  Sort all spills -  0.0003202290000103858\n"
     ]
    },
    {
     "name": "stdout",
     "output_type": "stream",
     "text": [
      "0 - Build downhill matrices 0.2254798939999887s\n",
      "Low point swamp fill  0.7334305769999787  seconds\n"
     ]
    },
    {
     "name": "stdout",
     "output_type": "stream",
     "text": [
      "0 - Build upstream areas 0.7546638069999858s\n",
      "12 : 2\n"
     ]
    },
    {
     "name": "stdout",
     "output_type": "stream",
     "text": [
      "338  iterations, time =  0.46336852500002124\n",
      "Build low point catchments -  0.4642846079999572  seconds\n",
      "0  Sort spills -  0.0008514769999692362\n",
      "0  Gather spill data -  0.00012241100000665028\n",
      "0  Sort all spills -  0.0005836529999783124\n"
     ]
    },
    {
     "name": "stdout",
     "output_type": "stream",
     "text": [
      "0 - Build downhill matrices 0.20726484300001857s\n",
      "Low point swamp fill  0.7101681620000022  seconds\n"
     ]
    },
    {
     "name": "stdout",
     "output_type": "stream",
     "text": [
      "0 - Build upstream areas 0.7362531219999937s\n",
      "13 : 2\n"
     ]
    },
    {
     "name": "stdout",
     "output_type": "stream",
     "text": [
      "338  iterations, time =  0.4763407030000053\n",
      "Build low point catchments -  0.4776604220000422  seconds\n",
      "0  Sort spills -  0.0007001630000331716\n",
      "0  Gather spill data -  0.0005209469999840621\n",
      "0  Sort all spills -  0.00032802999999148597\n"
     ]
    },
    {
     "name": "stdout",
     "output_type": "stream",
     "text": [
      "0 - Build downhill matrices 0.20666501400000925s\n",
      "Low point swamp fill  0.725634164999974  seconds\n"
     ]
    },
    {
     "name": "stdout",
     "output_type": "stream",
     "text": [
      "0 - Build upstream areas 0.7370706869999708s\n",
      "14 : 2\n"
     ]
    },
    {
     "name": "stdout",
     "output_type": "stream",
     "text": [
      "338  iterations, time =  0.4686240259999863\n",
      "Build low point catchments -  0.4696151149999537  seconds\n",
      "0  Sort spills -  0.000791771000024255\n",
      "0  Gather spill data -  0.00013791199995694114\n",
      "0  Sort all spills -  0.0005735510000022259\n"
     ]
    },
    {
     "name": "stdout",
     "output_type": "stream",
     "text": [
      "0 - Build downhill matrices 0.22606496800000286s\n",
      "Low point swamp fill  0.7358163819999959  seconds\n"
     ]
    },
    {
     "name": "stdout",
     "output_type": "stream",
     "text": [
      "0 - Build upstream areas 0.7942136980000214s\n",
      "15 : 2\n"
     ]
    },
    {
     "name": "stdout",
     "output_type": "stream",
     "text": [
      "338  iterations, time =  0.4439098139999942\n",
      "Build low point catchments -  0.4448787019999827  seconds\n",
      "0  Sort spills -  0.0006659599999920829\n",
      "0  Gather spill data -  0.00010650900003383867\n",
      "0  Sort all spills -  0.0004604409999728887\n"
     ]
    },
    {
     "name": "stdout",
     "output_type": "stream",
     "text": [
      "0 - Build downhill matrices 0.21685787100000198s\n",
      "Low point swamp fill  0.6986114620000308  seconds\n"
     ]
    },
    {
     "name": "stdout",
     "output_type": "stream",
     "text": [
      "0 - Build upstream areas 0.7924208919999955s\n",
      "16 : 2\n"
     ]
    },
    {
     "name": "stdout",
     "output_type": "stream",
     "text": [
      "338  iterations, time =  0.4937240589999874\n",
      "Build low point catchments -  0.49465554099992914  seconds\n",
      "0  Sort spills -  0.0008461749999923995\n",
      "0  Gather spill data -  0.00013171199998396332\n",
      "0  Sort all spills -  0.000559448999979395\n"
     ]
    },
    {
     "name": "stdout",
     "output_type": "stream",
     "text": [
      "0 - Build downhill matrices 0.2208230270000513s\n",
      "Low point swamp fill  0.7545287209999287  seconds\n"
     ]
    },
    {
     "name": "stdout",
     "output_type": "stream",
     "text": [
      "0 - Build upstream areas 0.7463690970000698s\n",
      "17 : 2\n"
     ]
    },
    {
     "name": "stdout",
     "output_type": "stream",
     "text": [
      "338  iterations, time =  0.46848333699995237\n",
      "Build low point catchments -  0.46943902099997104  seconds\n",
      "0  Sort spills -  0.0007695680000097127\n",
      "0  Gather spill data -  0.00010611000004701054\n",
      "0  Sort all spills -  5.750499997247971e-05\n"
     ]
    },
    {
     "name": "stdout",
     "output_type": "stream",
     "text": [
      "0 - Build downhill matrices 0.2258613899999773s\n",
      "Low point swamp fill  0.7388896429999932  seconds\n"
     ]
    },
    {
     "name": "stdout",
     "output_type": "stream",
     "text": [
      "0 - Build upstream areas 0.7771431889999576s\n",
      "18 : 2\n"
     ]
    },
    {
     "name": "stdout",
     "output_type": "stream",
     "text": [
      "338  iterations, time =  0.4971707670000569\n",
      "Build low point catchments -  0.49824555999998665  seconds\n",
      "0  Sort spills -  0.0008556750000252578\n",
      "0  Gather spill data -  0.000123510999969767\n",
      "0  Sort all spills -  0.00022462000003997673\n"
     ]
    },
    {
     "name": "stdout",
     "output_type": "stream",
     "text": [
      "0 - Build downhill matrices 0.2274553400000059s\n",
      "Low point swamp fill  0.7671343150000212  seconds\n"
     ]
    },
    {
     "name": "stdout",
     "output_type": "stream",
     "text": [
      "0 - Build upstream areas 0.7442347070000324s\n",
      "19 : 2\n"
     ]
    },
    {
     "name": "stdout",
     "output_type": "stream",
     "text": [
      "338  iterations, time =  0.46133055899997544\n",
      "Build low point catchments -  0.4622818410000491  seconds\n",
      "0  Sort spills -  0.0008238709999659477\n",
      "0  Gather spill data -  0.00013691199990262248\n",
      "0  Sort all spills -  0.0006020519999765384\n"
     ]
    },
    {
     "name": "stdout",
     "output_type": "stream",
     "text": [
      "0 - Build downhill matrices 0.2169968580000159s\n",
      "Low point swamp fill  0.7192394539999896  seconds\n"
     ]
    }
   ],
   "source": [
    "## Quagmire also has a swamp filling algorithm\n",
    "\n",
    "mesh1s = QuagMesh(DM)\n",
    "with mesh1s.deform_topography():\n",
    "    mesh1s.topography.data = mesh.topography.data\n",
    "    \n",
    "mesh1s.low_points_local_patch_fill(its=5, smoothing_steps=1)\n",
    "\n",
    "for i in range(0,50):\n",
    "    mesh1s.low_points_swamp_fill(ref_height=-0.01)\n",
    "    \n",
    "    # In parallel, we can't break if ANY processor has work to do (barrier / sync issue)\n",
    "    low_points2 = mesh1s.identify_global_low_points()\n",
    "    \n",
    "    print(\"{} : {}\".format(i,low_points2[0]))\n",
    "    if low_points2[0] == 0:\n",
    "        break"
   ]
  },
  {
   "cell_type": "code",
   "execution_count": null,
   "metadata": {},
   "outputs": [],
   "source": [
    "rainfall_fn_1s  = mesh1s.topography ** 2.0\n",
    "flowrate_fn_1s  = mesh1s.upstream_integral_fn(rainfall_fn_1s)\n",
    "str_power_fn_1s = mesh1s.upstream_integral_fn(rainfall_fn_1s)**2.0 * mesh.slope ** 2.0"
   ]
  },
  {
   "cell_type": "markdown",
   "metadata": {},
   "source": [
    "## Locating and viewing the outflow points\n",
    "\n",
    "`quagmire` provides a mechanism to find the outflow points of a domain and return the node values. *Note:* in parallel these are the local node numbers and are not a unique ID. To do this, we can obtain the global ID from PETSc but it does also help to have the indices all be small numbers so we can map colours effectively."
   ]
  },
  {
   "cell_type": "code",
   "execution_count": null,
   "metadata": {},
   "outputs": [],
   "source": [
    "outflows = mesh1s.identify_outflow_points()\n",
    "print(\"Mesh has {} outflows\".format(outflows.shape[0]))"
   ]
  },
  {
   "cell_type": "code",
   "execution_count": null,
   "metadata": {},
   "outputs": [],
   "source": [
    "import quagmire\n",
    "print(quagmire.mesh.check_object_is_a_q_mesh_and_raise(mesh1s))"
   ]
  },
  {
   "cell_type": "code",
   "execution_count": null,
   "metadata": {},
   "outputs": [],
   "source": [
    "import lavavu\n",
    "\n",
    "outpoints = np.column_stack([mesh.tri.points[outflows], heightn[outflows]])\n",
    "points = np.column_stack([mesh.tri.points, heightn])\n",
    "\n",
    "lv = lavavu.Viewer(border=False, background=\"#FFFFFF\", resolution=[600,600], near=-10.0)\n",
    "\n",
    "nodes = lv.points(\"nodes\", pointsize=10.0, pointtype=\"shiny\", colour=\"#FF0000\" )\n",
    "nodes.vertices(outpoints)\n",
    "\n",
    "tri1 = lv.triangles(\"triangles\", wireframe=False)\n",
    "tri1.vertices(points)\n",
    "tri1.indices(mesh.tri.simplices)\n",
    "\n",
    "tri1.values(np.log(flowrate_fn_1s.evaluate(mesh1s)), \"cum-rain-swamp\")\n",
    "tri1.values(np.log(flowrate_fn.evaluate(mesh)),     \"cumulative rain\")\n",
    "\n",
    "tri1.colourmap(\"#BBEEBB #889988 #000099\")\n",
    "tri1.colourbar()\n",
    "\n",
    "## Swamped\n",
    "\n",
    "points = np.column_stack([mesh1s.tri.points, mesh1s.topography.data-0.01])\n",
    "\n",
    "tri2 = lv.triangles(\"triangles2\", wireframe=False)\n",
    "tri2.vertices(points)\n",
    "tri2.indices(mesh1s.tri.simplices)\n",
    "\n",
    "tri2.values(mesh1s.topography.data-mesh.topography.data,   \"swamps\")\n",
    "tri2.values(np.ones_like(mesh1s.topography.data), \"blank\")\n",
    "tri2.values(np.log(flowrate_fn_1s.evaluate(mesh1s)), \"cum-rain-swamp\")\n",
    "\n",
    "tri2.colourmap(\"#003366:0.5, #000099:0.8, #000099\")\n",
    "tri2.colourbar()\n",
    "\n",
    "\n",
    "lv.control.Panel()\n",
    "lv.control.ObjectList()\n",
    "tri1.control.List(options=[\"cum-rain-swamp\",\n",
    "                   \"cumulative rain\", \n",
    "                   ], property=\"colourby\", command=\"redraw\")\n",
    "\n",
    "tri2.control.List(options=[\"blank\", \"swamps\", \n",
    "                   \"cum-rain-swamp\"], property=\"colourby\", command=\"redraw\")\n",
    "\n",
    "\n",
    "lv.control.show()"
   ]
  },
  {
   "cell_type": "code",
   "execution_count": null,
   "metadata": {},
   "outputs": [],
   "source": [
    "## Stream power / slope where the lakes / swamps are located:"
   ]
  },
  {
   "cell_type": "markdown",
   "metadata": {},
   "source": [
    "## Set neighbours to 1 and compute \"uphill\" connectivity\n",
    "\n",
    "In serial, i.e. for this demonstration, we number the outflow points by their order in the local mesh numbering. We can then use the `mesh.uphill_propagation` routine to propagate this information from the outflow to the top of the catchment. \n",
    "\n",
    "This routine returns the mesh data (for this processor) of a globally synchronised map of the information propagated from the selected points. \n",
    "\n",
    "The routine is used in the computation of flood fills for the swamp algorithm and should be polished up a bit (sorry)."
   ]
  },
  {
   "cell_type": "code",
   "execution_count": null,
   "metadata": {},
   "outputs": [],
   "source": [
    "## Unique catchments requires the downhill matrix with downhill_neighbours=1\n",
    "\n",
    "mesh1s.near_neighbours=1\n",
    "# mesh1s.update_height(mesh1s.heightVariable.data)"
   ]
  },
  {
   "cell_type": "code",
   "execution_count": null,
   "metadata": {},
   "outputs": [],
   "source": [
    "## Need a unique ID that works in parallel ... global node number would work but \n",
    "## not that easy to map to colours in lavavu \n",
    "\n",
    "from petsc4py import PETSc\n",
    "outflows\n",
    "outflowID = mesh1s.lgmap_row.apply(outflows.astype(PETSc.IntType))\n",
    "\n",
    "# But on 1 proc, this is easier / better:\n",
    "\n",
    "outflowID = np.array(range(0, outflows.shape[0]))\n",
    "ctmt = mesh1s.uphill_propagation(outflows,  outflowID, its=99999, fill=-999999).astype(np.int)"
   ]
  },
  {
   "cell_type": "markdown",
   "metadata": {},
   "source": [
    "## Visualise the catchment information"
   ]
  },
  {
   "cell_type": "code",
   "execution_count": null,
   "metadata": {},
   "outputs": [],
   "source": [
    "import lavavu\n",
    "\n",
    "outpoints = np.column_stack([mesh.tri.points[outflows], heightn[outflows]])\n",
    "points = np.column_stack([mesh.tri.points, mesh1s.topography.data])\n",
    "\n",
    "lv = lavavu.Viewer(border=False, background=\"#FFFFFF\", resolution=[900,600], near=-10.0)\n",
    "\n",
    "nodes = lv.points(\"nodes\", pointsize=10.0, pointtype=\"shiny\", colour=\"#FF0000\" )\n",
    "nodes.vertices(outpoints)\n",
    "\n",
    "tri1 = lv.triangles(\"triangles\", wireframe=False, opacity=1.0)\n",
    "tri1.vertices(points)\n",
    "tri1.indices(mesh.tri.simplices)\n",
    "tri1.values(np.log(flowrate_fn_1s.evaluate(mesh1s)),\"cum-rain-swamp\")\n",
    "\n",
    "tri1.colourmap(\"#BBEEBB:0.0, #889988:0.2, #889988:0.2, #0000FF:0.2, #0000FF\")\n",
    "tri1.colourbar(visible=False)\n",
    "\n",
    "## Swamped\n",
    "\n",
    "tri2 = lv.triangles(\"triangles2\", wireframe=False)\n",
    "tri2.vertices(points-(0.0,0.0,0.01))\n",
    "tri2.indices(mesh1s.tri.simplices)\n",
    "\n",
    "tri2.values(ctmt,   \"catchments\")\n",
    "\n",
    "tri2.colourmap(\"spectral\", discrete=True, range=[0, outflows.shape[0]-1])\n",
    "tri2.colourbar(visible=False)\n",
    "\n",
    "tri3 = lv.triangles(\"triangles3\", wireframe=False)\n",
    "tri3.vertices(points-(0.0,0.0,0.005))\n",
    "\n",
    "tri3.indices(mesh1s.tri.simplices)\n",
    "tri3.values(mesh1s.topography.data-mesh.topography.data,   \"swamps\")\n",
    "tri3.colourmap(\"#003366:0.0, #000099,  #000099, #000099, #0000FF\")\n",
    "tri3.colourbar(visible=False)\n",
    "\n",
    "\n",
    "lv.control.Panel()\n",
    "lv.control.ObjectList()\n",
    "\n",
    "lv.control.show()"
   ]
  },
  {
   "cell_type": "code",
   "execution_count": null,
   "metadata": {},
   "outputs": [],
   "source": []
  }
 ],
 "metadata": {
  "jupytext": {
   "text_representation": {
    "extension": ".md",
    "format_name": "myst",
    "format_version": 0.12,
    "jupytext_version": "1.6.0"
   }
  },
  "kernelspec": {
   "display_name": "Python 3",
   "language": "python",
   "name": "python3"
  },
  "language_info": {
   "codemirror_mode": {
    "name": "ipython",
    "version": 3
   },
   "file_extension": ".py",
   "mimetype": "text/x-python",
   "name": "python",
   "nbconvert_exporter": "python",
   "pygments_lexer": "ipython3",
   "version": "3.7.8"
  },
  "source_map": [
   12,
   31,
   36,
   42,
   67,
   96,
   100,
   120,
   125,
   131,
   136,
   141,
   191,
   193,
   203,
   210,
   222,
   226,
   271
  ]
 },
 "nbformat": 4,
 "nbformat_minor": 4
}