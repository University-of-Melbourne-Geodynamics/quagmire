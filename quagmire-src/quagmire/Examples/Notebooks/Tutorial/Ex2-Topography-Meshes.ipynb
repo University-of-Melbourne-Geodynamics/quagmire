{
 "cells": [
  {
   "cell_type": "markdown",
   "metadata": {},
   "source": [
    "## Example 2 - Meshes for Topography \n",
    "\n",
    "This notebook introduces the `TopoMesh` object, which builds the following data structures:\n",
    "\n",
    "- hill slope\n",
    "- downhill propagation matrices\n",
    "- upstream area\n",
    "\n",
    "in addition to the data structures inherited from `FlatMesh`. These form the necessary structures to propagate information from higher to lower elevations. Derivatives are computed on the mesh to calculate the height field, smoothing operators are available to reduce short wavelength features and artefacts.\n",
    "\n",
    "In this notebook we setup a height field and calculate its derivatives on an unstructued mesh. We smooth the derivatives using the radial-basis function (RBF) smoothing kernel.\n",
    "\n",
    "> Note: The API for the structured mesh is identical\n",
    "\n",
    "#### Contents\n",
    "\n",
    "- [Height field](#Height-field)\n",
    "- [Derivatives and hill slope](#Derivatives-and-hill-slope)\n",
    "- [Upstream area and stream power](#Upstream-area-and-stream-power)\n",
    "- [Outflow analysis](#Outflow analysis)"
   ]
  },
  {
   "cell_type": "code",
   "execution_count": 1,
   "metadata": {},
   "outputs": [],
   "source": [
    "from quagmire.tools import meshtools\n",
    "from quagmire import FlatMesh, TopoMesh, SurfaceProcessMesh"
   ]
  },
  {
   "cell_type": "code",
   "execution_count": 2,
   "metadata": {},
   "outputs": [],
   "source": [
    "import matplotlib.pyplot as plt\n",
    "import numpy as np\n",
    "# from scipy.ndimage import imread\n",
    "# from quagmire import tools as meshtools\n",
    "# from quagmire import SurfaceProcessMesh\n",
    "%matplotlib inline"
   ]
  },
  {
   "cell_type": "code",
   "execution_count": 3,
   "metadata": {},
   "outputs": [],
   "source": [
    "minX, maxX = -5.0, 5.0\n",
    "minY, maxY = -5.0, 5.0,\n",
    "dx, dy = 0.02, 0.02\n",
    "\n",
    "x, y, simplices = meshtools.elliptical_mesh(minX, maxX, minY, maxY, dx, dy)\n",
    "\n",
    "DM = meshtools.create_DMPlex_from_points(x, y, bmask=None)"
   ]
  },
  {
   "cell_type": "code",
   "execution_count": 4,
   "metadata": {},
   "outputs": [
    {
     "name": "stdout",
     "output_type": "stream",
     "text": [
      "0 - Delaunay triangulation 0.383572s\n",
      "0 - Calculate node weights and area 0.00742699999999985s\n",
      "0 - Find boundaries 0.00033199999999933283s\n",
      "0 - cKDTree 0.009533999999999487s\n",
      "0 - Construct neighbour cloud array 0.3461350000000003s\n",
      "0 - Construct rbf weights 0.07085700000000017s\n",
      "Triangulation has 62234 points\n"
     ]
    }
   ],
   "source": [
    "mesh = TopoMesh(DM, downhill_neighbours=1)\n",
    "\n",
    "print (\"Triangulation has {} points\".format(mesh.npoints))"
   ]
  },
  {
   "cell_type": "markdown",
   "metadata": {},
   "source": [
    "## Height field\n",
    "\n",
    "We generate a cylindrically symmetry domed surface and add multiple channels incised along the boundary. The height and slope fields reside as attributes on the `SurfaceProcessMesh` instance."
   ]
  },
  {
   "cell_type": "code",
   "execution_count": null,
   "metadata": {},
   "outputs": [],
   "source": [
    "radius  = np.sqrt((x**2 + y**2))\n",
    "theta   = np.arctan2(y,x) + 0.1\n",
    "\n",
    "height  = np.exp(-0.025*(x**2 + y**2)**2) + 0.25 * (0.2*radius)**4  * np.cos(5.0*theta)**2 ## Less so\n",
    "height  += 0.5 * (1.0-0.2*radius)\n",
    "height  += np.random.random(height.size) * 0.01 # random noise"
   ]
  },
  {
   "cell_type": "code",
   "execution_count": null,
   "metadata": {},
   "outputs": [],
   "source": [
    "mesh.update_height(height)\n"
   ]
  },
  {
   "cell_type": "markdown",
   "metadata": {},
   "source": [
    "## Derivatives and hill slopes\n",
    "\n",
    "**Derivatives** can be evaluated on the mesh using the inbuilt routine in the `stripy` object. It employs automatically selected tension factors to preserve shape properties of the data and avoid overshoot and undershoot associated with steep gradients. **Note:** In parallel it is wise to check if this tensioning introduces artefacts near the boundaries.\n",
    "\n",
    "```python\n",
    "dfdx, dfdy = mesh.derivative_grad(f, nit=10, tol=1e-8):\n",
    "```\n",
    "\n",
    "where `nit` and `tol` control the convergence criteria.\n",
    "\n",
    "---\n",
    "\n",
    "The **radial-basis function** (RBF) smoothing kernel works by setting up a series of gaussian functions based on the distance $d$ between neighbouring nodes and a `delta` scaling factor, $\\Delta$:\n",
    "\n",
    "$$\n",
    "W_i = \\frac{\\exp \\left( \\frac{d_i}{\\Delta} \\right)^2}{\\sum_{i} \\left( \\frac{d_i}{\\Delta} \\right)^2}\n",
    "$$\n",
    "\n",
    "`delta` is set to the mean distance between nodes by default, but it may be changed to increase or decrease the _smoothness_:\n",
    "\n",
    "```python\n",
    "smoothed_field = mesh.rbf_smoother(field, iterations=1, delta=None)\n",
    "```"
   ]
  },
  {
   "cell_type": "code",
   "execution_count": null,
   "metadata": {},
   "outputs": [],
   "source": [
    "def smooth_slope(mesh, height, delta=None):\n",
    "    \"\"\" Compute the slope using the RBF smoothing kernel \"\"\"\n",
    "    \n",
    "    mesh._construct_rbf_weights(delta)\n",
    "    rbf_height = mesh.rbf_smoother(height)\n",
    "    rbf_gradx, rbf_grady = mesh.derivative_grad(rbf_height)\n",
    "    return np.hypot(rbf_gradx, rbf_grady)\n",
    "\n",
    "\n",
    "# analytic slope\n",
    "\n",
    "rbf_slope1 = smooth_slope(mesh, mesh.heightVariable.data, delta=0.01)\n",
    "rbf_slope2 = smooth_slope(mesh, mesh.heightVariable.data, delta=0.03)\n",
    "rbf_slope3 = smooth_slope(mesh, mesh.heightVariable.data, delta=0.05)\n"
   ]
  },
  {
   "cell_type": "code",
   "execution_count": null,
   "metadata": {},
   "outputs": [],
   "source": [
    "import lavavu\n",
    "\n",
    "points = np.column_stack([mesh.tri.points, height])\n",
    "\n",
    "lv = lavavu.Viewer(border=False, background=\"#FFFFFF\", resolution=[1000,600], near=-10.0)\n",
    "\n",
    "tri1 = lv.triangles(\"triangles\")\n",
    "tri1.vertices(points)\n",
    "tri1.indices(mesh.tri.simplices)\n",
    "tri1.values(mesh.slopeVariable.data, \"slope\")\n",
    "tri1.values(rbf_slope1, \"smooth_slope1\")\n",
    "tri1.values(rbf_slope2, \"smooth_slope2\")\n",
    "tri1.values(rbf_slope3, \"smooth_slope3\")\n",
    "\n",
    "tri1.colourmap(\"#990000 #FFFFFF #000099\")\n",
    "tri1.colourbar()\n",
    "\n",
    "lv.control.Panel()\n",
    "lv.control.ObjectList()\n",
    "tri1.control.List([\"slope\", \"smooth_slope1\", \"smooth_slope2\", \"smooth_slope3\", ], property=\"colourby\", value=\"orginal\", command=\"redraw\")\n",
    "lv.control.show()"
   ]
  },
  {
   "cell_type": "markdown",
   "metadata": {},
   "source": [
    "We can smooth the topography itself (not just the slope) \n",
    "\n",
    "\n"
   ]
  },
  {
   "cell_type": "code",
   "execution_count": null,
   "metadata": {},
   "outputs": [],
   "source": [
    "mesh._construct_rbf_weights(mesh.neighbour_cloud_distances.mean()*0.5)\n",
    "smoothed_height = mesh.rbf_smoother(mesh.heightVariable.data)\n",
    "\n",
    "mesh1 = SurfaceProcessMesh(DM)\n",
    "mesh1.update_height(smoothed_height)\n"
   ]
  },
  {
   "cell_type": "code",
   "execution_count": null,
   "metadata": {},
   "outputs": [],
   "source": [
    "points = np.column_stack([mesh1.tri.points, mesh1.heightVariable.data])\n",
    "\n",
    "lv = lavavu.Viewer(border=False, background=\"#FFFFFF\", resolution=[1000,600], near=-10.0)\n",
    "\n",
    "tri1 = lv.triangles(\"triangles\")\n",
    "tri1.vertices(points)\n",
    "tri1.indices(mesh1.tri.simplices)\n",
    "tri1.values(mesh1.slopeVariable.data, \"slope\")\n",
    "tri1.values(mesh1.heightVariable.data-mesh.heightVariable.data, \"deltah\")\n",
    "tri1.values(mesh1.slopeVariable.data-mesh.slopeVariable.data, \"delta slope\")\n",
    "\n",
    "tri1.colourmap(\"#990000 #FFFFFF #000099\")\n",
    "tri1.colourbar()\n",
    "\n",
    "lv.control.Panel()\n",
    "lv.control.ObjectList()\n",
    "tri1.control.List([\"slope\", \"deltah\", \"delta slope\" ], property=\"colourby\", value=\"orginal\", command=\"redraw\")\n",
    "lv.control.show()"
   ]
  }
 ],
 "metadata": {
  "kernelspec": {
   "display_name": "Python 3",
   "language": "python",
   "name": "python3"
  },
  "language_info": {
   "codemirror_mode": {
    "name": "ipython",
    "version": 3
   },
   "file_extension": ".py",
   "mimetype": "text/x-python",
   "name": "python",
   "nbconvert_exporter": "python",
   "pygments_lexer": "ipython3",
   "version": "3.5.3"
  }
 },
 "nbformat": 4,
 "nbformat_minor": 2
}
