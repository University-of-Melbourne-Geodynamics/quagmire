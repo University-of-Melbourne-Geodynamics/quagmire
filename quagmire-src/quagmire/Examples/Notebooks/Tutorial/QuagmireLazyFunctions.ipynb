{
 "cells": [
  {
   "cell_type": "markdown",
   "metadata": {},
   "source": [
    "## Quagmire.function\n",
    "\n",
    "Like Underworld, quagmire provides a function interface that can be used to compose data and operations on the fly in order to construct model equations independent of whatever approach is used for solution. \n",
    "\n",
    "Noteably, these are _lazy_ function that are only evaluated when needed. More importantly, when evaluated, they also use the current state of any variables in their definition and so can be placed within timestepping loops where they will always use the information of the current timestep.\n",
    "\n",
    "There are three kinds of lazy functions available in quagmire:\n",
    "\n",
    "  - `MeshVariable` data containers that hold information on the mesh and can return that information at any point by interpolation (or, less reliably by extrapolation) and can also provide the gradient of the data using a cubic spline interpolant (see the documentation for `stripy` for details).\n",
    "  \n",
    "  - `parameter` is a floating point value that can be used for coefficients in an equation. The value of the parameter can be updated.\n",
    "  \n",
    "  - `virtual` variables which are operations on `MeshVariables` and `parameters` and contain no data record. \n",
    "  \n",
    "  \n",
    "These lazy functions are members of the `LazyEvaluation` class that defines the following methods / data\n",
    "\n",
    "  - `evaluate(mesh | X, Y)` computes a snapshot of the value(s) at the mesh points of `mesh` or at the points given by X and Y\n",
    "  \n",
    "  - `fn_gradient(dir)` is a lazy function that can be evaluated to obtain the gradient in the direction `dir=(0|1)`\n",
    "  \n",
    "  - `description` is a string describing the result returned by `evaluate`. This is helpful because the function may be a cascade of operations. It very much helps to provide short, useful names for your mesh variables to get back reasonable descriptions. \n",
    "  \n",
    "Note: at present no error checking is done for consistency between the mesh provided to evaluate and the one used to store the original data. This is very bad on our part !"
   ]
  },
  {
   "cell_type": "code",
   "execution_count": 1,
   "metadata": {},
   "outputs": [],
   "source": [
    "from quagmire.tools import meshtools\n",
    "from quagmire import FlatMesh\n",
    "from quagmire.mesh import MeshVariable\n",
    "from quagmire import function as fn\n",
    "import numpy as np"
   ]
  },
  {
   "cell_type": "markdown",
   "metadata": {},
   "source": [
    "### Working mesh\n",
    "\n",
    "First we create a basic mesh so that we can define mesh variables and obbtain gradients etc."
   ]
  },
  {
   "cell_type": "code",
   "execution_count": 2,
   "metadata": {},
   "outputs": [
    {
     "name": "stdout",
     "output_type": "stream",
     "text": [
      "0 - Delaunay triangulation 0.6810939999999999s\n",
      "0 - Calculate node weights and area 0.007634999999999614s\n",
      "0 - Find boundaries 0.00029799999999990945s\n",
      "0 - cKDTree 0.01638800000000007s\n",
      "0 - Construct neighbour cloud array 0.6428510000000003s\n",
      "0 - Construct rbf weights 0.0578890000000003s\n"
     ]
    }
   ],
   "source": [
    "minX, maxX = -5.0, 5.0\n",
    "minY, maxY = -5.0, 5.0,\n",
    "dx, dy = 0.02, 0.02\n",
    "\n",
    "x, y, simplices = meshtools.elliptical_mesh(minX, maxX, minY, maxY, dx, dy)\n",
    "DM = meshtools.create_DMPlex_from_points(x, y, bmask=None)\n",
    "mesh = FlatMesh(DM, downhill_neighbours=1)"
   ]
  },
  {
   "cell_type": "markdown",
   "metadata": {},
   "source": [
    "### Basic usage\n",
    "\n",
    "The functions can be demonstrated on the most basic example the `parameter` which is constant everywhere in the mesh. In fact, these operations work without any reference to the mesh since they are the same at all locations and their gradient is zero everywhere. "
   ]
  },
  {
   "cell_type": "code",
   "execution_count": 3,
   "metadata": {},
   "outputs": [
    {
     "name": "stdout",
     "output_type": "stream",
     "text": [
      "Exp(10.0) = 22026.465794806718\n",
      "Exp(100.0) = 2.6881171418161356e+43\n",
      "Exp(10.0) = 22026.465794806718\n",
      "Exp(100.0) = 2.6881171418161356e+43\n",
      "Exp(101.0) = 7.307059979368067e+43\n",
      "1.0\n"
     ]
    }
   ],
   "source": [
    "A = fn.parameter(10.0)\n",
    "B = fn.parameter(100.0)\n",
    "print(\"Exp({}) = {}\".format(A.value, fn.math.exp(A).evaluate(0.0,0.0)))\n",
    "print(\"Exp({}) = {}\".format(B.value, fn.math.exp(B).evaluate(0.0,0.0)))\n",
    "\n",
    "## A is a proper lazy variable too so this is required to work\n",
    "\n",
    "print(\"Exp({}) = {}\".format(A.evaluate(0.0,0.0), fn.math.exp(A).evaluate(0.0,0.0)))\n",
    "\n",
    "## And this is how to update A\n",
    "\n",
    "A.value = 100.0\n",
    "print(\"Exp({}) = {}\".format(A.evaluate(0.0,0.0), fn.math.exp(A).evaluate(0.0,0.0)))\n",
    "\n",
    "## This works too ... and note the floating point conversion\n",
    "A(101)\n",
    "print(\"Exp({}) = {}\".format(A.evaluate(0.0,0.0), fn.math.exp(A).evaluate(0.0,0.0)))\n",
    "\n",
    "## More complicated examples\n",
    "print((fn.math.sin(A)**2.0 + fn.math.cos(A)**2.0).evaluate(0.0,0.0))"
   ]
  },
  {
   "cell_type": "markdown",
   "metadata": {},
   "source": [
    "### Descriptions\n",
    "\n",
    "The lazy function carries a description string that tells you approximately what will happen when the function is evaluated. For example"
   ]
  },
  {
   "cell_type": "code",
   "execution_count": 4,
   "metadata": {},
   "outputs": [
    {
     "name": "stdout",
     "output_type": "stream",
     "text": [
      "101.0\n",
      "(SIN(101.0))+(COS(100.0))\n",
      "((SIN(101.0))**(2.0))+((COS(101.0))**(2.0))\n",
      "quagmire.fn: ((SIN(101.0))**(2.0))+((COS(101.0))**(2.0))\n"
     ]
    }
   ],
   "source": [
    "print(A.description)\n",
    "print((fn.math.sin(A)+fn.math.cos(B)).description)\n",
    "print((fn.math.sin(A)**2.0 + fn.math.cos(A)**2.0).description)\n",
    "\n",
    "## the description is printed by default if you call print on the function \n",
    "\n",
    "print((fn.math.sin(A)**2.0 + fn.math.cos(A)**2.0))\n",
    "\n"
   ]
  },
  {
   "cell_type": "markdown",
   "metadata": {},
   "source": [
    "### Mesh Variables as functions\n",
    "\n",
    "Mesh variables (`MeshVariables`) are also members of the `LazyEvaluation` class. They can be evaluated exactly as the paramters can, but it is also possible to obtain derivatives. Of course, they also have other properties beyond those of simple functions (see the MeshVariables examples in the XXXXX notebook for details).\n",
    "\n",
    "Let us first define a mesh variable ... "
   ]
  },
  {
   "cell_type": "code",
   "execution_count": 5,
   "metadata": {},
   "outputs": [
    {
     "name": "stdout",
     "output_type": "stream",
     "text": [
      "[1. 1. 1. ... 1. 1. 1.]\n"
     ]
    }
   ],
   "source": [
    "height = mesh.add_variable(name=\"h(X,Y)\")\n",
    "height.data = np.ones(mesh.npoints)\n",
    "print(height)"
   ]
  },
  {
   "cell_type": "markdown",
   "metadata": {},
   "source": [
    "We might introduce a universal scaling for the height variable. This could be useful if, say, the offset is something that we might want to change programmatically within a timestepping loop. "
   ]
  },
  {
   "cell_type": "code",
   "execution_count": 6,
   "metadata": {},
   "outputs": [
    {
     "name": "stdout",
     "output_type": "stream",
     "text": [
      "((h(X,Y))*(2.0))+(1.0)\n",
      "[1. 1. 1. ... 1. 1. 1.]\n",
      "[3. 3. 3. ... 3. 3. 3.]\n",
      "[12. 12. 12. ... 12. 12. 12.]\n"
     ]
    }
   ],
   "source": [
    "h_scale = fn.parameter(2.0)\n",
    "h_offset = fn.parameter(1.0)\n",
    "\n",
    "scaled_height = height * h_scale + h_offset\n",
    "print(scaled_height.description)\n",
    "print(height.evaluate(mesh))\n",
    "print(scaled_height.evaluate(mesh))\n",
    "\n",
    "h_offset.value = 10.0\n",
    "print(scaled_height.evaluate(mesh))"
   ]
  },
  {
   "cell_type": "markdown",
   "metadata": {},
   "source": [
    "We might wish to define a rainfall parameter that is a function of height that can be passed in to some existing code. The use of functions is perfect for this. "
   ]
  },
  {
   "cell_type": "code",
   "execution_count": 7,
   "metadata": {},
   "outputs": [
    {
     "name": "stdout",
     "output_type": "stream",
     "text": [
      "quagmire.fn: (((h(X,Y))*(2.0))+(1.0))**(2.2)\n",
      "[236.70026345 236.70026345 236.70026345 ... 236.70026345 236.70026345\n",
      " 236.70026345]\n"
     ]
    }
   ],
   "source": [
    "rainfall_exponent = fn.parameter(2.2)\n",
    "rainfall = scaled_height**rainfall_exponent\n",
    "print(rainfall)\n",
    "print(rainfall.evaluate(mesh))"
   ]
  },
  {
   "cell_type": "markdown",
   "metadata": {},
   "source": [
    "The rainfall definition is live to any changes in the height but we can also adjust the rainfall parameters on the fly ... "
   ]
  },
  {
   "cell_type": "code",
   "execution_count": 8,
   "metadata": {},
   "outputs": [
    {
     "name": "stdout",
     "output_type": "stream",
     "text": [
      "Height: [ 0.02828304 -0.01414116 -0.01413704 ...  0.68496455  0.68700669\n",
      "  0.68822664]\n",
      "Rainfall Fn evaluation: [160.46834176 157.50485419 157.50514032 ... 210.21662774 210.38279282\n",
      " 210.48209232]\n",
      "Rainfall Direct       : [160.46834176 157.50485419 157.50514032 ... 210.21662774 210.38279282\n",
      " 210.48209232]\n",
      "Rainfall Fn evaluation: [10.05656607  9.97171768  9.97172591 ... 11.36992911 11.37401337\n",
      " 11.37645327]\n",
      "Rainfall Direct       : [160.46834176 157.50485419 157.50514032 ... 210.21662774 210.38279282\n",
      " 210.48209232]\n"
     ]
    }
   ],
   "source": [
    "height.data = np.sin(mesh.coords[:,0])\n",
    "print(\"Height:\", height.data)\n",
    "print(\"Rainfall Fn evaluation:\",rainfall.evaluate(mesh))\n",
    "print(\"Rainfall Direct       :\",(height.data*2.0+10.0)**2.2)\n",
    "\n",
    "# change definition of rainfall coefficient but not functional form\n",
    "\n",
    "rainfall_exponent.value = 1.0\n",
    "print(\"Rainfall Fn evaluation:\",rainfall.evaluate(mesh))\n",
    "print(\"Rainfall Direct       :\",(height.data*2.0+10.0)**2.2)"
   ]
  },
  {
   "cell_type": "markdown",
   "metadata": {},
   "source": [
    "While functions are most useful because they are not computed once and for all, it is also possible to compute their values and assign to a variable. Just be aware that, at this point, numpy has  a greater richness of operators than `quagmire.function`. We can rewrite the above assignment to the height variable using the `coord` function that extracts values of the x or y ( 0 or 1 ) coordinate direction from the locations given as arguments to `evaluate`."
   ]
  },
  {
   "cell_type": "code",
   "execution_count": 9,
   "metadata": {},
   "outputs": [
    {
     "name": "stdout",
     "output_type": "stream",
     "text": [
      "Height:   [ 0.02828304 -0.01414116 -0.01413704 ...  0.68496455  0.68700669\n",
      "  0.68822664]\n",
      "Height =  SIN(X)\n"
     ]
    }
   ],
   "source": [
    "height.data = fn.math.sin(fn.misc.coord(0)).evaluate(mesh)\n",
    "print(\"Height:  \", height.data)\n",
    "print(\"Height = \", fn.math.sin(fn.misc.coord(0)).description)"
   ]
  },
  {
   "cell_type": "markdown",
   "metadata": {},
   "source": [
    "### Operator overloading for +, - , *, **, /\n",
    "\n",
    "We define addition / subtraction (negation), multiplication, division, and raising to arbitrary power for mesh variables and parameters and the meaning is carried over from `numpy` - i.e. generally these are element-by-element operations on the underlying data vector and require the data structures to have compatible sizes.\n",
    "\n",
    "It is common to compute a power law of the magnitude of the local slope. \n",
    "\n",
    "$$\n",
    " k = \\left| \\nabla h \\right|^a\n",
    "$$"
   ]
  },
  {
   "cell_type": "code",
   "execution_count": 15,
   "metadata": {},
   "outputs": [
    {
     "name": "stdout",
     "output_type": "stream",
     "text": [
      "quagmire.fn: ((((d(h(X,Y))/dX)**(2.0))+((d(h(X,Y))/dY)**(2.0)))**(0.5))**(1.3)\n",
      "[0.99944353 0.9998964  0.9998964  ... 0.66916704 0.6668987  0.6655553 ]\n"
     ]
    }
   ],
   "source": [
    "dhdx, dhdy = fn.math.grad(height)\n",
    "slope = (dhdx**2 + dhdy**2)**0.5\n",
    "a = fn.parameter(1.3)\n",
    "k = slope**a\n",
    "\n",
    "print(k)\n",
    "print(k.evaluate(mesh))\n"
   ]
  },
  {
   "cell_type": "markdown",
   "metadata": {},
   "source": [
    "### Gradients\n",
    "\n",
    "Variables associated with a mesh also have the capacity to form spatial derivatives anywhere. This is provided by the `stripy` gradient routines in the case of triangulations. The gradient can be formed from any lazy function by evaluating it at the mesh points and then obtaining values of derivatives anywhere via stripy. In the case of the spatially invariant `parameter` objects, the derivatives are identically zero.\n",
    "\n",
    "_Note: there is no symbolic differentiation in the functions module._"
   ]
  },
  {
   "cell_type": "code",
   "execution_count": 11,
   "metadata": {},
   "outputs": [
    {
     "name": "stdout",
     "output_type": "stream",
     "text": [
      "d(h(X,Y))/dX\n",
      "d(((h(X,Y))*(2.0))+(1.0))/dY\n"
     ]
    }
   ],
   "source": [
    "dhdx = height.fn_gradient(0)\n",
    "print(dhdx.description)\n",
    "dh1dy = scaled_height.fn_gradient(1)\n",
    "print(dh1dy.description)"
   ]
  },
  {
   "cell_type": "markdown",
   "metadata": {},
   "source": [
    "Gradients are also accessible through the `grad`, `div` and `curl` operators as follows"
   ]
  },
  {
   "cell_type": "code",
   "execution_count": 12,
   "metadata": {},
   "outputs": [
    {
     "name": "stdout",
     "output_type": "stream",
     "text": [
      "Div.Grad(h)  =  d(d(h(X,Y))/dX)/dX + d(d(h(X,Y))/dY)/dY\n",
      "Curl.Grad(h) =  d(d(h(X,Y))/dY)/dX - d(d(h(X,Y))/dX)/dY\n"
     ]
    }
   ],
   "source": [
    "gradx, grady = fn.math.grad(height)\n",
    "div_grad_h = fn.math.div(gradx, grady)\n",
    "curl_grad_h = fn.math.curl(gradx, grady)\n",
    "print(\"Div.Grad(h)  = \", div_grad_h.description)\n",
    "print(\"Curl.Grad(h) = \", curl_grad_h.description)"
   ]
  },
  {
   "cell_type": "markdown",
   "metadata": {},
   "source": [
    "The following should all evaluate to zero everywhere and so act as a test on the accuracy of the gradient operator "
   ]
  },
  {
   "cell_type": "code",
   "execution_count": 13,
   "metadata": {},
   "outputs": [
    {
     "name": "stdout",
     "output_type": "stream",
     "text": [
      "dhdX (error) =  [-2.80354866e-05  2.02998153e-05  2.02415983e-05 ...  5.59219575e-03\n",
      "  5.60239803e-03  5.62280080e-03]\n",
      "dhdY (error) =  [ 7.6458605e-08 -1.8433055e-05  1.8415878e-05 ... -1.3181510e-04\n",
      " -9.0372239e-05 -5.1293173e-05]\n",
      "Curl.Grad(h) (error) =  [ 2.7576748e-06 -1.7702088e-03  1.7818911e-03 ...  4.0621040e-03\n",
      "  2.5112508e-03  1.5058587e-03]\n"
     ]
    }
   ],
   "source": [
    "print(\"dhdX (error) = \", (gradx-fn.math.cos(fn.misc.coord(0))).evaluate(mesh))\n",
    "print(\"dhdY (error) = \",  grady.evaluate(mesh))\n",
    "print(\"Curl.Grad(h) (error) = \", curl_grad_h.evaluate(mesh))"
   ]
  },
  {
   "cell_type": "code",
   "execution_count": null,
   "metadata": {},
   "outputs": [],
   "source": []
  }
 ],
 "metadata": {
  "kernelspec": {
   "display_name": "Python 3",
   "language": "python",
   "name": "python3"
  },
  "language_info": {
   "codemirror_mode": {
    "name": "ipython",
    "version": 3
   },
   "file_extension": ".py",
   "mimetype": "text/x-python",
   "name": "python",
   "nbconvert_exporter": "python",
   "pygments_lexer": "ipython3",
   "version": "3.5.3"
  }
 },
 "nbformat": 4,
 "nbformat_minor": 2
}
