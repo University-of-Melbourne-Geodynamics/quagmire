{
 "cells": [
  {
   "cell_type": "markdown",
   "metadata": {},
   "source": [
    "## Example 3 - Meshes for Surface Process Models\n",
    "\n",
    "This notebook introduces the `SurfaceProcessMesh` object, which builds upon the `TopoMesh` and introduces methods for finding the stream connectivity, catchment identification and handling local minima.\n",
    "\n",
    "Here we demonstrate the stream flow components of the `SurfaceProcessMesh` \n",
    "\n",
    "> Note: Again, the API for the structured mesh is identical\n",
    "\n",
    "#### Contents\n",
    "\n",
    "- [Upstream area and stream power](#Upstream-area-and-stream-power)\n",
    "- [Outflow analysis](#Outflow analysis)"
   ]
  },
  {
   "cell_type": "code",
   "execution_count": 1,
   "metadata": {},
   "outputs": [],
   "source": [
    "from quagmire.tools import meshtools\n",
    "from quagmire import TopoMesh, SurfaceProcessMesh"
   ]
  },
  {
   "cell_type": "code",
   "execution_count": 2,
   "metadata": {},
   "outputs": [],
   "source": [
    "import matplotlib.pyplot as plt\n",
    "import numpy as np\n",
    "\n",
    "%matplotlib inline"
   ]
  },
  {
   "cell_type": "code",
   "execution_count": 3,
   "metadata": {
    "scrolled": true
   },
   "outputs": [
    {
     "name": "stdout",
     "output_type": "stream",
     "text": [
      "0 - Delaunay triangulation 0.30847999999999987s\n",
      "0 - Calculate node weights and area 0.006652000000000324s\n",
      "0 - Find boundaries 0.00020199999999981344s\n",
      "0 - cKDTree 0.008875999999999884s\n",
      "0 - Construct neighbour cloud array 0.3161489999999998s\n",
      "0 - Construct rbf weights 0.05278399999999994s\n",
      "Triangulation has 62234 points\n"
     ]
    }
   ],
   "source": [
    "minX, maxX = -5.0, 5.0\n",
    "minY, maxY = -5.0, 5.0,\n",
    "dx, dy = 0.02, 0.02\n",
    "\n",
    "x, y, simplices = meshtools.elliptical_mesh(minX, maxX, minY, maxY, dx, dy, random_scale=1.0)\n",
    "\n",
    "DM = meshtools.create_DMPlex_from_points(x, y, bmask=None)\n",
    "\n",
    "mesh = SurfaceProcessMesh(DM, downhill_neighbours=1)\n",
    "\n",
    "print (\"Triangulation has {} points\".format(mesh.npoints))"
   ]
  },
  {
   "cell_type": "markdown",
   "metadata": {},
   "source": [
    "## Height field and Rainfall\n",
    "\n",
    "We generate the usual cylindrically symmetry domed surface and add multiple channels incised along the boundary. Here is it interesting to leave out the random noise to see how discretisation error influence the surface flow paths.\n",
    "\n",
    "The `SurfaceProcessMesh` stores a rainfall pattern that is used to compute the stream power assuming everything goes into the surface runoff it also records a sediment distribution pattern (etc)."
   ]
  },
  {
   "cell_type": "code",
   "execution_count": 4,
   "metadata": {},
   "outputs": [
    {
     "name": "stdout",
     "output_type": "stream",
     "text": [
      "0 - Compute slopes 0.15411399999999986s\n",
      "0 - Build downhill matrices 0.1316790000000001s\n",
      " - Upstream area 0.09476400000000007s\n"
     ]
    }
   ],
   "source": [
    "radius  = np.sqrt((x**2 + y**2))\n",
    "theta   = np.arctan2(y,x) + 0.1\n",
    "\n",
    "height  = np.exp(-0.025*(x**2 + y**2)**2) + 0.25 * (0.2*radius)**4  * np.cos(5.0*theta)**2 \n",
    "height  += 0.5 * (1.0-0.2*radius)\n",
    "heightn  = height + np.random.random(height.size) * 0.01 # random noise\n",
    "\n",
    "mesh.update_height(height)\n",
    "\n",
    "# let's use a rainfall proportional to height (any choice is ok)\n",
    "rainfall = height**2\n",
    "mesh.update_surface_processes(rainfall, np.zeros_like(rainfall))\n"
   ]
  },
  {
   "cell_type": "markdown",
   "metadata": {},
   "source": [
    "## Upstream area and stream power\n",
    "\n",
    "Integrating information upstream is a key component of stream power laws that are often used in landscape evolution models. This is computed by multiple $\\mathbf{D} \\cdot \\mathbf{A}_{\\mathrm{upstream}}$ evaluations to accumulate the area downstream node-by-node on the mesh. This is handled by the `cumulative_flow(vector)` routine.\n",
    "\n",
    "In [derivatives and hill slopes](#Derivatives-and-hill-slopes) we smoothed the entire landscape, however we can also target the RBF kernel to smooth just the streams:\n",
    "\n",
    "```python\n",
    "streamwise_smoothing(data, its, centre_weight=0.75)\n",
    "```\n",
    "\n",
    "where `its` indicates the number of iterations to smooth the field stream-wise. Increasing `its` smooths the field further afield upstream and downstream."
   ]
  },
  {
   "cell_type": "code",
   "execution_count": 5,
   "metadata": {},
   "outputs": [
    {
     "name": "stdout",
     "output_type": "stream",
     "text": [
      "0 - Compute slopes 0.18838200000000027s\n",
      "0 - Build downhill matrices 0.13188299999999975s\n",
      "max stream power = 0.5402, mean stream power = 0.0108\n",
      "max stream power = 1.6268, mean stream power = 0.0165\n",
      "max stream power = 0.5419, mean stream power = 0.0108\n",
      "0 - Compute slopes 0.13362000000000052s\n",
      "0 - Build downhill matrices 0.13373499999999972s\n"
     ]
    },
    {
     "ename": "AttributeError",
     "evalue": "'SurfaceProcessMeshClass' object has no attribute 'rainfall_pattern'",
     "output_type": "error",
     "traceback": [
      "\u001b[0;31m---------------------------------------------------------------------------\u001b[0m",
      "\u001b[0;31mAttributeError\u001b[0m                            Traceback (most recent call last)",
      "\u001b[0;32m<ipython-input-5-7031c981f5fc>\u001b[0m in \u001b[0;36m<module>\u001b[0;34m\u001b[0m\n\u001b[1;32m     41\u001b[0m \u001b[0mmesh\u001b[0m\u001b[0;34m.\u001b[0m\u001b[0mupdate_height\u001b[0m\u001b[0;34m(\u001b[0m\u001b[0mheightn\u001b[0m\u001b[0;34m)\u001b[0m\u001b[0;34m\u001b[0m\u001b[0m\n\u001b[1;32m     42\u001b[0m \u001b[0;34m\u001b[0m\u001b[0m\n\u001b[0;32m---> 43\u001b[0;31m \u001b[0mcumulative_rain_n\u001b[0m \u001b[0;34m=\u001b[0m \u001b[0mmesh\u001b[0m\u001b[0;34m.\u001b[0m\u001b[0mcumulative_flow\u001b[0m\u001b[0;34m(\u001b[0m\u001b[0mmesh\u001b[0m\u001b[0;34m.\u001b[0m\u001b[0mrainfall_pattern\u001b[0m \u001b[0;34m*\u001b[0m \u001b[0mmesh\u001b[0m\u001b[0;34m.\u001b[0m\u001b[0marea\u001b[0m\u001b[0;34m)\u001b[0m\u001b[0;34m\u001b[0m\u001b[0m\n\u001b[0m\u001b[1;32m     44\u001b[0m \u001b[0;34m\u001b[0m\u001b[0m\n\u001b[1;32m     45\u001b[0m \u001b[0;31m# mesh._construct_rbf_weights(delta=0.03)\u001b[0m\u001b[0;34m\u001b[0m\u001b[0;34m\u001b[0m\u001b[0m\n",
      "\u001b[0;31mAttributeError\u001b[0m: 'SurfaceProcessMeshClass' object has no attribute 'rainfall_pattern'"
     ]
    }
   ],
   "source": [
    "def compute_stream_power(mesh, slope, m=1, n=1):\n",
    "    \"\"\"\n",
    "    Stream power law (q_s)\n",
    "    \"\"\"\n",
    "    rainflux = mesh.rainfall_pattern_Variable.data\n",
    "    rainfall = mesh.area * rainflux\n",
    "    cumulative_rain = mesh.cumulative_flow(rainfall)    \n",
    "    stream_power = cumulative_rain**m * slope**n\n",
    "    stream_power[~mesh.bmask] = 0.0\n",
    "    \n",
    "    return stream_power\n",
    "\n",
    "mesh.rainfall_pattern_Variable.data = rainfall\n",
    "\n",
    "\n",
    "## 1. Smooth mesh \n",
    "\n",
    "mesh.update_height(height)\n",
    "cumulative_rain = mesh.cumulative_flow(mesh.rainfall_pattern_Variable.data * mesh.area)\n",
    "smooth_mesh_slope = mesh.slopeVariable.data.copy()\n",
    "\n",
    "rbf_slope = mesh.rbf_smoother(mesh.slopeVariable.data)\n",
    "sws_slope = mesh.streamwise_smoothing(mesh.slopeVariable.data, 3, 0.5)\n",
    "\n",
    "stream_power = compute_stream_power(mesh, mesh.slopeVariable.data, m=1, n=1)\n",
    "\n",
    "print(\"max stream power = {:.4f}, mean stream power = {:.4f}\".format(stream_power.max(), stream_power.mean()))\n",
    "\n",
    "# stream-wise smoothing\n",
    "stream_power2 = compute_stream_power(mesh, sws_slope, m=1, n=1)\n",
    "\n",
    "print(\"max stream power = {:.4f}, mean stream power = {:.4f}\".format(stream_power2.max(), stream_power2.mean()))\n",
    "\n",
    "# rbf smoothing\n",
    "stream_power3 = compute_stream_power(mesh, rbf_slope, m=1, n=1)\n",
    "\n",
    "print(\"max stream power = {:.4f}, mean stream power = {:.4f}\".format(stream_power3.max(), stream_power3.mean()))\n",
    "\n",
    "## 2. Rough mesh\n",
    "\n",
    "mesh.update_height(heightn)\n",
    "\n",
    "cumulative_rain_n = mesh.cumulative_flow(mesh.rainfall_pattern_Variable.data * mesh.area)\n",
    "\n",
    "# mesh._construct_rbf_weights(delta=0.03)\n",
    "# rbf_height = mesh.rbf_smoother(mesh.height)\n",
    "# rbf_gradx, rbf_grady = mesh.derivative_grad(rbf_height)\n",
    "# rbf_slope = np.hypot(rbf_gradx, rbf_grady)\n",
    "\n",
    "stream_power_n = compute_stream_power(mesh, mesh.slopeVariable.data, m=1, n=1)\n",
    "stream_power_n[~mesh.bmask] = 0.0\n"
   ]
  },
  {
   "cell_type": "code",
   "execution_count": null,
   "metadata": {},
   "outputs": [],
   "source": [
    "import lavavu\n",
    "\n",
    "points = np.column_stack([mesh.tri.points, height])\n",
    "\n",
    "lv = lavavu.Viewer(border=False, background=\"#FFFFFF\", resolution=[600,600], near=-10.0)\n",
    "\n",
    "tri1 = lv.triangles(\"triangles\", wireframe=False)\n",
    "tri1.vertices(points)\n",
    "tri1.indices(mesh.tri.simplices)\n",
    "tri1.values(smooth_mesh_slope, \"slope\")\n",
    "tri1.values(mesh.slopeVariable.data, \"rough mesh slope\")\n",
    "tri1.values(cumulative_rain, \"cumulative rain\")\n",
    "tri1.values(cumulative_rain_n, \"cumulative rain (rough)\")\n",
    "tri1.values(stream_power, \"stream_power\")\n",
    "tri1.values(stream_power2, \"sp: stream smoothed\")\n",
    "tri1.values(stream_power3, \"sp: rbf smoothed\")\n",
    "tri1.values(stream_power_n, \"sp: rough mesh\")\n",
    "\n",
    "tri1.colourmap(\"drywet\")\n",
    "tri1.colourbar()\n",
    "\n",
    "lv.control.Panel()\n",
    "lv.control.ObjectList()\n",
    "tri1.control.List([\"slope\", \n",
    "                   \"rough mesh slope\",\n",
    "                   \"cumulative rain\", \n",
    "                   \"stream_power\", \n",
    "                   \"cumulative rain (rough)\", \n",
    "                   \"sp: stream smoothed\", \n",
    "                   \"sp: rbf smoothed\", \n",
    "                   \"sp: rough mesh\" ], property=\"colourby\", value=\"slope\", command=\"redraw\")\n",
    "lv.control.show()"
   ]
  },
  {
   "cell_type": "markdown",
   "metadata": {},
   "source": [
    "## Outflow analysis\n",
    "\n",
    "The topography we have defined has multiple outflow points, which, in the analytic case, should be equal. If they differ, this is a result of the discretisation."
   ]
  },
  {
   "cell_type": "code",
   "execution_count": null,
   "metadata": {},
   "outputs": [],
   "source": [
    "outflow_nodes = mesh.identify_outflow_points()\n",
    "\n",
    "print(\"{} outflow nodes:\".format(len(outflow_nodes)))\n",
    "print(outflow_nodes)\n",
    "\n",
    "\n",
    "cum_rain = cumulative_rain[outflow_nodes]\n",
    "cum_rain_n = cumulative_rain_n[outflow_nodes]"
   ]
  },
  {
   "cell_type": "code",
   "execution_count": null,
   "metadata": {},
   "outputs": [],
   "source": [
    "import matplotlib.pyplot as plt\n",
    "%matplotlib inline\n",
    "\n",
    "# plot bar graph of cumulative rain for each outflow point\n",
    "\n",
    "fig = plt.figure(figsize=(12,6))\n",
    "ax1 = fig.add_subplot(111, xlabel='outflow node', ylabel='cumulative rain')\n",
    "ax1.bar(np.array(range(0,len(cum_rain))), width=0.4, height=cum_rain)\n",
    "ax1.bar(np.array(range(0,len(cum_rain)))+0.5, width=0.4, height=cum_rain_n)\n",
    "plt.show()\n"
   ]
  },
  {
   "cell_type": "markdown",
   "metadata": {},
   "source": [
    "The downhill matrices are introduced in the next example, [Ex3-Multiple-downhill-pathways](./Ex3-Multiple-downhill-pathways.ipynb)"
   ]
  }
 ],
 "metadata": {
  "kernelspec": {
   "display_name": "Python 3",
   "language": "python",
   "name": "python3"
  },
  "language_info": {
   "codemirror_mode": {
    "name": "ipython",
    "version": 3
   },
   "file_extension": ".py",
   "mimetype": "text/x-python",
   "name": "python",
   "nbconvert_exporter": "python",
   "pygments_lexer": "ipython3",
   "version": "3.5.3"
  }
 },
 "nbformat": 4,
 "nbformat_minor": 2
}
