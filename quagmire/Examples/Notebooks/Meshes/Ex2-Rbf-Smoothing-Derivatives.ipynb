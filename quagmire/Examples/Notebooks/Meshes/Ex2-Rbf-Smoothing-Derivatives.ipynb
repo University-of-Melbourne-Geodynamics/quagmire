{
 "cells": [
  {
   "cell_type": "markdown",
   "metadata": {},
   "source": [
    "## Example 2 - RBF smoothing and derivatives\n",
    "\n",
    "This notebook introduces the `TopoMesh` object, which builds the following data structures:\n",
    "\n",
    "- hill slope\n",
    "- downhill matrices\n",
    "- upstream area\n",
    "\n",
    "in addition to the data structures inherited from `FlatMesh`. These form the necessary structures to propogate information from higher to lower elevations. Derivatives are computed on the mesh to calculate the height field, which may need smoothing to reduce short wavelength features and artefacts.\n",
    "\n",
    "In this notebook we setup a height field and calculate its derivatives on an unstructued mesh. We smooth the derivatives using the radial-basis function (RBF) smoothing kernel to improve the connectivity of stream pathways.\n",
    "\n",
    "> Note: The API for the structured mesh is identical\n",
    "\n",
    "#### Contents\n",
    "\n",
    "- [Height field](#Height-field)\n",
    "- [Derivatives and hill slope](#Derivatives-and-hill-slope)\n",
    "- [Upstream area and stream power](#Upstream-area-and-stream-power)\n",
    "- [Outflow analysis](#Outflow analysis)"
   ]
  },
  {
   "cell_type": "code",
   "execution_count": null,
   "metadata": {},
   "outputs": [],
   "source": [
    "from quagmire.tools import meshtools\n",
    "from quagmire import TopoMesh, SurfaceProcessMesh"
   ]
  },
  {
   "cell_type": "code",
   "execution_count": null,
   "metadata": {},
   "outputs": [],
   "source": [
    "import matplotlib.pyplot as plt\n",
    "import numpy as np\n",
    "# from scipy.ndimage import imread\n",
    "# from quagmire import tools as meshtools\n",
    "# from quagmire import SurfaceProcessMesh\n",
    "%matplotlib inline\n",
    "\n"
   ]
  },
  {
   "cell_type": "code",
   "execution_count": null,
   "metadata": {},
   "outputs": [],
   "source": [
    "minX, maxX = -5.0, 5.0\n",
    "minY, maxY = -5.0, 5.0,\n",
    "dx, dy = 0.005, 0.005\n",
    "\n",
    "x, y, bmask = meshtools.generate_elliptical_points(minX, maxX, minY, maxY, dx, dy, 10000, 500)\n",
    "\n",
    "# x, y = meshtools.lloyd_mesh_improvement(x, y, bmask, 5)\n",
    "DM = meshtools.create_DMPlex_from_points(x, y, bmask)\n",
    "\n",
    "mesh = SurfaceProcessMesh(DM)"
   ]
  },
  {
   "cell_type": "markdown",
   "metadata": {},
   "source": [
    "## Height field\n",
    "\n",
    "We generate a hill slope with multiple channels incised along the boundary. The height and slope fields reside as attributes on the `TopoMesh` instance."
   ]
  },
  {
   "cell_type": "code",
   "execution_count": null,
   "metadata": {},
   "outputs": [],
   "source": [
    "radius  = np.sqrt((x**2 + y**2))\n",
    "theta   = np.arctan2(y,x)\n",
    "\n",
    "height  = np.exp(-0.025*(x**2 + y**2)**2) + 0.25 * (0.2*radius)**4  * np.cos(10.0*theta)**2 ## Less so\n",
    "height  += 0.5 * (1.0-0.2*radius)\n",
    "height  += np.random.random(height.size) * 0.01 # random noise\n",
    "\n",
    "\n",
    "mesh.update_height(height)\n",
    "\n",
    "# rain proportional to height\n",
    "rain = height**2\n",
    "# mesh.update_surface_processes(rain, np.zeros_like(rain))\n",
    "\n"
   ]
  },
  {
   "cell_type": "markdown",
   "metadata": {},
   "source": [
    "## Derivatives and hill slopes\n",
    "\n",
    "**Derivatives** can be evaluated on the mesh using the inbuilt routine in the `stripy` object. It employs automatically selected tension factors to preserve shape properties of the data and avoid overshoot and undershoot associated with steep gradients.\n",
    "\n",
    "```python\n",
    "dfdx, dfdy = mesh.derivative_grad(f, nit=10, tol=1e-8):\n",
    "```\n",
    "\n",
    "where `nit` and `tol` control the convergence criteria.\n",
    "\n",
    "---\n",
    "\n",
    "The **radial-basis function** (RBF) smoothing kernel works by setting up a series of gaussian functions based on the distance $d$ between neighbouring nodes and a `delta` scaling factor, $\\Delta$:\n",
    "\n",
    "$$\n",
    "W_i = \\frac{\\exp \\left( \\frac{d_i}{\\Delta} \\right)^2}{\\sum_{i} \\left( \\frac{d_i}{\\Delta} \\right)^2}\n",
    "$$\n",
    "\n",
    "`delta` is set to the mean distance between nodes by default, but it may be changed to increase or decrease the _smoothness_:\n",
    "\n",
    "```python\n",
    "smoothed_field = mesh.rbf_smoother(field, iterations=1, delta=None)\n",
    "```"
   ]
  },
  {
   "cell_type": "code",
   "execution_count": null,
   "metadata": {},
   "outputs": [],
   "source": [
    "def smooth_slope(mesh, height, delta=None):\n",
    "    \"\"\" Compute the slope using the RBF smoothing kernel \"\"\"\n",
    "    mesh._construct_rbf_weights(delta)\n",
    "    rbf_height = mesh.rbf_smoother(height)\n",
    "    rbf_gradx, rbf_grady = mesh.derivative_grad(rbf_height)\n",
    "    return np.hypot(rbf_gradx, rbf_grady)\n",
    "\n",
    "\n",
    "# analytic slope\n",
    "\n",
    "\n",
    "\n",
    "rbf_slope1 = smooth_slope(mesh, mesh.height, delta=0.01)\n",
    "rbf_slope2 = smooth_slope(mesh, mesh.height, delta=0.03)\n",
    "rbf_slope3 = smooth_slope(mesh, mesh.height, delta=0.05)\n",
    "\n",
    "# rbf_height = mesh.rbf_smoother(mesh.height)\n",
    "# rbf_gradx, rbf_grady = mesh.derivative_grad(rbf_height)\n",
    "# rbf_slope1 = np.hypot(rbf_gradx, rbf_grady)"
   ]
  },
  {
   "cell_type": "code",
   "execution_count": null,
   "metadata": {},
   "outputs": [],
   "source": [
    "import lavavu\n",
    "\n",
    "points = np.column_stack([mesh.tri.points, height])\n",
    "\n",
    "lv = lavavu.Viewer(border=False, background=\"#FFFFFF\", resolution=[1000,600], near=-10.0)\n",
    "\n",
    "tri1 = lv.triangles(\"triangles\")\n",
    "tri1.vertices(points)\n",
    "tri1.indices(mesh.tri.simplices)\n",
    "tri1.values(mesh.slope, \"slope\")\n",
    "tri1.values(rbf_slope1, \"smooth_slope\")\n",
    "tri1.colourmap(\"#990000 #FFFFFF #000099\")\n",
    "tri1.colourbar()\n",
    "\n",
    "lv.control.Panel()\n",
    "lv.control.ObjectList()\n",
    "tri1.control.List([\"slope\", \"smooth_slope\"], property=\"colourby\", value=\"orginal\", command=\"redraw\")\n",
    "lv.control.show()"
   ]
  },
  {
   "cell_type": "markdown",
   "metadata": {},
   "source": [
    "## Upstream area and stream power\n",
    "\n",
    "Integrating information upstream is the cornerstone of stream power laws that govern landscape evolution. This is computed by multiple $\\mathbf{D} \\cdot \\mathbf{A}_{\\mathrm{upstream}}$ evaluations to accumulate the area downstream node-by-node on the mesh. This is handled by the `cumulative_flow(vector)` routine.\n",
    "\n",
    "In [derivatives and hill slopes](#Derivatives-and-hill-slopes) we smoothed the entire landscape, however we can also target the RBF kernel to smooth just the streams:\n",
    "\n",
    "```python\n",
    "streamwise_smoothing(data, its, centre_weight=0.75)\n",
    "```\n",
    "\n",
    "where `its` indicates the number of iterations to smooth the field stream-wise. Increasing `its` smooths the field further afield upstream and downstream."
   ]
  },
  {
   "cell_type": "code",
   "execution_count": null,
   "metadata": {},
   "outputs": [],
   "source": [
    "def compute_stream_power(mesh, m=1, n=1):\n",
    "    \"\"\"\n",
    "    Stream power law (q_s)\n",
    "    \"\"\"\n",
    "    rainflux = mesh.rainfall_pattern\n",
    "    rainfall = mesh.area * rainflux\n",
    "    cumulative_rain = mesh.cumulative_flow(rainfall)\n",
    "\n",
    "    stream_power = cumulative_rain**m * mesh.slope**n\n",
    "    return stream_power\n",
    "\n",
    "\n",
    "mesh.rainfall_pattern = rain\n",
    "\n",
    "# mesh._construct_rbf_weights(delta=0.03)\n",
    "rbf_height = mesh.rbf_smoother(mesh.height)\n",
    "rbf_gradx, rbf_grady = mesh.derivative_grad(rbf_height)\n",
    "rbf_slope = np.hypot(rbf_gradx, rbf_grady)\n",
    "\n",
    "stream_power = compute_stream_power(mesh, m=1, n=1)\n",
    "print(\"max stream power = {:.4f}, mean stream power = {:.4f}\".format(stream_power.max(), stream_power.mean()))\n",
    "\n",
    "# stream-wise smoothing\n",
    "stream_power = mesh.streamwise_smoothing(stream_power, 3, 0.5)\n",
    "print(\"max stream power = {:.4f}, mean stream power = {:.4f}\".format(stream_power.max(), stream_power.mean()))\n",
    "\n",
    "# zero stream power at the boundary nodes\n",
    "stream_power[~mesh.bmask] = 0.0\n",
    "print(\"max stream power = {:.4f}, mean stream power = {:.4f}\".format(stream_power.max(), stream_power.mean()))\n",
    "\n",
    "\n",
    "cumulative_rain = mesh.cumulative_flow(mesh.rainfall_pattern * mesh.area)"
   ]
  },
  {
   "cell_type": "code",
   "execution_count": null,
   "metadata": {},
   "outputs": [],
   "source": [
    "lv = lavavu.Viewer(border=False, background=\"#FFFFFF\", resolution=[1000,600], near=-10.0)\n",
    "\n",
    "tri1 = lv.triangles(\"triangles\")\n",
    "tri1.vertices(points)\n",
    "tri1.indices(mesh.tri.simplices)\n",
    "tri1.values(mesh.slope, \"slope\")\n",
    "tri1.values(rbf_slope1, \"rain\")\n",
    "tri1.values(stream_power, \"stream_power\")\n",
    "tri1.colourmap(\"drywet\")\n",
    "tri1.colourbar()\n",
    "\n",
    "lv.control.Panel()\n",
    "lv.control.ObjectList()\n",
    "tri1.control.List([\"slope\", \"rain\", \"stream_power\"], property=\"colourby\", value=\"orginal\", command=\"redraw\")\n",
    "lv.control.show()"
   ]
  },
  {
   "cell_type": "markdown",
   "metadata": {},
   "source": [
    "## Outflow analysis\n",
    "\n",
    "The topography we have defined has multiple outflow points, which, depending on the connectivity of the mesh, should be relatively equal."
   ]
  },
  {
   "cell_type": "code",
   "execution_count": null,
   "metadata": {},
   "outputs": [],
   "source": [
    "outflow_nodes = mesh.identify_outflow_points()\n",
    "\n",
    "print(\"{} outflow nodes:\".format(len(outflow_nodes)))\n",
    "print(outflow_nodes)\n",
    "\n",
    "\n",
    "cum_rain = cumulative_rain[outflow_nodes]"
   ]
  },
  {
   "cell_type": "code",
   "execution_count": null,
   "metadata": {},
   "outputs": [],
   "source": [
    "import matplotlib.pyplot as plt\n",
    "%matplotlib inline\n",
    "\n",
    "# plot bar graph of cumulative rain for each outflow point\n",
    "\n",
    "fig = plt.figure(figsize=(12,6))\n",
    "ax1 = fig.add_subplot(111, xlabel='outflow node', ylabel='cumulative rain')\n",
    "ax1.bar(list(range(0,len(cum_rain))), height=cum_rain)\n",
    "plt.show()\n"
   ]
  },
  {
   "cell_type": "code",
   "execution_count": null,
   "metadata": {},
   "outputs": [],
   "source": [
    "r = mesh.neighbour_cloud_distances[:,:5].mean(axis=1)\n",
    "m = mesh.neighbour_cloud_distances[:,1] \n",
    "w = mesh.gaussian_dist_w[:,0]\n",
    "\n",
    "a = w / r\n",
    "\n",
    "a.max()/a.min()"
   ]
  },
  {
   "cell_type": "markdown",
   "metadata": {},
   "source": [
    "The downhill matrices are introduced in the next example, [Ex3-Multiple-downhill-pathways](./Ex3-Multiple-downhill-pathways.ipynb)"
   ]
  }
 ],
 "metadata": {
  "kernelspec": {
   "display_name": "Python 2",
   "language": "python",
   "name": "python2"
  },
  "language_info": {
   "codemirror_mode": {
    "name": "ipython",
    "version": 2
   },
   "file_extension": ".py",
   "mimetype": "text/x-python",
   "name": "python",
   "nbconvert_exporter": "python",
   "pygments_lexer": "ipython2",
   "version": "2.7.14"
  }
 },
 "nbformat": 4,
 "nbformat_minor": 2
}
