{
 "cells": [
  {
   "cell_type": "markdown",
   "metadata": {},
   "source": [
    "## Example 1 - creating structured and unstructured meshes\n",
    "\n",
    "`Quagmire` can model surface processess on a structured rectangular grid or unstructured triangulated points. These use-cases are bundled into two objects:\n",
    "\n",
    "- `PixMesh`: meshing on a rectangular grid\n",
    "- `TriMesh`: meshing on unstructured triangular points\n",
    "\n",
    "All meshes are generated and handed to Quagmire using a `DM` object where the selection of `PixMesh` or `TriMesh` is identified automatically by `FlatMesh`. The following data structures are built:\n",
    "\n",
    "- Delaunay triangulation\n",
    "- node neighbour array\n",
    "- pointwise area and weights\n",
    "- boundary information\n",
    "- Rbf smoothing kernel\n",
    "\n",
    "In this notebook we setup different `DM` objects using meshes found in the `quagmire.tools.meshtools` path and hand them to `FlatMesh`.\n",
    "\n",
    "\n",
    "#### Contents\n",
    "\n",
    "- [Structured grids](#Structured-grids)\n",
    "- [Unstructued meshes](#Unstructured-meshes)\n",
    "- [Elliptical mesh](#Elliptical-mesh)\n",
    "- [Mesh improvement](#Mesh-improvement)\n",
    "- [Mesh refinement](#Mesh-refinement)\n",
    "- [Save mesh to file](#Save-mesh-to-file)"
   ]
  },
  {
   "cell_type": "code",
   "execution_count": null,
   "metadata": {},
   "outputs": [],
   "source": [
    "from quagmire.tools import meshtools\n",
    "from quagmire import FlatMesh"
   ]
  },
  {
   "cell_type": "markdown",
   "metadata": {},
   "source": [
    "## Structured grids"
   ]
  },
  {
   "cell_type": "code",
   "execution_count": null,
   "metadata": {},
   "outputs": [],
   "source": [
    "minX, maxX = -5.0, 5.0\n",
    "minY, maxY = -5.0, 5.0\n",
    "\n",
    "resX = 50\n",
    "resY = 50\n",
    "\n",
    "DM = meshtools.create_DMDA(minX, maxX, minY, maxY, resX, resY)\n",
    "\n",
    "print(type(DM))"
   ]
  },
  {
   "cell_type": "markdown",
   "metadata": {},
   "source": [
    "This is a native PETSc data management object for structured grids (`DMDA`). This object has a number of \n",
    "useful methods and attached data which can be listed with\n",
    "\n",
    "```python\n",
    "help(DM)\n",
    "```\n",
    "\n",
    "We hand this to `FlatMesh` to generate the necessary data structures for gradient operations, smoothing, neighbour allocation, etc."
   ]
  },
  {
   "cell_type": "code",
   "execution_count": null,
   "metadata": {},
   "outputs": [],
   "source": [
    "mesh = FlatMesh(DM)"
   ]
  },
  {
   "cell_type": "code",
   "execution_count": null,
   "metadata": {},
   "outputs": [],
   "source": [
    "import lavavu\n",
    "\n",
    "lv = lavavu.Viewer(border=False, background=\"#FFFFFF\", resolution=[1000,600], near=-10.0)\n",
    "\n",
    "nodes = lv.points(\"nodes\", pointsize=3.0, pointtype=\"shiny\", colour=\"#448080\", opacity=0.75)\n",
    "nodes.vertices(mesh.coords)\n",
    "\n",
    "pix = lv.volume()\n",
    "pix.vertices(mesh.coords)\n",
    "pix.values(mesh.coords[:,0])"
   ]
  },
  {
   "cell_type": "markdown",
   "metadata": {},
   "source": [
    "## Unstructured meshes\n",
    "\n",
    "This is handled by PETSc's `DMPlex` object, which requires the connectivity of a set of points. The connectivity between points can be triangulated using the built-in mesh creation tools:\n",
    "\n",
    "```python\n",
    "x, y, simplices = square_mesh(minX, maxX, minY, maxY, spacingX, spacingY)\n",
    "x, y, simplices = elliptical_mesh(minX, maxX, minY, maxY, spacingX, spacingY)\n",
    "```\n",
    "\n",
    "and handed to `DMPlex` using:\n",
    "\n",
    "```python\n",
    "DM = meshtools.create_DMPlex(x, y, simplices, boundary_vertices=None)\n",
    "```\n",
    "\n",
    "---\n",
    "\n",
    "Alternatively, an arbitrary set of points (without duplicates) can be triangulated and processed as a `DMPlex` object using:\n",
    "\n",
    "```python\n",
    "meshtools.create_DMPlex_from_points(x, y, bmask=None)\n",
    "```\n",
    "\n",
    "If no boundary information is provided, the boundary is assumed to be the convex hull of points.\n",
    "\n",
    "\n",
    "#### Parallel notes\n",
    "\n",
    "The triangulation from the root processor is distributed to other processors using the `DM` object, including boundary points and boundary edges. The mesh can be refined efficiently in parallel using the `refine_dm` method. The order of this operation is important:\n",
    "\n",
    "1. Triangulate points\n",
    "2. Mark boundary edges\n",
    "3. Distribute `DMPlex` to other processors\n",
    "4. Refine the mesh"
   ]
  },
  {
   "cell_type": "markdown",
   "metadata": {},
   "source": [
    "## Elliptical mesh"
   ]
  },
  {
   "cell_type": "code",
   "execution_count": null,
   "metadata": {},
   "outputs": [],
   "source": [
    "spacingX = 0.1\n",
    "spacingY = 0.1\n",
    "\n",
    "x, y, simplices = meshtools.elliptical_mesh(minX, maxX, minY, maxY, spacingX, spacingY)\n",
    "DM = meshtools.create_DMPlex(x, y, simplices)\n",
    "\n",
    "mesh = FlatMesh(DM)"
   ]
  },
  {
   "cell_type": "code",
   "execution_count": null,
   "metadata": {},
   "outputs": [],
   "source": [
    "import lavavu\n",
    "\n",
    "lv = lavavu.Viewer(border=False, background=\"#FFFFFF\", resolution=[1000,600], near=-10.0)\n",
    "\n",
    "bnodes = lv.points(\"boundary_points\", pointsize=10.0, pointtype=\"shiny\", colour=\"red\", opacity=0.75)\n",
    "bnodes.vertices(mesh.coords[~mesh.bmask])\n",
    "\n",
    "simp = lv.triangles(\"triangles\", wireframe=True, colour=\"#448080\", opacity=0.75)\n",
    "simp.vertices(mesh.tri.points)\n",
    "simp.indices(mesh.tri.simplices)\n",
    "\n",
    "tris = lv.triangles(\"tricolour\",  wireframe=False, colour=\"#77ff88\", opacity=1.0)\n",
    "tris.vertices(mesh.tri.points)\n",
    "tris.indices(mesh.tri.simplices)\n",
    "tris.values(mesh.area, label=\"pointwise_area\")\n",
    "\n",
    "tris.colourmap(\"elevation\")\n",
    "cb = tris.colourbar()\n",
    "\n",
    "lv.control.Panel()\n",
    "lv.control.ObjectList()\n",
    "lv.control.show()\n",
    "\n",
    "lv.show()"
   ]
  },
  {
   "cell_type": "markdown",
   "metadata": {},
   "source": [
    "## Mesh improvement\n",
    "\n",
    "Applies Lloyd's algorithm of iterated voronoi construction to improve the mesh point locations. This distributes the points to a more uniform spacing. It can be very slow for anything but a small mesh. [Refining](#Mesh-refinement) the mesh a few times will produce a large, well-spaced mesh."
   ]
  },
  {
   "cell_type": "code",
   "execution_count": null,
   "metadata": {},
   "outputs": [],
   "source": [
    "bmask = mesh.bmask.copy()\n",
    "\n",
    "x1, y1 = meshtools.lloyd_mesh_improvement(x, y, bmask, iterations=3)\n",
    "DM = meshtools.create_DMPlex_from_points(x1, y1, bmask)\n",
    "\n",
    "mesh1 = FlatMesh(DM)"
   ]
  },
  {
   "cell_type": "code",
   "execution_count": null,
   "metadata": {},
   "outputs": [],
   "source": [
    "import lavavu\n",
    "\n",
    "lv = lavavu.Viewer(border=False, background=\"#FFFFFF\", resolution=[1000,600], near=-10.0)\n",
    "\n",
    "bnodes = lv.points(\"boundary_points\", pointsize=10.0, pointtype=\"shiny\", colour=\"red\", opacity=0.75)\n",
    "bnodes.vertices(mesh1.coords[~mesh1.bmask])\n",
    "\n",
    "simp = lv.triangles(\"triangles\", wireframe=True, colour=\"#448080\", opacity=0.75)\n",
    "simp.vertices(mesh1.tri.points)\n",
    "simp.indices(mesh1.tri.simplices)\n",
    "\n",
    "tris = lv.triangles(\"tricolour\",  wireframe=False, colour=\"#77ff88\", opacity=1.0)\n",
    "tris.vertices(mesh1.tri.points)\n",
    "tris.indices(mesh1.tri.simplices)\n",
    "tris.values(mesh1.area, label=\"pointwise_area\")\n",
    "\n",
    "tris.colourmap(\"elevation\")\n",
    "cb = tris.colourbar()\n",
    "\n",
    "lv.control.Panel()\n",
    "lv.control.ObjectList()\n",
    "lv.control.show()\n",
    "\n",
    "lv.show()"
   ]
  },
  {
   "cell_type": "code",
   "execution_count": null,
   "metadata": {},
   "outputs": [],
   "source": [
    "# Comparison of point-wise area for original and improved mesh\n",
    "\n",
    "\n",
    "import matplotlib.pyplot as plt\n",
    "%matplotlib inline\n",
    "\n",
    "\n",
    "fig, (ax1, ax2) = plt.subplots(1,2, figsize=(10,4))\n",
    "\n",
    "ax1.hist(mesh.area, normed=True)\n",
    "ax2.hist(mesh1.area, normed=True)\n",
    "\n",
    "ax1.set_title('original mesh')\n",
    "ax2.set_title('improved mesh')\n",
    "\n",
    "plt.show()"
   ]
  },
  {
   "cell_type": "markdown",
   "metadata": {},
   "source": [
    "## Mesh refinement\n",
    "\n",
    "Triangulating a large set of points on a single processor then distributing the mesh across multiple processors can be very slow. A more time effective workflow is to create an initial `DM` with a small number of points, then refine the mesh in parallel. This is achieved by adding the midpoint of each line segment to the mesh and can be iteratively refined until the desired level of detail is reached.\n",
    "\n",
    "```python\n",
    "refine_DM(dm, refinement_steps=1)\n",
    "```"
   ]
  },
  {
   "cell_type": "code",
   "execution_count": null,
   "metadata": {},
   "outputs": [],
   "source": [
    "spacingX = 0.5\n",
    "spacingY = 0.5\n",
    "\n",
    "x, y, simplices = meshtools.elliptical_mesh(minX, maxX, minY, maxY, spacingX, spacingY)\n",
    "DM = meshtools.create_DMPlex(x, y, simplices)\n",
    "\n",
    "DM_r1 = meshtools.refine_DM(DM, refinement_steps=1)\n",
    "DM_r2 = meshtools.refine_DM(DM, refinement_steps=2)\n",
    "\n",
    "\n",
    "# verbose=False turns off the timings\n",
    "\n",
    "mesh0 = FlatMesh(DM, verbose=False)\n",
    "mesh1 = FlatMesh(DM_r1, verbose=False)\n",
    "mesh2 = FlatMesh(DM_r2, verbose=False)"
   ]
  },
  {
   "cell_type": "code",
   "execution_count": null,
   "metadata": {},
   "outputs": [],
   "source": [
    "def plot_points(lv, points, label, **kwargs):\n",
    "    lv_pts = lv.points(label, **kwargs)\n",
    "    lv_pts.vertices(points)\n",
    "    return lv_pts\n",
    "\n",
    "def plot_triangles(lv, points, triangles, label, **kwargs):\n",
    "    lv_tri = lv.triangles(label, **kwargs)\n",
    "    lv_tri.vertices(points)\n",
    "    lv_tri.indices(triangles)\n",
    "    return lv_tri\n",
    "\n",
    "\n",
    "lv = lavavu.Viewer(border=False, background=\"#FFFFFF\", resolution=[1000,600], near=-10.0)\n",
    "\n",
    "bnodes0 = plot_points(lv, mesh0.coords[~mesh0.bmask], \"boundary_points_r0\", colour=\"red\", pointsize=10)\n",
    "bnodes1 = plot_points(lv, mesh1.coords[~mesh1.bmask], \"boundary_points_r1\", colour=\"blue\", pointsize=10)\n",
    "bnodes2 = plot_points(lv, mesh2.coords[~mesh2.bmask], \"boundary_points_r2\", colour=\"purple\", pointsize=10)\n",
    "\n",
    "tri0 = plot_triangles(lv, mesh0.coords, mesh0.tri.simplices, \"mesh_r0\", wireframe=True)\n",
    "tri1 = plot_triangles(lv, mesh1.coords, mesh1.tri.simplices, \"mesh_r1\", wireframe=True)\n",
    "tri2 = plot_triangles(lv, mesh2.coords, mesh2.tri.simplices, \"mesh_r2\", wireframe=True)\n",
    "\n",
    "\n",
    "lv.control.Panel()\n",
    "lv.control.ObjectList()\n",
    "lv.control.show()\n",
    "\n",
    "lv.show()"
   ]
  },
  {
   "cell_type": "markdown",
   "metadata": {},
   "source": [
    "The DM contains two labels -- \"coarse\" and \"boundary\" -- which contain the vertices of boundary nodes and the unrefined mesh, respectively. They can be retrieved using:\n",
    "\n",
    "```python\n",
    "mesh.get_label(\"boundary\")\n",
    "mesh.get_label(\"coarse\")\n",
    "```\n",
    "\n",
    "or a new label can be set using:\n",
    "\n",
    "```python\n",
    "mesh.set_label(\"my_label\", indices)\n",
    "```"
   ]
  },
  {
   "cell_type": "code",
   "execution_count": null,
   "metadata": {},
   "outputs": [],
   "source": [
    "coarse_pts0 = mesh0.get_label(\"coarse\")\n",
    "coarse_pts1 = mesh1.get_label(\"coarse\")\n",
    "coarse_pts2 = mesh2.get_label(\"coarse\")\n",
    "\n",
    "print(\"{} boundary points\".format( len(mesh0.get_label(\"boundary\")) ))\n",
    "print(\"{} boundary points\".format( len(mesh1.get_label(\"boundary\")) ))\n",
    "print(\"{} boundary points\".format( len(mesh2.get_label(\"boundary\")) ))\n",
    "\n",
    "\n",
    "# the coarse point vertices should be identical\n",
    "# refinement adds new points to the end of the x,y arrays\n",
    "\n",
    "set(coarse_pts0) == set(coarse_pts1) == set(coarse_pts2)"
   ]
  },
  {
   "cell_type": "markdown",
   "metadata": {},
   "source": [
    "## Save mesh to file\n",
    "\n",
    "A mesh can be saved and imported later. The `FlatMesh` object has the `save_mesh_to_hdf5` method for this, as does `meshtools`."
   ]
  },
  {
   "cell_type": "code",
   "execution_count": null,
   "metadata": {},
   "outputs": [],
   "source": [
    "filename = \"refined_mesh.h5\"\n",
    "\n",
    "# save from FlatMesh object:\n",
    "# mesh2.save_mesh_to_hdf5(filename)\n",
    "\n",
    "# save from meshtools:\n",
    "meshtools.save_DM_to_hdf5(DM_r2, filename)\n",
    "\n",
    "# load DM from file\n",
    "DM_r2 = meshtools.create_DMPlex_from_hdf5(filename)\n",
    "\n",
    "mesh2 = FlatMesh(DM_r2)"
   ]
  },
  {
   "cell_type": "markdown",
   "metadata": {},
   "source": [
    "The next example is [Ex2-Rbf-Smoothing-Derivatives](./Ex2-RbfSmoothing-Derivatives.ipynb)"
   ]
  }
 ],
 "metadata": {
  "kernelspec": {
   "display_name": "Python 2",
   "language": "python",
   "name": "python2"
  },
  "language_info": {
   "codemirror_mode": {
    "name": "ipython",
    "version": 2
   },
   "file_extension": ".py",
   "mimetype": "text/x-python",
   "name": "python",
   "nbconvert_exporter": "python",
   "pygments_lexer": "ipython2",
   "version": "2.7.14"
  }
 },
 "nbformat": 4,
 "nbformat_minor": 2
}
