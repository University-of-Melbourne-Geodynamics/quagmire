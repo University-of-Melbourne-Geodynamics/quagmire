{
 "cells": [
  {
   "cell_type": "code",
   "execution_count": null,
   "metadata": {},
   "outputs": [],
   "source": [
    "import numpy as np\n",
    "import quagmire\n",
    "from quagmire import tools as meshtools"
   ]
  },
  {
   "cell_type": "code",
   "execution_count": null,
   "metadata": {},
   "outputs": [],
   "source": [
    "x, y, height = np.loadtxt(\"../../data/ETOPO1-Tasmania-proj.dat\", unpack=True)\n",
    "\n",
    "# filter out points we do not want\n",
    "\n",
    "point_mask = height > -50.0\n",
    "\n",
    "xs = x[point_mask]\n",
    "ys = y[point_mask]\n",
    "heights = height[point_mask]\n",
    "\n",
    "points = np.column_stack([xs, ys])\n",
    "\n",
    "submarine = heights < 0.0\n",
    "subaerial = heights >= 0.0"
   ]
  },
  {
   "cell_type": "code",
   "execution_count": null,
   "metadata": {},
   "outputs": [],
   "source": [
    "import lavavu\n",
    "import stripy\n",
    "\n",
    "tri = stripy.Triangulation(xs, ys)\n",
    "\n",
    "lv = lavavu.Viewer(border=False, background=\"#FFFFFF\", resolution=[1000,600], near=-10.0)\n",
    "\n",
    "tris = lv.triangles(\"mesh\",  wireframe=False, colour=\"#77ff88\", opacity=1.0)\n",
    "tris.vertices(tri.points)\n",
    "tris.indices(tri.simplices)\n",
    "tris.values(-heights, label=\"elevation\")\n",
    "tris.colourmap('dem3')\n",
    "cb = tris.colourbar()\n",
    "\n",
    "sa = lv.points(\"subaerial\", colour=\"red\", pointsize=3, opacity=0.75)\n",
    "sa.vertices(points[subaerial])\n",
    "sm = lv.points(\"submarine\", colour=\"blue\", pointsize=3, opacity=0.75)\n",
    "sm.vertices(points[submarine])\n",
    "\n",
    "lv.control.Panel()\n",
    "lv.control.ObjectList()\n",
    "lv.control.show()\n",
    "\n",
    "lv.show()"
   ]
  },
  {
   "cell_type": "code",
   "execution_count": null,
   "metadata": {},
   "outputs": [],
   "source": [
    "DM = meshtools.create_DMPlex_from_points(xs, ys, submarine)\n",
    "mesh = quagmire.SurfaceProcessMesh(DM)"
   ]
  },
  {
   "cell_type": "raw",
   "metadata": {},
   "source": [
    "# refined mesh\n",
    "DM2 = meshtools.refine_DM(DM, refinement_steps=1)\n",
    "meshR = quagmire.SurfaceProcessMesh(DM2)\n",
    "\n",
    "heightsR = mesh.tri.interpolate_cubic(meshR.tri.x, meshR.tri.y, heights)\n",
    "meshR.bmask = heightsR < 0.0"
   ]
  },
  {
   "cell_type": "code",
   "execution_count": null,
   "metadata": {},
   "outputs": [],
   "source": [
    "mesh.update_height(heights)\n",
    "\n",
    "gradient_max = mesh.slope.max()\n",
    "gradient_mean = mesh.slope.mean()\n",
    "flat_spots = mesh.identify_flat_spots()\n",
    "low_points = mesh.identify_low_points()\n",
    "\n",
    "print(\"mean gradient {}\\nnumber of flat spots {}\\nnumber of low points {}\".format(gradient_mean,\n",
    "                                                                                  flat_spots.size,\n",
    "                                                                                  low_points.shape[0])) "
   ]
  },
  {
   "cell_type": "code",
   "execution_count": null,
   "metadata": {},
   "outputs": [],
   "source": [
    "flowpaths1 = mesh.cumulative_flow(mesh.area)\n",
    "flowpaths1 = mesh.rbf_smoother(flowpaths1)"
   ]
  },
  {
   "cell_type": "code",
   "execution_count": null,
   "metadata": {},
   "outputs": [],
   "source": [
    "new_heights = mesh.low_points_local_patch_fill(its=2)\n",
    "mesh._update_height_partial(new_heights)\n",
    "low_points2 = mesh.identify_low_points()\n",
    "\n",
    "print(\"number of low points {}\".format(low_points2.size))"
   ]
  },
  {
   "cell_type": "code",
   "execution_count": null,
   "metadata": {},
   "outputs": [],
   "source": [
    "new_heights = mesh.low_points_swamp_fill(ref_height=-0.01)\n",
    "\n",
    "print new_heights.min()"
   ]
  },
  {
   "cell_type": "code",
   "execution_count": null,
   "metadata": {
    "scrolled": true
   },
   "outputs": [],
   "source": [
    "for i in range(0,10):\n",
    "    new_heights = mesh.low_points_swamp_fill(ref_height=-0.01)\n",
    "    mesh._update_height_partial(new_heights)\n",
    "    # mesh.update_height(new_heights)\n",
    "    low_points2 = mesh.identify_low_points()\n",
    "    print low_points2.shape"
   ]
  },
  {
   "cell_type": "code",
   "execution_count": null,
   "metadata": {},
   "outputs": [],
   "source": [
    "flowpaths2 = mesh.cumulative_flow(mesh.area)\n",
    "flowpaths2 = mesh.rbf_smoother(flowpaths2)"
   ]
  },
  {
   "cell_type": "code",
   "execution_count": null,
   "metadata": {},
   "outputs": [],
   "source": [
    "lv = lavavu.Viewer(border=False, background=\"#FFFFFF\", resolution=[1500,1000], near=-10.0)\n",
    "\n",
    "\n",
    "topo= lv.triangles(\"topography\",  wireframe=False)\n",
    "topo.vertices(mesh.tri.points)\n",
    "topo.indices(mesh.tri.simplices)\n",
    "topo.values(heights, 'topography')\n",
    "topo.values(flowpaths1, 'flow1')\n",
    "topo.values(flowpaths2, 'flow2')\n",
    "topo[\"zmin\"] = -0.05\n",
    "\n",
    "# topo.colourmap([\"(-1.0)#FFFFFF:0.0 (-0.01)#0099FF:0.3 (0.01)#FFFF99:1.0 (0.5)#33AA11:1.0 (2.5)#886644:1.0\"] , logscale=False, range=[0.0,1.0])   # Apply a built in colourmap\n",
    "# topo.colourmap([\"(-1.0)#FFFFFF:1.0 (-0.01)#0099FF:1.0 (0.01)#AAAAAA:1.0 (0.5)#777777:1.0 (2.5)#555555:1.0\"] , logscale=False)   # Apply a built in colourmap\n",
    "topo.colourmap(\"terrain\")\n",
    "topo.colourbar()\n",
    "\n",
    "lv.control.Panel()\n",
    "lv.control.ObjectList()\n",
    "topo.control.List([\"topography\", \"flow1\", \"flow2\"], property=\"colourby\", value=\"orginal\", command=\"redraw\")\n",
    "# flowpath2.control.List([\"flow1\", \"flow2\"], property=\"colourby\", value=\"flow2\", command=\"reload\")\n",
    "lv.control.show()"
   ]
  },
  {
   "cell_type": "code",
   "execution_count": null,
   "metadata": {},
   "outputs": [],
   "source": []
  }
 ],
 "metadata": {
  "kernelspec": {
   "display_name": "Python 2",
   "language": "python",
   "name": "python2"
  },
  "language_info": {
   "codemirror_mode": {
    "name": "ipython",
    "version": 2
   },
   "file_extension": ".py",
   "mimetype": "text/x-python",
   "name": "python",
   "nbconvert_exporter": "python",
   "pygments_lexer": "ipython2",
   "version": "2.7.14"
  }
 },
 "nbformat": 4,
 "nbformat_minor": 2
}
