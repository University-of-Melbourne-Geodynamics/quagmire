{
 "cells": [
  {
   "cell_type": "markdown",
   "metadata": {},
   "source": [
    "# PixMeshes and the Octopants Landscape"
   ]
  },
  {
   "cell_type": "code",
   "execution_count": 1,
   "metadata": {},
   "outputs": [],
   "source": [
    "import matplotlib.pyplot as plt\n",
    "import numpy as np\n",
    "\n",
    "from quagmire import tools as meshtools\n",
    "%matplotlib inline"
   ]
  },
  {
   "cell_type": "markdown",
   "metadata": {},
   "source": [
    "## PixMesh"
   ]
  },
  {
   "cell_type": "code",
   "execution_count": 2,
   "metadata": {},
   "outputs": [],
   "source": [
    "from quagmire import QuagMesh \n",
    "from quagmire import QuagMesh # all routines we need are within this class\n",
    "from quagmire import QuagMesh\n",
    "\n",
    "meshX = 1000\n",
    "meshY = 1000\n",
    "\n",
    "DM = meshtools.create_DMDA(-5.0, 5.0, -5.0, 5.0, meshX, meshY )"
   ]
  },
  {
   "cell_type": "code",
   "execution_count": 3,
   "metadata": {},
   "outputs": [
    {
     "name": "stdout",
     "output_type": "stream",
     "text": [
      "Underlying Mesh type: PixMesh\n"
     ]
    },
    {
     "name": "stdout",
     "output_type": "stream",
     "text": [
      "0 - cKDTree 0.44835161000003154s\n",
      "0 - Find boundaries 0.014428413000018736s\n"
     ]
    },
    {
     "name": "stdout",
     "output_type": "stream",
     "text": [
      "0 - Construct neighbour cloud arrays 8.102521260000003s, (3.3996173300000123s + 4.702868130000013s)\n"
     ]
    },
    {
     "name": "stdout",
     "output_type": "stream",
     "text": [
      "0 - Construct rbf weights 1.0564918160000047s\n",
      "Underlying Mesh type: PixMesh\n"
     ]
    },
    {
     "name": "stdout",
     "output_type": "stream",
     "text": [
      "0 - cKDTree 0.4393130789999873s\n",
      "0 - Find boundaries 0.011952288999964367s\n"
     ]
    },
    {
     "name": "stdout",
     "output_type": "stream",
     "text": [
      "0 - Construct neighbour cloud arrays 8.201292905000003s, (3.265741771000023s + 4.93551373300005s)\n"
     ]
    },
    {
     "name": "stdout",
     "output_type": "stream",
     "text": [
      "0 - Construct rbf weights 1.0628996120000238s\n"
     ]
    }
   ],
   "source": [
    "mesh = QuagMesh(DM)  ## cloud array etc can surely be done better ... \n",
    "mesh_noise = QuagMesh(DM)"
   ]
  },
  {
   "cell_type": "code",
   "execution_count": 4,
   "metadata": {},
   "outputs": [
    {
     "name": "stdout",
     "output_type": "stream",
     "text": [
      "0 - Build downhill matrices 0.9661304799999471s\n",
      "0 - Build upstream areas 0.022387958999956936s\n"
     ]
    },
    {
     "name": "stdout",
     "output_type": "stream",
     "text": [
      "0 - Build downhill matrices 0.9871684969999706s\n",
      "0 - Build upstream areas 0.023556266000014148s\n"
     ]
    },
    {
     "name": "stdout",
     "output_type": "stream",
     "text": [
      "0 - Build downhill matrices 1.0936337129999174s\n"
     ]
    },
    {
     "name": "stdout",
     "output_type": "stream",
     "text": [
      "0 - Build upstream areas 5.414667836999911s\n"
     ]
    },
    {
     "name": "stdout",
     "output_type": "stream",
     "text": [
      "0 - Build downhill matrices 1.0223967050000056s\n"
     ]
    },
    {
     "name": "stdout",
     "output_type": "stream",
     "text": [
      "0 - Build upstream areas 7.318292032000045s\n"
     ]
    }
   ],
   "source": [
    "x = mesh.coords[:,0]\n",
    "y = mesh.coords[:,1]\n",
    "\n",
    "radius  = np.sqrt((x**2 + y**2))\n",
    "theta   = np.arctan2(y,x)\n",
    "\n",
    "height  = np.exp(-0.025*(x**2 + y**2)**2) + 0.25 * (0.2*radius)**4  * np.cos(10.0*theta)**2 ## Less so\n",
    "height  += 0.5 * (1.0-0.2*radius)\n",
    "height_noise = height + np.random.random(height.size) * 0.001 # random noise\n",
    "\n",
    "rainfall = np.ones_like(height)\n",
    "rainfall[np.where( radius > 5.0)] = 0.0 \n",
    "fn_rainfall = mesh.add_variable(\"rainfall\")\n",
    "fn_rainfall.data = rainfall\n",
    "\n",
    "mesh.downhill_neighbours = 2\n",
    "mesh_noise.downhill_neighbours = 2\n",
    "\n",
    "with mesh.deform_topography():\n",
    "    mesh.topography.data = height\n",
    "\n",
    "with mesh_noise.deform_topography():\n",
    "    mesh_noise.topography.data = height_noise"
   ]
  },
  {
   "cell_type": "code",
   "execution_count": 5,
   "metadata": {},
   "outputs": [],
   "source": [
    "mo1 = mesh.identify_outflow_points()\n",
    "i = np.argsort(theta[mo1])\n",
    "outflows = mo1[i]\n",
    "\n",
    "mo1n = mesh_noise.identify_outflow_points()\n",
    "i = np.argsort(theta[mo1n])\n",
    "outflows_noise = mo1n[i]"
   ]
  },
  {
   "cell_type": "code",
   "execution_count": 6,
   "metadata": {},
   "outputs": [
    {
     "name": "stderr",
     "output_type": "stream",
     "text": [
      "/usr/share/miniconda3/envs/conda-build-docs/lib/python3.7/site-packages/ipykernel_launcher.py:2: RuntimeWarning: divide by zero encountered in log10\n",
      "  \n"
     ]
    },
    {
     "name": "stderr",
     "output_type": "stream",
     "text": [
      "/usr/share/miniconda3/envs/conda-build-docs/lib/python3.7/site-packages/ipykernel_launcher.py:6: RuntimeWarning: divide by zero encountered in log10\n",
      "  \n"
     ]
    },
    {
     "name": "stdout",
     "output_type": "stream",
     "text": [
      "0 - Build downhill matrices 1.563045460000012s\n"
     ]
    },
    {
     "name": "stdout",
     "output_type": "stream",
     "text": [
      "0 - Build upstream areas 8.098708000999977s\n"
     ]
    },
    {
     "name": "stdout",
     "output_type": "stream",
     "text": [
      "0 - Build downhill matrices 1.6885136399999965s\n"
     ]
    },
    {
     "name": "stdout",
     "output_type": "stream",
     "text": [
      "0 - Build upstream areas 9.089314046000027s\n"
     ]
    }
   ],
   "source": [
    "flowpaths = mesh.upstream_integral_fn(fn_rainfall).evaluate(mesh)\n",
    "logpaths = np.log10(flowpaths)\n",
    "sqrtpaths = np.sqrt(flowpaths)\n",
    "\n",
    "flowpaths_noise = mesh_noise.upstream_integral_fn(fn_rainfall).evaluate(mesh)\n",
    "logpaths_noise = np.log10(flowpaths_noise)\n",
    "sqrtpaths_noise = np.sqrt(flowpaths_noise)\n",
    "\n",
    "mesh.downhill_neighbours = 3\n",
    "mesh_noise.downhill_neighbours = 3\n",
    "# flow pathways are automatically updated\n",
    "\n",
    "flowpaths3 = mesh.upstream_integral_fn(fn_rainfall).evaluate(mesh)\n",
    "logpaths3 = np.log10(flowpaths3)\n",
    "sqrtpaths3 = np.sqrt(flowpaths3)\n",
    "\n",
    "flowpaths_noise3 = mesh_noise.upstream_integral_fn(fn_rainfall).evaluate(mesh)\n",
    "logpaths_noise3 = np.log10(flowpaths_noise3)\n",
    "sqrtpaths_noise3 = np.sqrt(flowpaths_noise3)\n",
    "\n",
    "mesh.downhill_neighbours = 1\n",
    "mesh_noise.downhill_neighbours = 1\n",
    "# flow pathways are automatically updated\n",
    "\n",
    "flowpaths1 = mesh.upstream_integral_fn(fn_rainfall).evaluate(mesh)\n",
    "logpaths1 = np.log10(flowpaths1)\n",
    "sqrtpaths1 = np.sqrt(flowpaths1)\n",
    "\n",
    "flowpaths_noise1 = mesh_noise.upstream_integral_fn(fn_rainfall).evaluate(mesh)\n",
    "logpaths_noise1 = np.log10(flowpaths_noise1)\n",
    "sqrtpaths_noise1 = np.sqrt(flowpaths_noise1)"
   ]
  },
  {
   "cell_type": "code",
   "execution_count": null,
   "metadata": {},
   "outputs": [],
   "source": [
    "## What's happening with the outflow points - how to find them ? \n",
    "\"\"\"\n",
    "circum_points = np.where( np.abs(radius-4.9) <= 0.001 )[0]\n",
    "circum_angle = theta[circum_points]\n",
    "\n",
    "circum_flow_1 = flowpaths1[circum_points]\n",
    "circum_flow_2 = flowpaths[circum_points]\n",
    "circum_flow_3 = flowpaths3[circum_points]\n",
    "\n",
    "circum_flow_1n = flowpaths_noise1[circum_points]\n",
    "circum_flow_2n = flowpaths_noise[circum_points]\n",
    "circum_flow_3n = flowpaths_noise3[circum_points]\n",
    "\"\"\"\n",
    "pass"
   ]
  },
  {
   "cell_type": "code",
   "execution_count": null,
   "metadata": {},
   "outputs": [],
   "source": [
    "# Choose a scale to plot all six flow results\n",
    "fmax = 1.0"
   ]
  },
  {
   "cell_type": "code",
   "execution_count": null,
   "metadata": {},
   "outputs": [],
   "source": [
    "fig = plt.figure(1, figsize=(15,7.5))\n",
    "ax = fig.add_subplot(1,2,1)\n",
    "ax2 = fig.add_subplot(1,2,2)\n",
    "\n",
    "ax.axis('off')\n",
    "ax2.axis('off')\n",
    "\n",
    "im = ax.imshow(sqrtpaths.reshape((meshX,meshY)),   extent=[-5.0,5.0,-5.0,5.0], \n",
    "               cmap='Blues', origin='upper', alpha=1.0, vmax=fmax)\n",
    "im2  = ax.imshow(mesh.topography.data.reshape((meshX,meshY)), extent=[-5.0,5.0,-5.0,5.0], \n",
    "                 cmap=plt.cm.bone_r, origin='upper', alpha=0.1)\n",
    "\n",
    "im3 = ax2.imshow(sqrtpaths_noise.reshape((meshX,meshY)),  extent=[-5.0,5.0,-5.0,5.0], \n",
    "                 cmap='Blues', origin='upper', alpha=1.0, vmax=fmax)\n",
    "im4  = ax2.imshow(mesh.topography.data.reshape((meshX,meshY)), extent=[-5.0,5.0,-5.0,5.0], \n",
    "                  cmap=plt.cm.bone_r, origin='upper', alpha=0.1)\n",
    "\n",
    "ax.scatter(mesh.coords[outflows, 0], mesh.coords[outflows, 1])\n",
    "ax2.scatter(mesh.coords[outflows_noise, 0], mesh.coords[outflows_noise, 1])\n",
    "\n",
    "# fig.savefig(\"PixMesh_FlowPaths_N2.png\", dpi=300)"
   ]
  },
  {
   "cell_type": "code",
   "execution_count": null,
   "metadata": {},
   "outputs": [],
   "source": [
    "fig = plt.figure(1, figsize=(15,7.5))\n",
    "ax = fig.add_subplot(1,2,1)\n",
    "ax2 = fig.add_subplot(1,2,2)\n",
    "\n",
    "ax.axis('off')\n",
    "ax2.axis('off')\n",
    "\n",
    "im = ax.imshow(sqrtpaths3.reshape((meshX,meshY)), extent=[-5.0,5.0,-5.0,5.0], \n",
    "               cmap='Blues', origin='upper', alpha=1.0, vmax=fmax)\n",
    "im2  = ax.imshow(mesh.topography.data.reshape((meshX,meshY)), extent=[-5.0,5.0,-5.0,5.0],\n",
    "                 cmap=plt.cm.bone_r, origin='upper', alpha=0.1)\n",
    "\n",
    "im3 = ax2.imshow(sqrtpaths_noise3.reshape((meshX,meshY)), extent=[-5.0,5.0,-5.0,5.0], \n",
    "                 cmap='Blues', origin='upper', alpha=1.0, vmax=fmax)\n",
    "im4  = ax2.imshow(mesh.topography.data.reshape((meshX,meshY)), extent=[-5.0,5.0,-5.0,5.0], \n",
    "                  cmap=plt.cm.bone_r, origin='upper', alpha=0.1)\n",
    "\n",
    "ax.scatter(mesh.coords[outflows, 0], mesh.coords[outflows, 1])\n",
    "ax2.scatter(mesh.coords[outflows_noise, 0], mesh.coords[outflows_noise, 1])\n",
    "\n",
    "\n",
    "# fig.savefig(\"PixMesh_FlowPaths_N3.png\", dpi=300)"
   ]
  },
  {
   "cell_type": "code",
   "execution_count": null,
   "metadata": {},
   "outputs": [],
   "source": [
    "fig = plt.figure(1, figsize=(15,7.5))\n",
    "ax = fig.add_subplot(1,2,1)\n",
    "ax2 = fig.add_subplot(1,2,2)\n",
    "\n",
    "ax.axis('off')\n",
    "ax2.axis('off')\n",
    "\n",
    "im = ax.imshow(sqrtpaths1.reshape((meshX,meshY)),   extent=[-5.0,5.0,-5.0,5.0], \n",
    "               cmap='Blues', origin='upper', alpha=1.0, vmax=fmax)\n",
    "im2  = ax.imshow(mesh.topography.data.reshape((meshX,meshY)), extent=[-5.0,5.0,-5.0,5.0], \n",
    "                 cmap=plt.cm.bone_r, origin='upper', alpha=0.1)\n",
    "\n",
    "im3 = ax2.imshow(sqrtpaths_noise1.reshape((meshX,meshY)),  extent=[-5.0,5.0,-5.0,5.0], \n",
    "                 cmap='Blues', origin='upper', alpha=1.0, vmax=fmax)\n",
    "im4  = ax2.imshow(mesh.topography.data.reshape((meshX,meshY)), extent=[-5.0,5.0,-5.0,5.0], \n",
    "                  cmap=plt.cm.bone_r, origin='upper', alpha=0.1)\n",
    "\n",
    "ax.scatter(mesh.coords[outflows, 0], mesh.coords[outflows, 1])\n",
    "ax2.scatter(mesh.coords[outflows_noise, 0], mesh.coords[outflows_noise, 1])\n",
    "\n",
    "# fig.savefig(\"PixMesh_FlowPaths_N1.png\", dpi=300)"
   ]
  },
  {
   "cell_type": "code",
   "execution_count": null,
   "metadata": {},
   "outputs": [],
   "source": [
    "# The following may not matter but noise can break up the outflows\n",
    "\n",
    "theta_vals = np.radians(np.linspace(-180,180,21))\n",
    "outflow_bins = np.digitize(theta[outflows_noise], theta_vals)\n",
    "theta_bins = theta_vals[1:] - np.pi / 20\n",
    "\n",
    "raw_flowsN1 = flowpaths_noise1[outflows_noise]\n",
    "raw_flowsN2 = flowpaths_noise[outflows_noise]\n",
    "raw_flowsN3 = flowpaths_noise3[outflows_noise]\n",
    "\n",
    "bin_flowsN1 = np.zeros(20)\n",
    "bin_flowsN2 = np.zeros(20)\n",
    "bin_flowsN3 = np.zeros(20)\n",
    "\n",
    "for i in range(0,len(outflows_noise)):\n",
    "    bin_flowsN1[outflow_bins[i]-1] += raw_flowsN1[i]\n",
    "    bin_flowsN2[outflow_bins[i]-1] += raw_flowsN2[i]\n",
    "    bin_flowsN3[outflow_bins[i]-1] += raw_flowsN1[i]\n",
    "\n",
    "\n",
    "# print bin_flowsN1, bin_flowsN1.sum()\n",
    "# print bin_flowsN2, bin_flowsN2.sum()\n",
    "# print bin_flowsN3, bin_flowsN3.sum()"
   ]
  },
  {
   "cell_type": "code",
   "execution_count": null,
   "metadata": {},
   "outputs": [],
   "source": []
  },
  {
   "cell_type": "code",
   "execution_count": null,
   "metadata": {},
   "outputs": [],
   "source": [
    "fig = plt.figure(1, figsize=(15,7.5))\n",
    "ax = fig.add_subplot(2,1,1)\n",
    "ax2 = fig.add_subplot(2,1,2)\n",
    "\n",
    "reference = 25 *np.pi / 20.0 \n",
    "\n",
    "ax.set_xlim(-180,180)\n",
    "ax.set_xticks(np.arange(-180,200,60))\n",
    "ax2.set_xlim(-180,180)\n",
    "ax2.set_xticks(np.arange(-180,200,60))\n",
    "\n",
    "ax.axhline(y=0.0, linestyle=':', color=\"Black\")\n",
    "ax2.axhline(y=0.0, linestyle=':', color=\"Black\")\n",
    "\n",
    "\n",
    "#ax.set_ylim(0.0, 100.0)\n",
    "\n",
    "ax.bar( np.degrees(theta[outflows])+0.0, (flowpaths1[outflows]-reference),  linewidth=1, edgecolor=\"Black\",\n",
    "                                            width=3, color=\"#00FFCC\")\n",
    "\n",
    "ax.bar( np.degrees(theta[outflows])+4.0,     (flowpaths[outflows]-reference), linewidth=1, edgecolor=\"Black\",\n",
    "                                           width=3, color=\"#CC4400\")\n",
    "\n",
    "ax.bar( np.degrees(theta[outflows])+8.0, (flowpaths3[outflows]-reference),  linewidth=1, edgecolor=\"Black\",\n",
    "                                           width=3, color=\"#004400\")\n",
    "\n",
    "\n",
    "\n",
    "ax2.bar( np.degrees(theta_bins)+2.0, (bin_flowsN1-reference),  linewidth=1, edgecolor=\"Black\",\n",
    "                                            width=3, color=\"#00FFCC\")\n",
    "\n",
    "ax2.bar( np.degrees(theta_bins)+6.0, (bin_flowsN2-reference),  linewidth=1, edgecolor=\"Black\", \n",
    "                                           width=3, color=\"#CC4400\")\n",
    "\n",
    "\n",
    "ax2.bar( np.degrees(theta_bins)+10.0, (bin_flowsN3-reference),  linewidth=1, edgecolor=\"Black\",\n",
    "                                           width=3, color=\"#004400\")\n",
    "\n",
    "\n",
    "\n",
    "\n",
    "# ax.bar( np.arange(0,20),  flowpaths[outflows], width = 0.05)\n",
    "# ax.bar( 0.2 + np.arange(0,20),  flowpaths_noise[outflows_noise] , width = 0.05 )\n",
    "\n",
    "# ax.bar( 0.4 + np.arange(0,20),  flowpaths1[outflows], width = 0.05)\n",
    "# ax.bar( 0.6 + np.arange(0,20),  flowpaths_noise1[outflows_noise] , width = 0.05 )"
   ]
  },
  {
   "cell_type": "code",
   "execution_count": null,
   "metadata": {},
   "outputs": [],
   "source": [
    "mesh.downhill_neighbours=3"
   ]
  },
  {
   "cell_type": "code",
   "execution_count": null,
   "metadata": {},
   "outputs": [],
   "source": [
    "cum1 = mesh.upstream_integral_fn(fn_rainfall).evaluate(mesh)"
   ]
  },
  {
   "cell_type": "code",
   "execution_count": null,
   "metadata": {},
   "outputs": [],
   "source": [
    "cum3 = mesh.rbf_smoother(cum1)"
   ]
  },
  {
   "cell_type": "code",
   "execution_count": null,
   "metadata": {},
   "outputs": [],
   "source": [
    "fmax = 1.0\n",
    "fig = plt.figure(1, figsize=(15,7.5))\n",
    "ax = fig.add_subplot(1,2,1)\n",
    "ax2 = fig.add_subplot(1,2,2)\n",
    "\n",
    "ax.axis('off')\n",
    "ax2.axis('off')\n",
    "\n",
    "im = ax.imshow(np.sqrt(cum3).reshape((meshX,meshY)),   extent=[-5.0,5.0,-5.0,5.0], \n",
    "               cmap='Blues', origin='upper', alpha=1.0, vmax=fmax)\n",
    "im2  = ax.imshow(mesh.topography.data.reshape((meshX,meshY)), extent=[-5.0,5.0,-5.0,5.0], \n",
    "                 cmap=plt.cm.bone_r, origin='upper', alpha=0.1)\n",
    "\n",
    "im3 = ax2.imshow(np.sqrt(cum1).reshape((meshX,meshY)),  extent=[-5.0,5.0,-5.0,5.0], \n",
    "                 cmap='Blues', origin='upper', alpha=1.0, vmax=fmax)\n",
    "im4  = ax2.imshow(mesh.topography.data.reshape((meshX,meshY)), extent=[-5.0,5.0,-5.0,5.0], \n",
    "                  cmap=plt.cm.bone_r, origin='upper', alpha=0.1)\n",
    "\n",
    "# ax.scatter(mesh.coords[outflows, 0], mesh.coords[outflows, 1])\n",
    "# ax2.scatter(mesh.coords[outflows_noise, 0], mesh.coords[outflows_noise, 1])\n",
    "\n",
    "# fig.savefig(\"PixMesh_FlowPaths_N2_Averages.png\", dpi=300)"
   ]
  },
  {
   "cell_type": "code",
   "execution_count": null,
   "metadata": {},
   "outputs": [],
   "source": []
  }
 ],
 "metadata": {
  "jupytext": {
   "text_representation": {
    "extension": ".md",
    "format_name": "myst",
    "format_version": 0.12,
    "jupytext_version": "1.7.1"
   }
  },
  "kernelspec": {
   "display_name": "Python 3",
   "language": "python",
   "name": "python3"
  },
  "language_info": {
   "codemirror_mode": {
    "name": "ipython",
    "version": 3
   },
   "file_extension": ".py",
   "mimetype": "text/x-python",
   "name": "python",
   "nbconvert_exporter": "python",
   "pygments_lexer": "ipython3",
   "version": "3.7.8"
  },
  "source_map": [
   12,
   17,
   23,
   28,
   39,
   44,
   70,
   80,
   114,
   131,
   136,
   160,
   185,
   209,
   235,
   239,
   289,
   293,
   297,
   301,
   326
  ]
 },
 "nbformat": 4,
 "nbformat_minor": 4
}