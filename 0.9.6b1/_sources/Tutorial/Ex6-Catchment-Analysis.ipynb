{
 "cells": [
  {
   "cell_type": "markdown",
   "metadata": {},
   "source": [
    "# Example 6- Catchment analysis from the matrix transpose.\n",
    "\n",
    "We start with \"Swamp Mountain\" from the previous notebooks. This is slightly modified so that there are no lakes / pits right at the boundary.\n",
    "\n",
    "The catchments are identified by first finding all the outflow points of the mesh (local minima that correspond to the boundary mask) and then using the transpose of the downhill-propagation matrix $D^T$ to run information (the unique ID of each outflow points) up to the top of the catchment. \n",
    "\n",
    "The stopping condition is that no further change occurs. \n",
    "\n",
    "*Note* in the context of multiple pathways, this operation produces a fuzzy catchment. The first thing we do in this notebook is to specify `downhill_neighbours=1`\n",
    "\n",
    "\n",
    "## Notebook contents\n",
    "\n",
    "- [1-2-3 downhill neighbours](#1-2-3-downhill-neighbours)\n",
    "- [Upstream propogation](#Set-neighbours-to-1-and-compute-\"uphill\"-connectivity)\n",
    "- [Dense downhill matrices](#Dense-downhill-matrices)"
   ]
  },
  {
   "cell_type": "code",
   "execution_count": 1,
   "metadata": {},
   "outputs": [],
   "source": [
    "import matplotlib.pyplot as plt\n",
    "import numpy as np\n",
    "from quagmire import tools as meshtools\n",
    "%matplotlib inline"
   ]
  },
  {
   "cell_type": "markdown",
   "metadata": {},
   "source": [
    "## Construct the swamp-mountain mesh\n",
    "\n",
    "This time we take care to avoid lakes etc on the boundaries as this makes the catchment analysis more complicated. Visualise the mesh to make sure that this works."
   ]
  },
  {
   "cell_type": "code",
   "execution_count": 2,
   "metadata": {},
   "outputs": [
    {
     "name": "stdout",
     "output_type": "stream",
     "text": [
      "Underlying Mesh type: TriMesh\n"
     ]
    },
    {
     "name": "stdout",
     "output_type": "stream",
     "text": [
      "0 - Delaunay triangulation 0.5668627370000081s\n",
      "0 - Calculate node weights and area 0.018873675000008916s\n",
      "0 - Find boundaries 0.004186916999969981s\n",
      "0 - cKDTree 0.03901435400001674s\n"
     ]
    },
    {
     "name": "stdout",
     "output_type": "stream",
     "text": [
      "0 - Construct neighbour cloud arrays 1.0646847959999945s, (0.569300945000009s + 0.4953407509999579s)\n",
      "0 - Construct rbf weights 0.10116069800000105s\n",
      "\n",
      "Number of points in the triangulation: 156925\n"
     ]
    }
   ],
   "source": [
    "from quagmire import QuagMesh \n",
    "from quagmire import QuagMesh # all routines we need are within this class\n",
    "from quagmire import QuagMesh\n",
    "\n",
    "minX, maxX = -5.0, 5.0\n",
    "minY, maxY = -5.0, 5.0,\n",
    "\n",
    "spacingX = 0.05\n",
    "spacingY = 0.05\n",
    "\n",
    "x, y, simplices = meshtools.elliptical_mesh(minX, maxX, minY, maxY, spacingX, spacingY, 1.)\n",
    "\n",
    "DM = meshtools.create_DMPlex(x, y, simplices)\n",
    "DM = meshtools.refine_DM(DM, refinement_levels=2)\n",
    "\n",
    "mesh = QuagMesh(DM, downhill_neighbours=1)\n",
    "\n",
    "# Note ... this is what refinement does \n",
    "x = mesh.coords[:,0]\n",
    "y = mesh.coords[:,1]\n",
    "\n",
    "print( \"\\nNumber of points in the triangulation: {}\".format(mesh.npoints))"
   ]
  },
  {
   "cell_type": "code",
   "execution_count": 3,
   "metadata": {
    "hide_input": false
   },
   "outputs": [
    {
     "name": "stdout",
     "output_type": "stream",
     "text": [
      "0 - Build downhill matrices 0.22553968799996937s\n"
     ]
    },
    {
     "name": "stdout",
     "output_type": "stream",
     "text": [
      "0 - Build upstream areas 0.32239416800001663s\n"
     ]
    }
   ],
   "source": [
    "radius  = np.sqrt((x**2 + y**2))\n",
    "theta   = np.arctan2(y,x)+0.1\n",
    "\n",
    "height  = np.exp(-0.025*(x**2 + y**2)**2) + 0.25 * (0.2*radius)**4  * np.cos(5.0*theta)**2 ## Less so\n",
    "height  += 0.5 * (1.0-0.2*radius)\n",
    "height  -= height.min()\n",
    "\n",
    "## Add smoothed random noise to make some \"lakes\" \n",
    "\n",
    "mesh._construct_rbf_weights(delta=mesh.delta*3.0)\n",
    "\n",
    "randpts1 = np.where(np.random.random(height.shape)>0.995, -1.0, 0.0)\n",
    "hrand1   = 20.0 * mesh.rbf_smoother(randpts1, iterations=10)\n",
    "heightn = height + hrand1 * np.exp(-radius**2/15.0) \n",
    "\n",
    "\n",
    "with mesh.deform_topography():\n",
    "    mesh.downhill_neighbours = 2\n",
    "    mesh.topography.data = heightn\n",
    "\n",
    "\n",
    "# let's use a rainfall proportional to height (any choice is ok)\n",
    "\n",
    "rainfall_fn  = mesh.topography ** 2.0\n",
    "flowrate_fn  = mesh.upstream_integral_fn(rainfall_fn)\n",
    "str_power_fn = mesh.upstream_integral_fn(rainfall_fn)**2.0 * mesh.slope ** 2.0"
   ]
  },
  {
   "cell_type": "markdown",
   "metadata": {},
   "source": [
    "## Process the surface to fill swamps and lakes"
   ]
  },
  {
   "cell_type": "code",
   "execution_count": 4,
   "metadata": {},
   "outputs": [
    {
     "name": "stdout",
     "output_type": "stream",
     "text": [
      "Underlying Mesh type: TriMesh\n"
     ]
    },
    {
     "name": "stdout",
     "output_type": "stream",
     "text": [
      "0 - Delaunay triangulation 0.5252722660000018s\n",
      "0 - Calculate node weights and area 0.015205560000026708s\n",
      "0 - Find boundaries 0.0032109130000321784s\n",
      "0 - cKDTree 0.03645324299998265s\n"
     ]
    },
    {
     "name": "stdout",
     "output_type": "stream",
     "text": [
      "0 - Construct neighbour cloud arrays 1.040844691000018s, (0.555766985000048s + 0.48503370600002427s)\n",
      "0 - Construct rbf weights 0.08119591899998113s\n"
     ]
    },
    {
     "name": "stdout",
     "output_type": "stream",
     "text": [
      "0 - Build downhill matrices 0.20328319800000827s\n"
     ]
    },
    {
     "name": "stdout",
     "output_type": "stream",
     "text": [
      "0 - Build upstream areas 0.32206016499998213s\n",
      "Low point local patch fill\n"
     ]
    },
    {
     "name": "stdout",
     "output_type": "stream",
     "text": [
      "0 - Build downhill matrices 0.20289379700000154s\n"
     ]
    },
    {
     "name": "stdout",
     "output_type": "stream",
     "text": [
      "0 - Build downhill matrices 0.20395739999997886s\n"
     ]
    },
    {
     "name": "stdout",
     "output_type": "stream",
     "text": [
      "0 - Build downhill matrices 0.20324979699995538s\n"
     ]
    },
    {
     "name": "stdout",
     "output_type": "stream",
     "text": [
      "0 - Build downhill matrices 0.203577499000005s\n"
     ]
    },
    {
     "name": "stdout",
     "output_type": "stream",
     "text": [
      "0 - Build downhill matrices 0.2027722949999884s\n",
      "Low point local patch fill  1.2112965520000216  seconds\n"
     ]
    },
    {
     "name": "stdout",
     "output_type": "stream",
     "text": [
      "0 - Build upstream areas 0.321986862000017s\n",
      "110  iterations, time =  0.14457416599998396\n",
      "Build low point catchments -  0.14541236899998466  seconds\n"
     ]
    },
    {
     "name": "stdout",
     "output_type": "stream",
     "text": [
      "0  Sort spills -  0.011980946999983644\n",
      "0  Gather spill data -  0.0001548000000184402\n",
      "0  Sort all spills -  0.00012770000000728032\n"
     ]
    },
    {
     "name": "stdout",
     "output_type": "stream",
     "text": [
      "0 - Build downhill matrices 0.21090302599998267s\n",
      "Low point swamp fill  0.5276396670000167  seconds\n"
     ]
    },
    {
     "name": "stdout",
     "output_type": "stream",
     "text": [
      "0 - Build upstream areas 0.5160112209999852s\n",
      "0 : 55\n"
     ]
    },
    {
     "name": "stdout",
     "output_type": "stream",
     "text": [
      "231  iterations, time =  0.293488348999972\n",
      "Build low point catchments -  0.29439045300000544  seconds\n",
      "0  Sort spills -  0.006255223999971804\n",
      "0  Gather spill data -  0.00010320100000171806\n",
      "0  Sort all spills -  7.060000001501976e-05\n"
     ]
    },
    {
     "name": "stdout",
     "output_type": "stream",
     "text": [
      "0 - Build downhill matrices 0.2104328230000192s\n",
      "Low point swamp fill  0.6012582530000259  seconds\n"
     ]
    },
    {
     "name": "stdout",
     "output_type": "stream",
     "text": [
      "0 - Build upstream areas 0.5939649229999873s\n",
      "1 : 16\n"
     ]
    },
    {
     "name": "stdout",
     "output_type": "stream",
     "text": [
      "262  iterations, time =  0.32224736000000576\n",
      "Build low point catchments -  0.3231601640000008  seconds\n",
      "0  Sort spills -  0.0033637129999988247\n",
      "0  Gather spill data -  0.00010830099995473574\n",
      "0  Sort all spills -  6.0700000005908805e-05\n"
     ]
    },
    {
     "name": "stdout",
     "output_type": "stream",
     "text": [
      "0 - Build downhill matrices 0.21121742499997254s\n",
      "Low point swamp fill  0.6042435619999651  seconds\n"
     ]
    },
    {
     "name": "stdout",
     "output_type": "stream",
     "text": [
      "0 - Build upstream areas 0.5947629230000189s\n",
      "2 : 8\n"
     ]
    },
    {
     "name": "stdout",
     "output_type": "stream",
     "text": [
      "275  iterations, time =  0.33655441500002325\n",
      "Build low point catchments -  0.3374288180000349  seconds\n",
      "0  Sort spills -  0.002775510999981634\n",
      "0  Gather spill data -  0.00010799999995469989\n",
      "0  Sort all spills -  6.060100002969193e-05\n"
     ]
    },
    {
     "name": "stdout",
     "output_type": "stream",
     "text": [
      "0 - Build downhill matrices 0.20412059699998508s\n",
      "Low point swamp fill  0.5998043420000272  seconds\n"
     ]
    },
    {
     "name": "stdout",
     "output_type": "stream",
     "text": [
      "0 - Build upstream areas 0.6494532340000205s\n",
      "3 : 7\n"
     ]
    },
    {
     "name": "stdout",
     "output_type": "stream",
     "text": [
      "320  iterations, time =  0.3950235410000005\n",
      "Build low point catchments -  0.3959723440000289  seconds\n",
      "0  Sort spills -  0.0025132090000283824\n",
      "0  Gather spill data -  0.00010880100001031678\n",
      "0  Sort all spills -  6.100000001652006e-05\n"
     ]
    },
    {
     "name": "stdout",
     "output_type": "stream",
     "text": [
      "0 - Build downhill matrices 0.20508329899996625s\n",
      "Low point swamp fill  0.6574117639999599  seconds\n"
     ]
    },
    {
     "name": "stdout",
     "output_type": "stream",
     "text": [
      "0 - Build upstream areas 0.6496581320000132s\n",
      "4 : 4\n"
     ]
    },
    {
     "name": "stdout",
     "output_type": "stream",
     "text": [
      "320  iterations, time =  0.3922386280000296\n",
      "Build low point catchments -  0.3931627310000181  seconds\n",
      "0  Sort spills -  0.0012659049999683702\n",
      "0  Gather spill data -  0.00011650099997950747\n",
      "0  Sort all spills -  0.0005195019999746364\n"
     ]
    },
    {
     "name": "stdout",
     "output_type": "stream",
     "text": [
      "0 - Build downhill matrices 0.20350779299997157s\n",
      "Low point swamp fill  0.6432701049999991  seconds\n"
     ]
    },
    {
     "name": "stdout",
     "output_type": "stream",
     "text": [
      "0 - Build upstream areas 0.6547516489999907s\n",
      "5 : 3\n"
     ]
    },
    {
     "name": "stdout",
     "output_type": "stream",
     "text": [
      "320  iterations, time =  0.3933926310000402\n",
      "Build low point catchments -  0.39426423399999067  seconds\n",
      "0  Sort spills -  0.0006362019999528457\n",
      "0  Gather spill data -  0.0003867010000249138\n",
      "0  Sort all spills -  0.000282102000028317\n"
     ]
    },
    {
     "name": "stdout",
     "output_type": "stream",
     "text": [
      "0 - Build downhill matrices 0.20304149000003235s\n",
      "Low point swamp fill  0.640586092000035  seconds\n"
     ]
    },
    {
     "name": "stdout",
     "output_type": "stream",
     "text": [
      "0 - Build upstream areas 0.6529885390000345s\n",
      "6 : 2\n"
     ]
    },
    {
     "name": "stdout",
     "output_type": "stream",
     "text": [
      "320  iterations, time =  0.39458743400001595\n",
      "Build low point catchments -  0.39558603799997627  seconds\n",
      "0  Sort spills -  0.0006419029999733539\n",
      "0  Gather spill data -  0.00010229999998045969\n",
      "0  Sort all spills -  5.8899999999084685e-05\n"
     ]
    },
    {
     "name": "stdout",
     "output_type": "stream",
     "text": [
      "0 - Build downhill matrices 0.20267458699998997s\n",
      "Low point swamp fill  0.6419814939999924  seconds\n"
     ]
    },
    {
     "name": "stdout",
     "output_type": "stream",
     "text": [
      "0 - Build upstream areas 0.6503367810000213s\n",
      "7 : 3\n"
     ]
    },
    {
     "name": "stdout",
     "output_type": "stream",
     "text": [
      "320  iterations, time =  0.40155720299998166\n",
      "Build low point catchments -  0.40251381799998853  seconds\n",
      "0  Sort spills -  0.0006533099999614933\n",
      "0  Gather spill data -  0.00010580200000731566\n",
      "0  Sort all spills -  5.4100999989259435e-05\n"
     ]
    },
    {
     "name": "stdout",
     "output_type": "stream",
     "text": [
      "0 - Build downhill matrices 0.20374494800000775s\n",
      "Low point swamp fill  0.6503332449999562  seconds\n"
     ]
    },
    {
     "name": "stdout",
     "output_type": "stream",
     "text": [
      "0 - Build upstream areas 0.6487000950000379s\n",
      "8 : 3\n"
     ]
    },
    {
     "name": "stdout",
     "output_type": "stream",
     "text": [
      "320  iterations, time =  0.39923223400001007\n",
      "Build low point catchments -  0.4001688490000106  seconds\n",
      "0  Sort spills -  0.0006533100000183367\n",
      "0  Gather spill data -  0.00010350100001232931\n",
      "0  Sort all spills -  5.700100001604369e-05\n"
     ]
    },
    {
     "name": "stdout",
     "output_type": "stream",
     "text": [
      "0 - Build downhill matrices 0.2036921290000464s\n",
      "Low point swamp fill  0.6466191349999804  seconds\n"
     ]
    },
    {
     "name": "stdout",
     "output_type": "stream",
     "text": [
      "0 - Build upstream areas 0.6514644599999997s\n",
      "9 : 3\n"
     ]
    },
    {
     "name": "stdout",
     "output_type": "stream",
     "text": [
      "320  iterations, time =  0.39381231800001615\n",
      "Build low point catchments -  0.39480843299998014  seconds\n",
      "0  Sort spills -  0.000662909999959993\n",
      "0  Gather spill data -  0.0001023010000267277\n",
      "0  Sort all spills -  5.660099998294754e-05\n"
     ]
    },
    {
     "name": "stdout",
     "output_type": "stream",
     "text": [
      "0 - Build downhill matrices 0.20376609800001688s\n",
      "Low point swamp fill  0.6413819819999844  seconds\n"
     ]
    },
    {
     "name": "stdout",
     "output_type": "stream",
     "text": [
      "0 - Build upstream areas 0.6555858670000134s\n",
      "10 : 3\n"
     ]
    },
    {
     "name": "stdout",
     "output_type": "stream",
     "text": [
      "320  iterations, time =  0.39315445299996554\n",
      "Build low point catchments -  0.3940704670000059  seconds\n",
      "0  Sort spills -  0.0006522099999983766\n",
      "0  Gather spill data -  0.00041400600002816645\n",
      "0  Sort all spills -  0.00028810399999201763\n"
     ]
    },
    {
     "name": "stdout",
     "output_type": "stream",
     "text": [
      "0 - Build downhill matrices 0.20286486800000603s\n",
      "Low point swamp fill  0.639538578999975  seconds\n"
     ]
    },
    {
     "name": "stdout",
     "output_type": "stream",
     "text": [
      "0 - Build upstream areas 0.6507738250000443s\n",
      "11 : 2\n"
     ]
    },
    {
     "name": "stdout",
     "output_type": "stream",
     "text": [
      "320  iterations, time =  0.39186249499999803\n",
      "Build low point catchments -  0.3925700060000281  seconds\n",
      "0  Sort spills -  0.0006251089999977921\n",
      "0  Gather spill data -  0.0003921060000493526\n",
      "0  Sort all spills -  7.720199999994293e-05\n"
     ]
    },
    {
     "name": "stdout",
     "output_type": "stream",
     "text": [
      "0 - Build downhill matrices 0.20322345699997868s\n",
      "Low point swamp fill  0.6381026999999904  seconds\n"
     ]
    },
    {
     "name": "stdout",
     "output_type": "stream",
     "text": [
      "0 - Build upstream areas 0.6480185099999858s\n",
      "12 : 3\n"
     ]
    },
    {
     "name": "stdout",
     "output_type": "stream",
     "text": [
      "320  iterations, time =  0.39818095900000117\n",
      "Build low point catchments -  0.3991069730000163  seconds\n",
      "0  Sort spills -  0.0006315090000157397\n",
      "0  Gather spill data -  0.00010740100003658881\n",
      "0  Sort all spills -  5.4900000009183714e-05\n"
     ]
    },
    {
     "name": "stdout",
     "output_type": "stream",
     "text": [
      "0 - Build downhill matrices 0.20357883500003027s\n",
      "Low point swamp fill  0.645464349000008  seconds\n"
     ]
    },
    {
     "name": "stdout",
     "output_type": "stream",
     "text": [
      "0 - Build upstream areas 0.6506002859999853s\n",
      "13 : 3\n"
     ]
    },
    {
     "name": "stdout",
     "output_type": "stream",
     "text": [
      "320  iterations, time =  0.39386124899999686\n",
      "Build low point catchments -  0.3947984630000292  seconds\n",
      "0  Sort spills -  0.0006572089999963282\n",
      "0  Gather spill data -  0.00010740199996916999\n",
      "0  Sort all spills -  5.400100002361796e-05\n"
     ]
    },
    {
     "name": "stdout",
     "output_type": "stream",
     "text": [
      "0 - Build downhill matrices 0.20215119400000958s\n",
      "Low point swamp fill  0.6398408910000057  seconds\n"
     ]
    },
    {
     "name": "stdout",
     "output_type": "stream",
     "text": [
      "0 - Build upstream areas 0.6501195220000113s\n",
      "14 : 2\n"
     ]
    },
    {
     "name": "stdout",
     "output_type": "stream",
     "text": [
      "320  iterations, time =  0.3971088499999951\n",
      "Build low point catchments -  0.39801856399998314  seconds\n",
      "0  Sort spills -  0.0006383090000099401\n",
      "0  Gather spill data -  0.00037990599997783647\n",
      "0  Sort all spills -  0.00028620400001955204\n"
     ]
    },
    {
     "name": "stdout",
     "output_type": "stream",
     "text": [
      "0 - Build downhill matrices 0.2036089000000061s\n",
      "Low point swamp fill  0.644541495999988  seconds\n"
     ]
    },
    {
     "name": "stdout",
     "output_type": "stream",
     "text": [
      "0 - Build upstream areas 0.6500199469999757s\n",
      "15 : 4\n"
     ]
    },
    {
     "name": "stdout",
     "output_type": "stream",
     "text": [
      "320  iterations, time =  0.3978422310000269\n",
      "Build low point catchments -  0.398780644999988  seconds\n",
      "0  Sort spills -  0.0006466099999897779\n",
      "0  Gather spill data -  0.00036020499999267486\n",
      "0  Sort all spills -  0.00029350400001249\n"
     ]
    },
    {
     "name": "stdout",
     "output_type": "stream",
     "text": [
      "0 - Build downhill matrices 0.20306387300001916s\n",
      "Low point swamp fill  0.6444415429999708  seconds\n"
     ]
    },
    {
     "name": "stdout",
     "output_type": "stream",
     "text": [
      "0 - Build upstream areas 0.6499467770000251s\n",
      "16 : 3\n"
     ]
    },
    {
     "name": "stdout",
     "output_type": "stream",
     "text": [
      "320  iterations, time =  0.3917323059999944\n",
      "Build low point catchments -  0.39270512000001645  seconds\n",
      "0  Sort spills -  0.0006570099999976264\n",
      "0  Gather spill data -  0.0001068020000047909\n",
      "0  Sort all spills -  5.350100002488034e-05\n"
     ]
    },
    {
     "name": "stdout",
     "output_type": "stream",
     "text": [
      "0 - Build downhill matrices 0.2028986430000259s\n",
      "Low point swamp fill  0.6393995980000113  seconds\n"
     ]
    },
    {
     "name": "stdout",
     "output_type": "stream",
     "text": [
      "0 - Build upstream areas 0.6516495520000376s\n",
      "17 : 2\n"
     ]
    },
    {
     "name": "stdout",
     "output_type": "stream",
     "text": [
      "320  iterations, time =  0.3942793919999872\n",
      "Build low point catchments -  0.3952199050000331  seconds\n",
      "0  Sort spills -  0.0006297090000089156\n",
      "0  Gather spill data -  0.00010570099999540616\n",
      "0  Sort all spills -  6.040099998472215e-05\n"
     ]
    },
    {
     "name": "stdout",
     "output_type": "stream",
     "text": [
      "0 - Build downhill matrices 0.20290342800001326s\n",
      "Low point swamp fill  0.6407083480000324  seconds\n"
     ]
    },
    {
     "name": "stdout",
     "output_type": "stream",
     "text": [
      "0 - Build upstream areas 0.6494932530000028s\n",
      "18 : 2\n"
     ]
    },
    {
     "name": "stdout",
     "output_type": "stream",
     "text": [
      "320  iterations, time =  0.39247363499998755\n",
      "Build low point catchments -  0.39337244800003646  seconds\n",
      "0  Sort spills -  0.0006239089999553471\n",
      "0  Gather spill data -  0.00010440099998731966\n",
      "0  Sort all spills -  5.5501000019830826e-05\n"
     ]
    },
    {
     "name": "stdout",
     "output_type": "stream",
     "text": [
      "0 - Build downhill matrices 0.20287071300003845s\n",
      "Low point swamp fill  0.6389539740000032  seconds\n"
     ]
    },
    {
     "name": "stdout",
     "output_type": "stream",
     "text": [
      "0 - Build upstream areas 0.6567485870000382s\n",
      "19 : 2\n"
     ]
    },
    {
     "name": "stdout",
     "output_type": "stream",
     "text": [
      "320  iterations, time =  0.39198119899998574\n",
      "Build low point catchments -  0.39285791200001086  seconds\n",
      "0  Sort spills -  0.000645108999947297\n",
      "0  Gather spill data -  0.00010450100000980456\n",
      "0  Sort all spills -  5.730100002665495e-05\n"
     ]
    },
    {
     "name": "stdout",
     "output_type": "stream",
     "text": [
      "0 - Build downhill matrices 0.20392359800001714s\n",
      "Low point swamp fill  0.6391393139999764  seconds\n"
     ]
    },
    {
     "name": "stdout",
     "output_type": "stream",
     "text": [
      "0 - Build upstream areas 0.6505870459999983s\n",
      "20 : 2\n"
     ]
    },
    {
     "name": "stdout",
     "output_type": "stream",
     "text": [
      "320  iterations, time =  0.3962214109999991\n",
      "Build low point catchments -  0.3971490250000329  seconds\n",
      "0  Sort spills -  0.000622609000004104\n",
      "0  Gather spill data -  0.00010330100002420295\n",
      "0  Sort all spills -  5.780100002539257e-05\n"
     ]
    },
    {
     "name": "stdout",
     "output_type": "stream",
     "text": [
      "0 - Build downhill matrices 0.20290166899997075s\n",
      "Low point swamp fill  0.6428774990000079  seconds\n"
     ]
    },
    {
     "name": "stdout",
     "output_type": "stream",
     "text": [
      "0 - Build upstream areas 0.653010122000012s\n",
      "21 : 2\n"
     ]
    },
    {
     "name": "stdout",
     "output_type": "stream",
     "text": [
      "320  iterations, time =  0.39207001599999103\n",
      "Build low point catchments -  0.3929671280000093  seconds\n",
      "0  Sort spills -  0.0006368090000137272\n",
      "0  Gather spill data -  0.00010080099997367142\n",
      "0  Sort all spills -  5.5400999997345934e-05\n"
     ]
    },
    {
     "name": "stdout",
     "output_type": "stream",
     "text": [
      "0 - Build downhill matrices 0.20235894699999335s\n",
      "Low point swamp fill  0.638034575000006  seconds\n"
     ]
    },
    {
     "name": "stdout",
     "output_type": "stream",
     "text": [
      "0 - Build upstream areas 0.6582773270000075s\n",
      "22 : 2\n"
     ]
    },
    {
     "name": "stdout",
     "output_type": "stream",
     "text": [
      "320  iterations, time =  0.3913974779999876\n",
      "Build low point catchments -  0.39232009099998777  seconds\n",
      "0  Sort spills -  0.000628509000023314\n",
      "0  Gather spill data -  0.00010470099999793092\n",
      "0  Sort all spills -  5.930100002160543e-05\n"
     ]
    },
    {
     "name": "stdout",
     "output_type": "stream",
     "text": [
      "0 - Build downhill matrices 0.2027743300000111s\n",
      "Low point swamp fill  0.6378907209999625  seconds\n"
     ]
    },
    {
     "name": "stdout",
     "output_type": "stream",
     "text": [
      "0 - Build upstream areas 0.6493166430000201s\n",
      "23 : 2\n"
     ]
    }
   ],
   "source": [
    "## Quagmire also has a swamp filling algorithm\n",
    "\n",
    "mesh1s = QuagMesh(DM)\n",
    "with mesh1s.deform_topography():\n",
    "    mesh1s.topography.data = mesh.topography.data\n",
    "    \n",
    "mesh1s.low_points_local_patch_fill(its=5, smoothing_steps=1)\n",
    "\n",
    "for i in range(0,50):\n",
    "    mesh1s.low_points_swamp_fill(ref_height=-0.01)\n",
    "    \n",
    "    # In parallel, we can't break if ANY processor has work to do (barrier / sync issue)\n",
    "    low_points2 = mesh1s.identify_global_low_points()\n",
    "    \n",
    "    print(\"{} : {}\".format(i,low_points2[0]))\n",
    "    if low_points2[0] == 0:\n",
    "        break"
   ]
  },
  {
   "cell_type": "code",
   "execution_count": null,
   "metadata": {},
   "outputs": [],
   "source": [
    "rainfall_fn_1s  = mesh1s.topography ** 2.0\n",
    "flowrate_fn_1s  = mesh1s.upstream_integral_fn(rainfall_fn_1s)\n",
    "str_power_fn_1s = mesh1s.upstream_integral_fn(rainfall_fn_1s)**2.0 * mesh.slope ** 2.0"
   ]
  },
  {
   "cell_type": "markdown",
   "metadata": {},
   "source": [
    "## Locating and viewing the outflow points\n",
    "\n",
    "`quagmire` provides a mechanism to find the outflow points of a domain and return the node values. *Note:* in parallel these are the local node numbers and are not a unique ID. To do this, we can obtain the global ID from PETSc but it does also help to have the indices all be small numbers so we can map colours effectively."
   ]
  },
  {
   "cell_type": "code",
   "execution_count": null,
   "metadata": {},
   "outputs": [],
   "source": [
    "outflows = mesh1s.identify_outflow_points()\n",
    "print(\"Mesh has {} outflows\".format(outflows.shape[0]))"
   ]
  },
  {
   "cell_type": "code",
   "execution_count": null,
   "metadata": {},
   "outputs": [],
   "source": [
    "import quagmire\n",
    "print(quagmire.mesh.check_object_is_a_q_mesh_and_raise(mesh1s))"
   ]
  },
  {
   "cell_type": "code",
   "execution_count": null,
   "metadata": {},
   "outputs": [],
   "source": [
    "import lavavu\n",
    "\n",
    "outpoints = np.column_stack([mesh.tri.points[outflows], heightn[outflows]])\n",
    "points = np.column_stack([mesh.tri.points, heightn])\n",
    "\n",
    "lv = lavavu.Viewer(border=False, background=\"#FFFFFF\", resolution=[600,600], near=-10.0)\n",
    "\n",
    "nodes = lv.points(\"nodes\", pointsize=10.0, pointtype=\"shiny\", colour=\"#FF0000\" )\n",
    "nodes.vertices(outpoints)\n",
    "\n",
    "tri1 = lv.triangles(\"triangles\", wireframe=False)\n",
    "tri1.vertices(points)\n",
    "tri1.indices(mesh.tri.simplices)\n",
    "\n",
    "tri1.values(np.log(flowrate_fn_1s.evaluate(mesh1s)), \"cum-rain-swamp\")\n",
    "tri1.values(np.log(flowrate_fn.evaluate(mesh)),     \"cumulative rain\")\n",
    "\n",
    "tri1.colourmap(\"#BBEEBB #889988 #000099\")\n",
    "tri1.colourbar()\n",
    "\n",
    "## Swamped\n",
    "\n",
    "points = np.column_stack([mesh1s.tri.points, mesh1s.topography.data-0.01])\n",
    "\n",
    "tri2 = lv.triangles(\"triangles2\", wireframe=False)\n",
    "tri2.vertices(points)\n",
    "tri2.indices(mesh1s.tri.simplices)\n",
    "\n",
    "tri2.values(mesh1s.topography.data-mesh.topography.data,   \"swamps\")\n",
    "tri2.values(np.ones_like(mesh1s.topography.data), \"blank\")\n",
    "tri2.values(np.log(flowrate_fn_1s.evaluate(mesh1s)), \"cum-rain-swamp\")\n",
    "\n",
    "tri2.colourmap(\"#003366:0.5, #000099:0.8, #000099\")\n",
    "tri2.colourbar()\n",
    "\n",
    "\n",
    "lv.control.Panel()\n",
    "lv.control.ObjectList()\n",
    "tri1.control.List(options=[\"cum-rain-swamp\",\n",
    "                   \"cumulative rain\", \n",
    "                   ], property=\"colourby\", command=\"redraw\")\n",
    "\n",
    "tri2.control.List(options=[\"blank\", \"swamps\", \n",
    "                   \"cum-rain-swamp\"], property=\"colourby\", command=\"redraw\")\n",
    "\n",
    "\n",
    "lv.control.show()"
   ]
  },
  {
   "cell_type": "code",
   "execution_count": null,
   "metadata": {},
   "outputs": [],
   "source": [
    "## Stream power / slope where the lakes / swamps are located:"
   ]
  },
  {
   "cell_type": "markdown",
   "metadata": {},
   "source": [
    "## Set neighbours to 1 and compute \"uphill\" connectivity\n",
    "\n",
    "In serial, i.e. for this demonstration, we number the outflow points by their order in the local mesh numbering. We can then use the `mesh.uphill_propagation` routine to propagate this information from the outflow to the top of the catchment. \n",
    "\n",
    "This routine returns the mesh data (for this processor) of a globally synchronised map of the information propagated from the selected points. \n",
    "\n",
    "The routine is used in the computation of flood fills for the swamp algorithm and should be polished up a bit (sorry)."
   ]
  },
  {
   "cell_type": "code",
   "execution_count": null,
   "metadata": {},
   "outputs": [],
   "source": [
    "## Unique catchments requires the downhill matrix with downhill_neighbours=1\n",
    "\n",
    "mesh1s.near_neighbours=1\n",
    "# mesh1s.update_height(mesh1s.heightVariable.data)"
   ]
  },
  {
   "cell_type": "code",
   "execution_count": null,
   "metadata": {},
   "outputs": [],
   "source": [
    "## Need a unique ID that works in parallel ... global node number would work but \n",
    "## not that easy to map to colours in lavavu \n",
    "\n",
    "from petsc4py import PETSc\n",
    "outflows\n",
    "outflowID = mesh1s.lgmap_row.apply(outflows.astype(PETSc.IntType))\n",
    "\n",
    "# But on 1 proc, this is easier / better:\n",
    "\n",
    "outflowID = np.array(range(0, outflows.shape[0]))\n",
    "ctmt = mesh1s.uphill_propagation(outflows,  outflowID, its=99999, fill=-999999).astype(np.int)"
   ]
  },
  {
   "cell_type": "markdown",
   "metadata": {},
   "source": [
    "## Visualise the catchment information"
   ]
  },
  {
   "cell_type": "code",
   "execution_count": null,
   "metadata": {},
   "outputs": [],
   "source": [
    "import lavavu\n",
    "\n",
    "outpoints = np.column_stack([mesh.tri.points[outflows], heightn[outflows]])\n",
    "points = np.column_stack([mesh.tri.points, mesh1s.topography.data])\n",
    "\n",
    "lv = lavavu.Viewer(border=False, background=\"#FFFFFF\", resolution=[900,600], near=-10.0)\n",
    "\n",
    "nodes = lv.points(\"nodes\", pointsize=10.0, pointtype=\"shiny\", colour=\"#FF0000\" )\n",
    "nodes.vertices(outpoints)\n",
    "\n",
    "tri1 = lv.triangles(\"triangles\", wireframe=False, opacity=1.0)\n",
    "tri1.vertices(points)\n",
    "tri1.indices(mesh.tri.simplices)\n",
    "tri1.values(np.log(flowrate_fn_1s.evaluate(mesh1s)),\"cum-rain-swamp\")\n",
    "\n",
    "tri1.colourmap(\"#BBEEBB:0.0, #889988:0.2, #889988:0.2, #0000FF:0.2, #0000FF\")\n",
    "tri1.colourbar(visible=False)\n",
    "\n",
    "## Swamped\n",
    "\n",
    "tri2 = lv.triangles(\"triangles2\", wireframe=False)\n",
    "tri2.vertices(points-(0.0,0.0,0.01))\n",
    "tri2.indices(mesh1s.tri.simplices)\n",
    "\n",
    "tri2.values(ctmt,   \"catchments\")\n",
    "\n",
    "tri2.colourmap(\"spectral\", discrete=True, range=[0, outflows.shape[0]-1])\n",
    "tri2.colourbar(visible=False)\n",
    "\n",
    "tri3 = lv.triangles(\"triangles3\", wireframe=False)\n",
    "tri3.vertices(points-(0.0,0.0,0.005))\n",
    "\n",
    "tri3.indices(mesh1s.tri.simplices)\n",
    "tri3.values(mesh1s.topography.data-mesh.topography.data,   \"swamps\")\n",
    "tri3.colourmap(\"#003366:0.0, #000099,  #000099, #000099, #0000FF\")\n",
    "tri3.colourbar(visible=False)\n",
    "\n",
    "\n",
    "lv.control.Panel()\n",
    "lv.control.ObjectList()\n",
    "\n",
    "lv.control.show()"
   ]
  },
  {
   "cell_type": "code",
   "execution_count": null,
   "metadata": {},
   "outputs": [],
   "source": []
  }
 ],
 "metadata": {
  "jupytext": {
   "text_representation": {
    "extension": ".md",
    "format_name": "myst",
    "format_version": 0.12,
    "jupytext_version": "1.6.0"
   }
  },
  "kernelspec": {
   "display_name": "Python 3",
   "language": "python",
   "name": "python3"
  },
  "language_info": {
   "codemirror_mode": {
    "name": "ipython",
    "version": 3
   },
   "file_extension": ".py",
   "mimetype": "text/x-python",
   "name": "python",
   "nbconvert_exporter": "python",
   "pygments_lexer": "ipython3",
   "version": "3.7.8"
  },
  "source_map": [
   12,
   31,
   36,
   42,
   67,
   96,
   100,
   120,
   125,
   131,
   136,
   141,
   191,
   193,
   203,
   210,
   222,
   226,
   271
  ]
 },
 "nbformat": 4,
 "nbformat_minor": 4
}