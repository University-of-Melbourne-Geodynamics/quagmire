{
 "cells": [
  {
   "cell_type": "markdown",
   "metadata": {},
   "source": [
    "# Example 6- Catchment analysis from the matrix transpose.\n",
    "\n",
    "We start with \"Swamp Mountain\" from the previous notebooks. This is slightly modified so that there are no lakes / pits right at the boundary.\n",
    "\n",
    "The catchments are identified by first finding all the outflow points of the mesh (local minima that correspond to the boundary mask) and then using the transpose of the downhill-propagation matrix $D^T$ to run information (the unique ID of each outflow points) up to the top of the catchment. \n",
    "\n",
    "The stopping condition is that no further change occurs. \n",
    "\n",
    "*Note* in the context of multiple pathways, this operation produces a fuzzy catchment. The first thing we do in this notebook is to specify `downhill_neighbours=1`\n",
    "\n",
    "\n",
    "## Notebook contents\n",
    "\n",
    "- [1-2-3 downhill neighbours](#1-2-3-downhill-neighbours)\n",
    "- [Upstream propogation](#Set-neighbours-to-1-and-compute-\"uphill\"-connectivity)\n",
    "- [Dense downhill matrices](#Dense-downhill-matrices)"
   ]
  },
  {
   "cell_type": "code",
   "execution_count": 1,
   "metadata": {},
   "outputs": [],
   "source": [
    "import matplotlib.pyplot as plt\n",
    "import numpy as np\n",
    "from quagmire import tools as meshtools\n",
    "%matplotlib inline"
   ]
  },
  {
   "cell_type": "markdown",
   "metadata": {},
   "source": [
    "## Construct the swamp-mountain mesh\n",
    "\n",
    "This time we take care to avoid lakes etc on the boundaries as this makes the catchment analysis more complicated. Visualise the mesh to make sure that this works."
   ]
  },
  {
   "cell_type": "code",
   "execution_count": 2,
   "metadata": {},
   "outputs": [
    {
     "name": "stdout",
     "output_type": "stream",
     "text": [
      "Underlying Mesh type: TriMesh\n"
     ]
    },
    {
     "name": "stdout",
     "output_type": "stream",
     "text": [
      "0 - Delaunay triangulation 0.5679670110000075s\n",
      "0 - Calculate node weights and area 0.01946778799998583s\n",
      "0 - Find boundaries 0.004364871000007042s\n",
      "0 - cKDTree 0.038908770000034565s\n"
     ]
    },
    {
     "name": "stdout",
     "output_type": "stream",
     "text": [
      "0 - Construct neighbour cloud arrays 1.058089241999994s, (0.5668912149999983s + 0.49115241800001286s)\n",
      "0 - Construct rbf weights 0.10038998300001367s\n",
      "\n",
      "Number of points in the triangulation: 156925\n"
     ]
    }
   ],
   "source": [
    "from quagmire import QuagMesh \n",
    "from quagmire import QuagMesh # all routines we need are within this class\n",
    "from quagmire import QuagMesh\n",
    "\n",
    "minX, maxX = -5.0, 5.0\n",
    "minY, maxY = -5.0, 5.0,\n",
    "\n",
    "spacingX = 0.05\n",
    "spacingY = 0.05\n",
    "\n",
    "x, y, simplices = meshtools.elliptical_mesh(minX, maxX, minY, maxY, spacingX, spacingY, 1.)\n",
    "\n",
    "DM = meshtools.create_DMPlex(x, y, simplices)\n",
    "DM = meshtools.refine_DM(DM, refinement_levels=2)\n",
    "\n",
    "mesh = QuagMesh(DM, downhill_neighbours=1)\n",
    "\n",
    "# Note ... this is what refinement does \n",
    "x = mesh.coords[:,0]\n",
    "y = mesh.coords[:,1]\n",
    "\n",
    "print( \"\\nNumber of points in the triangulation: {}\".format(mesh.npoints))"
   ]
  },
  {
   "cell_type": "code",
   "execution_count": 3,
   "metadata": {
    "hide_input": false
   },
   "outputs": [
    {
     "name": "stdout",
     "output_type": "stream",
     "text": [
      "0 - Build downhill matrices 0.22303867299996227s\n"
     ]
    },
    {
     "name": "stdout",
     "output_type": "stream",
     "text": [
      "0 - Build upstream areas 0.31932925600000317s\n"
     ]
    }
   ],
   "source": [
    "radius  = np.sqrt((x**2 + y**2))\n",
    "theta   = np.arctan2(y,x)+0.1\n",
    "\n",
    "height  = np.exp(-0.025*(x**2 + y**2)**2) + 0.25 * (0.2*radius)**4  * np.cos(5.0*theta)**2 ## Less so\n",
    "height  += 0.5 * (1.0-0.2*radius)\n",
    "height  -= height.min()\n",
    "\n",
    "## Add smoothed random noise to make some \"lakes\" \n",
    "\n",
    "mesh._construct_rbf_weights(delta=mesh.delta*3.0)\n",
    "\n",
    "randpts1 = np.where(np.random.random(height.shape)>0.995, -1.0, 0.0)\n",
    "hrand1   = 20.0 * mesh.rbf_smoother(randpts1, iterations=10)\n",
    "heightn = height + hrand1 * np.exp(-radius**2/15.0) \n",
    "\n",
    "\n",
    "with mesh.deform_topography():\n",
    "    mesh.downhill_neighbours = 2\n",
    "    mesh.topography.data = heightn\n",
    "\n",
    "\n",
    "# let's use a rainfall proportional to height (any choice is ok)\n",
    "\n",
    "rainfall_fn  = mesh.topography ** 2.0\n",
    "flowrate_fn  = mesh.upstream_integral_fn(rainfall_fn)\n",
    "str_power_fn = mesh.upstream_integral_fn(rainfall_fn)**2.0 * mesh.slope ** 2.0"
   ]
  },
  {
   "cell_type": "markdown",
   "metadata": {},
   "source": [
    "## Process the surface to fill swamps and lakes"
   ]
  },
  {
   "cell_type": "code",
   "execution_count": 4,
   "metadata": {},
   "outputs": [
    {
     "name": "stdout",
     "output_type": "stream",
     "text": [
      "Underlying Mesh type: TriMesh\n"
     ]
    },
    {
     "name": "stdout",
     "output_type": "stream",
     "text": [
      "0 - Delaunay triangulation 0.5188420999999721s\n",
      "0 - Calculate node weights and area 0.014606468000010864s\n",
      "0 - Find boundaries 0.0033126509999874543s\n",
      "0 - cKDTree 0.03656298099997457s\n"
     ]
    },
    {
     "name": "stdout",
     "output_type": "stream",
     "text": [
      "0 - Construct neighbour cloud arrays 1.0411325559999796s, (0.558402338999997s + 0.48268250799998214s)\n",
      "0 - Construct rbf weights 0.07824083899998868s\n"
     ]
    },
    {
     "name": "stdout",
     "output_type": "stream",
     "text": [
      "0 - Build downhill matrices 0.19708472999997184s\n"
     ]
    },
    {
     "name": "stdout",
     "output_type": "stream",
     "text": [
      "0 - Build upstream areas 0.31959672600004296s\n",
      "Low point local patch fill\n"
     ]
    },
    {
     "name": "stdout",
     "output_type": "stream",
     "text": [
      "0 - Build downhill matrices 0.1973713190000126s\n"
     ]
    },
    {
     "name": "stdout",
     "output_type": "stream",
     "text": [
      "0 - Build downhill matrices 0.1969466379999858s\n"
     ]
    },
    {
     "name": "stdout",
     "output_type": "stream",
     "text": [
      "0 - Build downhill matrices 0.19829789599998549s\n"
     ]
    },
    {
     "name": "stdout",
     "output_type": "stream",
     "text": [
      "0 - Build downhill matrices 0.1973649999999907s\n"
     ]
    },
    {
     "name": "stdout",
     "output_type": "stream",
     "text": [
      "0 - Build downhill matrices 0.1968054929999994s\n",
      "Low point local patch fill  1.173423979000006  seconds\n"
     ]
    },
    {
     "name": "stdout",
     "output_type": "stream",
     "text": [
      "0 - Build upstream areas 0.3241186770000013s\n",
      "105  iterations, time =  0.14079667200002177\n",
      "Build low point catchments -  0.14168694100004586  seconds\n"
     ]
    },
    {
     "name": "stdout",
     "output_type": "stream",
     "text": [
      "0  Sort spills -  0.012013881000029869\n",
      "0  Gather spill data -  0.00015923000000839238\n",
      "0  Sort all spills -  0.00013402500002257511\n"
     ]
    },
    {
     "name": "stdout",
     "output_type": "stream",
     "text": [
      "0 - Build downhill matrices 0.20445663100002776s\n",
      "Low point swamp fill  0.5115893969999661  seconds\n"
     ]
    },
    {
     "name": "stdout",
     "output_type": "stream",
     "text": [
      "0 - Build upstream areas 0.5696544890000155s\n",
      "0 : 41\n"
     ]
    },
    {
     "name": "stdout",
     "output_type": "stream",
     "text": [
      "237  iterations, time =  0.3023617470000204\n",
      "Build low point catchments -  0.303224809000028  seconds\n",
      "0  Sort spills -  0.006310189000032551\n",
      "0  Gather spill data -  0.0004272799999966992\n",
      "0  Sort all spills -  0.00030445800001643875\n"
     ]
    },
    {
     "name": "stdout",
     "output_type": "stream",
     "text": [
      "0 - Build downhill matrices 0.20413184599999568s\n",
      "Low point swamp fill  0.6044271369999592  seconds\n"
     ]
    },
    {
     "name": "stdout",
     "output_type": "stream",
     "text": [
      "0 - Build upstream areas 0.6689164430000005s\n",
      "1 : 18\n"
     ]
    },
    {
     "name": "stdout",
     "output_type": "stream",
     "text": [
      "331  iterations, time =  0.4084601859999566\n",
      "Build low point catchments -  0.40948247700004003  seconds\n",
      "0  Sort spills -  0.0037161939999919014\n",
      "0  Gather spill data -  0.00010852100001557119\n",
      "0  Sort all spills -  6.911299999501352e-05\n"
     ]
    },
    {
     "name": "stdout",
     "output_type": "stream",
     "text": [
      "0 - Build downhill matrices 0.19928902000003745s\n",
      "Low point swamp fill  0.6726935349999508  seconds\n"
     ]
    },
    {
     "name": "stdout",
     "output_type": "stream",
     "text": [
      "0 - Build upstream areas 0.6711581680000336s\n",
      "2 : 14\n"
     ]
    },
    {
     "name": "stdout",
     "output_type": "stream",
     "text": [
      "332  iterations, time =  0.40754501800000753\n",
      "Build low point catchments -  0.408486790999973  seconds\n",
      "0  Sort spills -  0.0028131170000165184\n",
      "0  Gather spill data -  0.0001225230000159172\n",
      "0  Sort all spills -  8.031400000163558e-05\n"
     ]
    },
    {
     "name": "stdout",
     "output_type": "stream",
     "text": [
      "0 - Build downhill matrices 0.1973005339999645s\n",
      "Low point swamp fill  0.6622073890000024  seconds\n"
     ]
    },
    {
     "name": "stdout",
     "output_type": "stream",
     "text": [
      "0 - Build upstream areas 0.6734621829999696s\n",
      "3 : 8\n"
     ]
    },
    {
     "name": "stdout",
     "output_type": "stream",
     "text": [
      "333  iterations, time =  0.43487554200004297\n",
      "Build low point catchments -  0.43593983699997807  seconds\n",
      "0  Sort spills -  0.0020692769999755\n",
      "0  Gather spill data -  0.00011122000000796106\n",
      "0  Sort all spills -  7.021300001497366e-05\n"
     ]
    },
    {
     "name": "stdout",
     "output_type": "stream",
     "text": [
      "0 - Build downhill matrices 0.20071035199998732s\n",
      "Low point swamp fill  0.6872899129999723  seconds\n"
     ]
    },
    {
     "name": "stdout",
     "output_type": "stream",
     "text": [
      "0 - Build upstream areas 0.6793812120000098s\n",
      "4 : 5\n"
     ]
    },
    {
     "name": "stdout",
     "output_type": "stream",
     "text": [
      "333  iterations, time =  0.4189342550000106\n",
      "Build low point catchments -  0.4198991289999867  seconds\n",
      "0  Sort spills -  0.0012330230000543452\n",
      "0  Gather spill data -  0.0003648660000408199\n",
      "0  Sort all spills -  0.00029335300001775977\n"
     ]
    },
    {
     "name": "stdout",
     "output_type": "stream",
     "text": [
      "0 - Build downhill matrices 0.19675353100001303s\n",
      "Low point swamp fill  0.6590005080000196  seconds\n"
     ]
    },
    {
     "name": "stdout",
     "output_type": "stream",
     "text": [
      "0 - Build upstream areas 0.6831289329999777s\n",
      "5 : 3\n"
     ]
    },
    {
     "name": "stdout",
     "output_type": "stream",
     "text": [
      "333  iterations, time =  0.4170332250000115\n",
      "Build low point catchments -  0.417992895999987  seconds\n",
      "0  Sort spills -  0.001228317999959927\n",
      "0  Gather spill data -  0.00037566700001434583\n",
      "0  Sort all spills -  0.0002930520000177239\n"
     ]
    },
    {
     "name": "stdout",
     "output_type": "stream",
     "text": [
      "0 - Build downhill matrices 0.19697537800004739s\n",
      "Low point swamp fill  0.6564278359999776  seconds\n"
     ]
    },
    {
     "name": "stdout",
     "output_type": "stream",
     "text": [
      "0 - Build upstream areas 0.6769896870000025s\n",
      "6 : 3\n"
     ]
    },
    {
     "name": "stdout",
     "output_type": "stream",
     "text": [
      "333  iterations, time =  0.42897793500003445\n",
      "Build low point catchments -  0.4299745110000117  seconds\n",
      "0  Sort spills -  0.0005489970000098765\n",
      "0  Gather spill data -  0.0001225209999802246\n",
      "0  Sort all spills -  7.141200001115067e-05\n"
     ]
    },
    {
     "name": "stdout",
     "output_type": "stream",
     "text": [
      "0 - Build downhill matrices 0.19621054999998933s\n",
      "Low point swamp fill  0.6633951119999892  seconds\n"
     ]
    },
    {
     "name": "stdout",
     "output_type": "stream",
     "text": [
      "0 - Build upstream areas 0.6836806439999918s\n",
      "7 : 3\n"
     ]
    },
    {
     "name": "stdout",
     "output_type": "stream",
     "text": [
      "333  iterations, time =  0.42018416600001274\n",
      "Build low point catchments -  0.42111782899996797  seconds\n",
      "0  Sort spills -  0.0005725999999981468\n",
      "0  Gather spill data -  0.0001230209999789622\n",
      "0  Sort all spills -  7.811400001855873e-05\n"
     ]
    },
    {
     "name": "stdout",
     "output_type": "stream",
     "text": [
      "0 - Build downhill matrices 0.19675351900002624s\n",
      "Low point swamp fill  0.6554323060000229  seconds\n"
     ]
    },
    {
     "name": "stdout",
     "output_type": "stream",
     "text": [
      "0 - Build upstream areas 0.6772639590000153s\n",
      "8 : 2\n"
     ]
    },
    {
     "name": "stdout",
     "output_type": "stream",
     "text": [
      "333  iterations, time =  0.41574400299998615\n",
      "Build low point catchments -  0.4167364730000145  seconds\n",
      "0  Sort spills -  0.0005775989999960984\n",
      "0  Gather spill data -  0.00010581799995179608\n",
      "0  Sort all spills -  5.9710999948947574e-05\n"
     ]
    },
    {
     "name": "stdout",
     "output_type": "stream",
     "text": [
      "0 - Build downhill matrices 0.19715184699998645s\n",
      "Low point swamp fill  0.6514816760000031  seconds\n"
     ]
    },
    {
     "name": "stdout",
     "output_type": "stream",
     "text": [
      "0 - Build upstream areas 0.6892582659999675s\n",
      "9 : 2\n"
     ]
    },
    {
     "name": "stdout",
     "output_type": "stream",
     "text": [
      "333  iterations, time =  0.41616294600004267\n",
      "Build low point catchments -  0.41713771299998825  seconds\n",
      "0  Sort spills -  0.000587499999994634\n",
      "0  Gather spill data -  0.0001077179999811051\n",
      "0  Sort all spills -  5.791000000954227e-05\n"
     ]
    },
    {
     "name": "stdout",
     "output_type": "stream",
     "text": [
      "0 - Build downhill matrices 0.1965829650000046s\n",
      "Low point swamp fill  0.6512015580000252  seconds\n"
     ]
    },
    {
     "name": "stdout",
     "output_type": "stream",
     "text": [
      "0 - Build upstream areas 0.689234574000011s\n",
      "10 : 2\n"
     ]
    },
    {
     "name": "stdout",
     "output_type": "stream",
     "text": [
      "333  iterations, time =  0.4148284250000529\n",
      "Build low point catchments -  0.4157596819999867  seconds\n",
      "0  Sort spills -  0.0005772979999960626\n",
      "0  Gather spill data -  0.0003675620000080926\n",
      "0  Sort all spills -  0.00029084900000952985\n"
     ]
    },
    {
     "name": "stdout",
     "output_type": "stream",
     "text": [
      "0 - Build downhill matrices 0.19718122299997276s\n",
      "Low point swamp fill  0.6498012270000117  seconds\n"
     ]
    },
    {
     "name": "stdout",
     "output_type": "stream",
     "text": [
      "0 - Build upstream areas 0.6853703179999684s\n",
      "11 : 3\n"
     ]
    },
    {
     "name": "stdout",
     "output_type": "stream",
     "text": [
      "333  iterations, time =  0.41689767000002576\n",
      "Build low point catchments -  0.41787183100001357  seconds\n",
      "0  Sort spills -  0.0005504910000126984\n",
      "0  Gather spill data -  0.00010881899999048983\n",
      "0  Sort all spills -  5.9710000016366394e-05\n"
     ]
    },
    {
     "name": "stdout",
     "output_type": "stream",
     "text": [
      "0 - Build downhill matrices 0.19690107999997508s\n",
      "Low point swamp fill  0.6523096420000343  seconds\n"
     ]
    },
    {
     "name": "stdout",
     "output_type": "stream",
     "text": [
      "0 - Build upstream areas 0.6756257490000053s\n",
      "12 : 3\n"
     ]
    },
    {
     "name": "stdout",
     "output_type": "stream",
     "text": [
      "333  iterations, time =  0.418003490999979\n",
      "Build low point catchments -  0.4189926550000109  seconds\n",
      "0  Sort spills -  0.0005518910000432697\n",
      "0  Gather spill data -  0.00010651700000607889\n",
      "0  Sort all spills -  5.380900000773181e-05\n"
     ]
    },
    {
     "name": "stdout",
     "output_type": "stream",
     "text": [
      "0 - Build downhill matrices 0.1964438289999748s\n",
      "Low point swamp fill  0.6534022310000296  seconds\n"
     ]
    },
    {
     "name": "stdout",
     "output_type": "stream",
     "text": [
      "0 - Build upstream areas 0.6760035040000503s\n",
      "13 : 2\n"
     ]
    },
    {
     "name": "stdout",
     "output_type": "stream",
     "text": [
      "333  iterations, time =  0.41705825700000787\n",
      "Build low point catchments -  0.41802911499996753  seconds\n",
      "0  Sort spills -  0.0005475890000070649\n",
      "0  Gather spill data -  0.00010441699998864351\n",
      "0  Sort all spills -  6.09090000125434e-05\n"
     ]
    },
    {
     "name": "stdout",
     "output_type": "stream",
     "text": [
      "0 - Build downhill matrices 0.1957522759999506s\n",
      "Low point swamp fill  0.6518599040000481  seconds\n"
     ]
    },
    {
     "name": "stdout",
     "output_type": "stream",
     "text": [
      "0 - Build upstream areas 0.6758822599999803s\n",
      "14 : 2\n"
     ]
    },
    {
     "name": "stdout",
     "output_type": "stream",
     "text": [
      "333  iterations, time =  0.4229936340000222\n",
      "Build low point catchments -  0.4239814929999852  seconds\n",
      "0  Sort spills -  0.0005447880000133409\n",
      "0  Gather spill data -  0.0001051169999755075\n",
      "0  Sort all spills -  6.201000002192814e-05\n"
     ]
    },
    {
     "name": "stdout",
     "output_type": "stream",
     "text": [
      "0 - Build downhill matrices 0.19636790500004508s\n",
      "Low point swamp fill  0.6581346600000302  seconds\n"
     ]
    },
    {
     "name": "stdout",
     "output_type": "stream",
     "text": [
      "0 - Build upstream areas 0.6769005140000104s\n",
      "15 : 2\n"
     ]
    },
    {
     "name": "stdout",
     "output_type": "stream",
     "text": [
      "333  iterations, time =  0.421884413999976\n",
      "Build low point catchments -  0.4228866729999936  seconds\n",
      "0  Sort spills -  0.0005441860000132692\n",
      "0  Gather spill data -  0.0001020170000174403\n",
      "0  Sort all spills -  5.9309999983270245e-05\n"
     ]
    },
    {
     "name": "stdout",
     "output_type": "stream",
     "text": [
      "0 - Build downhill matrices 0.19603078500000493s\n",
      "Low point swamp fill  0.6564402270000187  seconds\n"
     ]
    },
    {
     "name": "stdout",
     "output_type": "stream",
     "text": [
      "0 - Build upstream areas 0.6765487870000015s\n",
      "16 : 3\n"
     ]
    },
    {
     "name": "stdout",
     "output_type": "stream",
     "text": [
      "333  iterations, time =  0.42173402299999907\n",
      "Build low point catchments -  0.42273097899999357  seconds\n",
      "0  Sort spills -  0.0006403010000894938\n",
      "0  Gather spill data -  0.00010551600007602246\n",
      "0  Sort all spills -  5.690900002264243e-05\n"
     ]
    },
    {
     "name": "stdout",
     "output_type": "stream",
     "text": [
      "0 - Build downhill matrices 0.19631798600005368s\n",
      "Low point swamp fill  0.6567107059998989  seconds\n"
     ]
    },
    {
     "name": "stdout",
     "output_type": "stream",
     "text": [
      "0 - Build upstream areas 0.6761823550000372s\n",
      "17 : 3\n"
     ]
    },
    {
     "name": "stdout",
     "output_type": "stream",
     "text": [
      "333  iterations, time =  0.4128174550000949\n",
      "Build low point catchments -  0.413896922000049  seconds\n",
      "0  Sort spills -  0.0005533859999786728\n",
      "0  Gather spill data -  0.00010871699998915574\n",
      "0  Sort all spills -  5.770900008883473e-05\n"
     ]
    },
    {
     "name": "stdout",
     "output_type": "stream",
     "text": [
      "0 - Build downhill matrices 0.19633624699997654s\n",
      "Low point swamp fill  0.6480841399999235  seconds\n"
     ]
    },
    {
     "name": "stdout",
     "output_type": "stream",
     "text": [
      "0 - Build upstream areas 0.6770235980000052s\n",
      "18 : 2\n"
     ]
    },
    {
     "name": "stdout",
     "output_type": "stream",
     "text": [
      "333  iterations, time =  0.41371571300010146\n",
      "Build low point catchments -  0.4148054800000409  seconds\n",
      "0  Sort spills -  0.00056908699991709\n",
      "0  Gather spill data -  0.00010191600006237422\n",
      "0  Sort all spills -  5.83089999963704e-05\n"
     ]
    },
    {
     "name": "stdout",
     "output_type": "stream",
     "text": [
      "0 - Build downhill matrices 0.19680196000001615s\n",
      "Low point swamp fill  0.6491700169999604  seconds\n"
     ]
    },
    {
     "name": "stdout",
     "output_type": "stream",
     "text": [
      "0 - Build upstream areas 0.6785586120000744s\n",
      "19 : 2\n"
     ]
    },
    {
     "name": "stdout",
     "output_type": "stream",
     "text": [
      "333  iterations, time =  0.41061790100002327\n",
      "Build low point catchments -  0.4115913500000943  seconds\n",
      "0  Sort spills -  0.0005479829999330832\n",
      "0  Gather spill data -  0.00010791600004722568\n",
      "0  Sort all spills -  6.030899999132089e-05\n"
     ]
    },
    {
     "name": "stdout",
     "output_type": "stream",
     "text": [
      "0 - Build downhill matrices 0.19552684600000703s\n",
      "Low point swamp fill  0.6447567330000084  seconds\n"
     ]
    },
    {
     "name": "stdout",
     "output_type": "stream",
     "text": [
      "0 - Build upstream areas 0.6781272069999886s\n",
      "20 : 2\n"
     ]
    },
    {
     "name": "stdout",
     "output_type": "stream",
     "text": [
      "333  iterations, time =  0.41499584299992875\n",
      "Build low point catchments -  0.41595378700003494  seconds\n",
      "0  Sort spills -  0.0005411809999031902\n",
      "0  Gather spill data -  0.00010881699995479721\n",
      "0  Sort all spills -  5.5009000107020256e-05\n"
     ]
    },
    {
     "name": "stdout",
     "output_type": "stream",
     "text": [
      "0 - Build downhill matrices 0.1960939899998948s\n",
      "Low point swamp fill  0.6496613159999924  seconds\n"
     ]
    },
    {
     "name": "stdout",
     "output_type": "stream",
     "text": [
      "0 - Build upstream areas 0.6755672809999851s\n",
      "21 : 3\n"
     ]
    },
    {
     "name": "stdout",
     "output_type": "stream",
     "text": [
      "333  iterations, time =  0.4124558920000254\n",
      "Build low point catchments -  0.4134276370000407  seconds\n",
      "0  Sort spills -  0.0005464809999011777\n",
      "0  Gather spill data -  0.0001082159999441501\n",
      "0  Sort all spills -  5.550800005948986e-05\n"
     ]
    },
    {
     "name": "stdout",
     "output_type": "stream",
     "text": [
      "0 - Build downhill matrices 0.19695666799998435s\n",
      "Low point swamp fill  0.647925483999984  seconds\n"
     ]
    },
    {
     "name": "stdout",
     "output_type": "stream",
     "text": [
      "0 - Build upstream areas 0.6767474819999961s\n",
      "22 : 3\n"
     ]
    },
    {
     "name": "stdout",
     "output_type": "stream",
     "text": [
      "333  iterations, time =  0.41354393100004927\n",
      "Build low point catchments -  0.4145182749999776  seconds\n",
      "0  Sort spills -  0.0005862859999297143\n",
      "0  Gather spill data -  0.00010581599997294688\n",
      "0  Sort all spills -  5.5308000014520076e-05\n"
     ]
    }
   ],
   "source": [
    "## Quagmire also has a swamp filling algorithm\n",
    "\n",
    "mesh1s = QuagMesh(DM)\n",
    "with mesh1s.deform_topography():\n",
    "    mesh1s.topography.data = mesh.topography.data\n",
    "    \n",
    "mesh1s.low_points_local_patch_fill(its=5, smoothing_steps=1)\n",
    "\n",
    "for i in range(0,50):\n",
    "    mesh1s.low_points_swamp_fill(ref_height=-0.01)\n",
    "    \n",
    "    # In parallel, we can't break if ANY processor has work to do (barrier / sync issue)\n",
    "    low_points2 = mesh1s.identify_global_low_points()\n",
    "    \n",
    "    print(\"{} : {}\".format(i,low_points2[0]))\n",
    "    if low_points2[0] == 0:\n",
    "        break"
   ]
  },
  {
   "cell_type": "code",
   "execution_count": null,
   "metadata": {},
   "outputs": [],
   "source": [
    "rainfall_fn_1s  = mesh1s.topography ** 2.0\n",
    "flowrate_fn_1s  = mesh1s.upstream_integral_fn(rainfall_fn_1s)\n",
    "str_power_fn_1s = mesh1s.upstream_integral_fn(rainfall_fn_1s)**2.0 * mesh.slope ** 2.0"
   ]
  },
  {
   "cell_type": "markdown",
   "metadata": {},
   "source": [
    "## Locating and viewing the outflow points\n",
    "\n",
    "`quagmire` provides a mechanism to find the outflow points of a domain and return the node values. *Note:* in parallel these are the local node numbers and are not a unique ID. To do this, we can obtain the global ID from PETSc but it does also help to have the indices all be small numbers so we can map colours effectively."
   ]
  },
  {
   "cell_type": "code",
   "execution_count": null,
   "metadata": {},
   "outputs": [],
   "source": [
    "outflows = mesh1s.identify_outflow_points()\n",
    "print(\"Mesh has {} outflows\".format(outflows.shape[0]))"
   ]
  },
  {
   "cell_type": "code",
   "execution_count": null,
   "metadata": {},
   "outputs": [],
   "source": [
    "import quagmire\n",
    "print(quagmire.mesh.check_object_is_a_q_mesh_and_raise(mesh1s))"
   ]
  },
  {
   "cell_type": "code",
   "execution_count": null,
   "metadata": {},
   "outputs": [],
   "source": [
    "import lavavu\n",
    "\n",
    "outpoints = np.column_stack([mesh.tri.points[outflows], heightn[outflows]])\n",
    "points = np.column_stack([mesh.tri.points, heightn])\n",
    "\n",
    "lv = lavavu.Viewer(border=False, background=\"#FFFFFF\", resolution=[600,600], near=-10.0)\n",
    "\n",
    "nodes = lv.points(\"nodes\", pointsize=10.0, pointtype=\"shiny\", colour=\"#FF0000\" )\n",
    "nodes.vertices(outpoints)\n",
    "\n",
    "tri1 = lv.triangles(\"triangles\", wireframe=False)\n",
    "tri1.vertices(points)\n",
    "tri1.indices(mesh.tri.simplices)\n",
    "\n",
    "tri1.values(np.log(flowrate_fn_1s.evaluate(mesh1s)), \"cum-rain-swamp\")\n",
    "tri1.values(np.log(flowrate_fn.evaluate(mesh)),     \"cumulative rain\")\n",
    "\n",
    "tri1.colourmap(\"#BBEEBB #889988 #000099\")\n",
    "tri1.colourbar()\n",
    "\n",
    "## Swamped\n",
    "\n",
    "points = np.column_stack([mesh1s.tri.points, mesh1s.topography.data-0.01])\n",
    "\n",
    "tri2 = lv.triangles(\"triangles2\", wireframe=False)\n",
    "tri2.vertices(points)\n",
    "tri2.indices(mesh1s.tri.simplices)\n",
    "\n",
    "tri2.values(mesh1s.topography.data-mesh.topography.data,   \"swamps\")\n",
    "tri2.values(np.ones_like(mesh1s.topography.data), \"blank\")\n",
    "tri2.values(np.log(flowrate_fn_1s.evaluate(mesh1s)), \"cum-rain-swamp\")\n",
    "\n",
    "tri2.colourmap(\"#003366:0.5, #000099:0.8, #000099\")\n",
    "tri2.colourbar()\n",
    "\n",
    "\n",
    "lv.control.Panel()\n",
    "lv.control.ObjectList()\n",
    "tri1.control.List(options=[\"cum-rain-swamp\",\n",
    "                   \"cumulative rain\", \n",
    "                   ], property=\"colourby\", command=\"redraw\")\n",
    "\n",
    "tri2.control.List(options=[\"blank\", \"swamps\", \n",
    "                   \"cum-rain-swamp\"], property=\"colourby\", command=\"redraw\")\n",
    "\n",
    "\n",
    "lv.control.show()"
   ]
  },
  {
   "cell_type": "code",
   "execution_count": null,
   "metadata": {},
   "outputs": [],
   "source": [
    "## Stream power / slope where the lakes / swamps are located:"
   ]
  },
  {
   "cell_type": "markdown",
   "metadata": {},
   "source": [
    "## Set neighbours to 1 and compute \"uphill\" connectivity\n",
    "\n",
    "In serial, i.e. for this demonstration, we number the outflow points by their order in the local mesh numbering. We can then use the `mesh.uphill_propagation` routine to propagate this information from the outflow to the top of the catchment. \n",
    "\n",
    "This routine returns the mesh data (for this processor) of a globally synchronised map of the information propagated from the selected points. \n",
    "\n",
    "The routine is used in the computation of flood fills for the swamp algorithm and should be polished up a bit (sorry)."
   ]
  },
  {
   "cell_type": "code",
   "execution_count": null,
   "metadata": {},
   "outputs": [],
   "source": [
    "## Unique catchments requires the downhill matrix with downhill_neighbours=1\n",
    "\n",
    "mesh1s.near_neighbours=1\n",
    "# mesh1s.update_height(mesh1s.heightVariable.data)"
   ]
  },
  {
   "cell_type": "code",
   "execution_count": null,
   "metadata": {},
   "outputs": [],
   "source": [
    "## Need a unique ID that works in parallel ... global node number would work but \n",
    "## not that easy to map to colours in lavavu \n",
    "\n",
    "from petsc4py import PETSc\n",
    "outflows\n",
    "outflowID = mesh1s.lgmap_row.apply(outflows.astype(PETSc.IntType))\n",
    "\n",
    "# But on 1 proc, this is easier / better:\n",
    "\n",
    "outflowID = np.array(range(0, outflows.shape[0]))\n",
    "ctmt = mesh1s.uphill_propagation(outflows,  outflowID, its=99999, fill=-999999).astype(np.int)"
   ]
  },
  {
   "cell_type": "markdown",
   "metadata": {},
   "source": [
    "## Visualise the catchment information"
   ]
  },
  {
   "cell_type": "code",
   "execution_count": null,
   "metadata": {},
   "outputs": [],
   "source": [
    "import lavavu\n",
    "\n",
    "outpoints = np.column_stack([mesh.tri.points[outflows], heightn[outflows]])\n",
    "points = np.column_stack([mesh.tri.points, mesh1s.topography.data])\n",
    "\n",
    "lv = lavavu.Viewer(border=False, background=\"#FFFFFF\", resolution=[900,600], near=-10.0)\n",
    "\n",
    "nodes = lv.points(\"nodes\", pointsize=10.0, pointtype=\"shiny\", colour=\"#FF0000\" )\n",
    "nodes.vertices(outpoints)\n",
    "\n",
    "tri1 = lv.triangles(\"triangles\", wireframe=False, opacity=1.0)\n",
    "tri1.vertices(points)\n",
    "tri1.indices(mesh.tri.simplices)\n",
    "tri1.values(np.log(flowrate_fn_1s.evaluate(mesh1s)),\"cum-rain-swamp\")\n",
    "\n",
    "tri1.colourmap(\"#BBEEBB:0.0, #889988:0.2, #889988:0.2, #0000FF:0.2, #0000FF\")\n",
    "tri1.colourbar(visible=False)\n",
    "\n",
    "## Swamped\n",
    "\n",
    "tri2 = lv.triangles(\"triangles2\", wireframe=False)\n",
    "tri2.vertices(points-(0.0,0.0,0.01))\n",
    "tri2.indices(mesh1s.tri.simplices)\n",
    "\n",
    "tri2.values(ctmt,   \"catchments\")\n",
    "\n",
    "tri2.colourmap(\"spectral\", discrete=True, range=[0, outflows.shape[0]-1])\n",
    "tri2.colourbar(visible=False)\n",
    "\n",
    "tri3 = lv.triangles(\"triangles3\", wireframe=False)\n",
    "tri3.vertices(points-(0.0,0.0,0.005))\n",
    "\n",
    "tri3.indices(mesh1s.tri.simplices)\n",
    "tri3.values(mesh1s.topography.data-mesh.topography.data,   \"swamps\")\n",
    "tri3.colourmap(\"#003366:0.0, #000099,  #000099, #000099, #0000FF\")\n",
    "tri3.colourbar(visible=False)\n",
    "\n",
    "\n",
    "lv.control.Panel()\n",
    "lv.control.ObjectList()\n",
    "\n",
    "lv.control.show()"
   ]
  },
  {
   "cell_type": "code",
   "execution_count": null,
   "metadata": {},
   "outputs": [],
   "source": []
  }
 ],
 "metadata": {
  "jupytext": {
   "text_representation": {
    "extension": ".md",
    "format_name": "myst",
    "format_version": 0.12,
    "jupytext_version": "1.6.0"
   }
  },
  "kernelspec": {
   "display_name": "Python 3",
   "language": "python",
   "name": "python3"
  },
  "language_info": {
   "codemirror_mode": {
    "name": "ipython",
    "version": 3
   },
   "file_extension": ".py",
   "mimetype": "text/x-python",
   "name": "python",
   "nbconvert_exporter": "python",
   "pygments_lexer": "ipython3",
   "version": "3.7.8"
  },
  "source_map": [
   12,
   31,
   36,
   42,
   67,
   96,
   100,
   120,
   125,
   131,
   136,
   141,
   191,
   193,
   203,
   210,
   222,
   226,
   271
  ]
 },
 "nbformat": 4,
 "nbformat_minor": 4
}