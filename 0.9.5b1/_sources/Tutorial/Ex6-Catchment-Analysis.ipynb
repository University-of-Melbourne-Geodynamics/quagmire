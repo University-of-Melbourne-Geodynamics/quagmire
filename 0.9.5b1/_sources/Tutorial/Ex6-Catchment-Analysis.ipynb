{
 "cells": [
  {
   "cell_type": "markdown",
   "metadata": {},
   "source": [
    "# Example 6- Catchment analysis from the matrix transpose.\n",
    "\n",
    "We start with \"Swamp Mountain\" from the previous notebooks. This is slightly modified so that there are no lakes / pits right at the boundary.\n",
    "\n",
    "The catchments are identified by first finding all the outflow points of the mesh (local minima that correspond to the boundary mask) and then using the transpose of the downhill-propagation matrix $D^T$ to run information (the unique ID of each outflow points) up to the top of the catchment. \n",
    "\n",
    "The stopping condition is that no further change occurs. \n",
    "\n",
    "*Note* in the context of multiple pathways, this operation produces a fuzzy catchment. The first thing we do in this notebook is to specify `downhill_neighbours=1`\n",
    "\n",
    "\n",
    "## Notebook contents\n",
    "\n",
    "- [1-2-3 downhill neighbours](#1-2-3-downhill-neighbours)\n",
    "- [Upstream propogation](#Set-neighbours-to-1-and-compute-\"uphill\"-connectivity)\n",
    "- [Dense downhill matrices](#Dense-downhill-matrices)"
   ]
  },
  {
   "cell_type": "code",
   "execution_count": 1,
   "metadata": {},
   "outputs": [],
   "source": [
    "import matplotlib.pyplot as plt\n",
    "import numpy as np\n",
    "from quagmire import tools as meshtools\n",
    "%matplotlib inline"
   ]
  },
  {
   "cell_type": "markdown",
   "metadata": {},
   "source": [
    "## Construct the swamp-mountain mesh\n",
    "\n",
    "This time we take care to avoid lakes etc on the boundaries as this makes the catchment analysis more complicated. Visualise the mesh to make sure that this works."
   ]
  },
  {
   "cell_type": "code",
   "execution_count": 2,
   "metadata": {},
   "outputs": [
    {
     "name": "stdout",
     "output_type": "stream",
     "text": [
      "Underlying Mesh type: TriMesh\n"
     ]
    },
    {
     "name": "stdout",
     "output_type": "stream",
     "text": [
      "0 - Delaunay triangulation 0.5812443429999803s\n",
      "0 - Calculate node weights and area 0.01952660099999548s\n",
      "0 - Find boundaries 0.004408867999984523s\n",
      "0 - cKDTree 0.039227002000018274s\n"
     ]
    },
    {
     "name": "stdout",
     "output_type": "stream",
     "text": [
      "0 - Construct neighbour cloud arrays 1.070058467000024s, (0.5707583340000042s + 0.49925223200000346s)\n",
      "0 - Construct rbf weights 0.10444518899998911s\n",
      "\n",
      "Number of points in the triangulation: 156925\n"
     ]
    }
   ],
   "source": [
    "from quagmire import QuagMesh \n",
    "from quagmire import QuagMesh # all routines we need are within this class\n",
    "from quagmire import QuagMesh\n",
    "\n",
    "minX, maxX = -5.0, 5.0\n",
    "minY, maxY = -5.0, 5.0,\n",
    "\n",
    "spacingX = 0.05\n",
    "spacingY = 0.05\n",
    "\n",
    "x, y, simplices = meshtools.elliptical_mesh(minX, maxX, minY, maxY, spacingX, spacingY, 1.)\n",
    "\n",
    "DM = meshtools.create_DMPlex(x, y, simplices)\n",
    "DM = meshtools.refine_DM(DM, refinement_levels=2)\n",
    "\n",
    "mesh = QuagMesh(DM, downhill_neighbours=1)\n",
    "\n",
    "# Note ... this is what refinement does \n",
    "x = mesh.coords[:,0]\n",
    "y = mesh.coords[:,1]\n",
    "\n",
    "print( \"\\nNumber of points in the triangulation: {}\".format(mesh.npoints))"
   ]
  },
  {
   "cell_type": "code",
   "execution_count": 3,
   "metadata": {
    "hide_input": false
   },
   "outputs": [
    {
     "name": "stdout",
     "output_type": "stream",
     "text": [
      "0 - Build downhill matrices 0.2211148650000041s\n"
     ]
    },
    {
     "name": "stdout",
     "output_type": "stream",
     "text": [
      "0 - Build upstream areas 0.34617025900001863s\n"
     ]
    }
   ],
   "source": [
    "radius  = np.sqrt((x**2 + y**2))\n",
    "theta   = np.arctan2(y,x)+0.1\n",
    "\n",
    "height  = np.exp(-0.025*(x**2 + y**2)**2) + 0.25 * (0.2*radius)**4  * np.cos(5.0*theta)**2 ## Less so\n",
    "height  += 0.5 * (1.0-0.2*radius)\n",
    "height  -= height.min()\n",
    "\n",
    "## Add smoothed random noise to make some \"lakes\" \n",
    "\n",
    "mesh._construct_rbf_weights(delta=mesh.delta*3.0)\n",
    "\n",
    "randpts1 = np.where(np.random.random(height.shape)>0.995, -1.0, 0.0)\n",
    "hrand1   = 20.0 * mesh.rbf_smoother(randpts1, iterations=10)\n",
    "heightn = height + hrand1 * np.exp(-radius**2/15.0) \n",
    "\n",
    "\n",
    "with mesh.deform_topography():\n",
    "    mesh.downhill_neighbours = 2\n",
    "    mesh.topography.data = heightn\n",
    "\n",
    "\n",
    "# let's use a rainfall proportional to height (any choice is ok)\n",
    "\n",
    "rainfall_fn  = mesh.topography ** 2.0\n",
    "flowrate_fn  = mesh.upstream_integral_fn(rainfall_fn)\n",
    "str_power_fn = mesh.upstream_integral_fn(rainfall_fn)**2.0 * mesh.slope ** 2.0"
   ]
  },
  {
   "cell_type": "markdown",
   "metadata": {},
   "source": [
    "## Process the surface to fill swamps and lakes"
   ]
  },
  {
   "cell_type": "code",
   "execution_count": 4,
   "metadata": {},
   "outputs": [
    {
     "name": "stdout",
     "output_type": "stream",
     "text": [
      "Underlying Mesh type: TriMesh\n"
     ]
    },
    {
     "name": "stdout",
     "output_type": "stream",
     "text": [
      "0 - Delaunay triangulation 0.5533040739999819s\n",
      "0 - Calculate node weights and area 0.01707645900000898s\n",
      "0 - Find boundaries 0.003338451000047371s\n",
      "0 - cKDTree 0.03722536300000456s\n"
     ]
    },
    {
     "name": "stdout",
     "output_type": "stream",
     "text": [
      "0 - Construct neighbour cloud arrays 1.0625774160000105s, (0.5621457839999948s + 0.5003806320000308s)\n",
      "0 - Construct rbf weights 0.08055971300001374s\n"
     ]
    },
    {
     "name": "stdout",
     "output_type": "stream",
     "text": [
      "0 - Build downhill matrices 0.19705715899999632s\n"
     ]
    },
    {
     "name": "stdout",
     "output_type": "stream",
     "text": [
      "0 - Build upstream areas 0.343072836000033s\n",
      "Low point local patch fill\n"
     ]
    },
    {
     "name": "stdout",
     "output_type": "stream",
     "text": [
      "0 - Build downhill matrices 0.2033690449999881s\n"
     ]
    },
    {
     "name": "stdout",
     "output_type": "stream",
     "text": [
      "0 - Build downhill matrices 0.19874587499998597s\n"
     ]
    },
    {
     "name": "stdout",
     "output_type": "stream",
     "text": [
      "0 - Build downhill matrices 0.20062719000003426s\n"
     ]
    },
    {
     "name": "stdout",
     "output_type": "stream",
     "text": [
      "0 - Build downhill matrices 0.2009856930000069s\n"
     ]
    },
    {
     "name": "stdout",
     "output_type": "stream",
     "text": [
      "0 - Build downhill matrices 0.20026848199995584s\n",
      "Low point local patch fill  1.2086613419999708  seconds\n"
     ]
    },
    {
     "name": "stdout",
     "output_type": "stream",
     "text": [
      "0 - Build upstream areas 0.3412624810000011s\n",
      "136  iterations, time =  0.179343657000004\n",
      "Build low point catchments -  0.180268070000011  seconds\n"
     ]
    },
    {
     "name": "stdout",
     "output_type": "stream",
     "text": [
      "0  Sort spills -  0.01198127699996121\n",
      "0  Gather spill data -  0.0005935089999979937\n",
      "0  Sort all spills -  0.00011720099996637146\n"
     ]
    },
    {
     "name": "stdout",
     "output_type": "stream",
     "text": [
      "0 - Build downhill matrices 0.2026890010000102s\n",
      "Low point swamp fill  0.5513201649999928  seconds\n"
     ]
    },
    {
     "name": "stdout",
     "output_type": "stream",
     "text": [
      "0 - Build upstream areas 0.5590587700000356s\n",
      "0 : 64\n"
     ]
    },
    {
     "name": "stdout",
     "output_type": "stream",
     "text": [
      "223  iterations, time =  0.30078943099999833\n",
      "Build low point catchments -  0.3017978459999995  seconds\n",
      "0  Sort spills -  0.006042889000013929\n",
      "0  Gather spill data -  0.0001266020000230128\n",
      "0  Sort all spills -  7.730100003300322e-05\n"
     ]
    },
    {
     "name": "stdout",
     "output_type": "stream",
     "text": [
      "0 - Build downhill matrices 0.20762675800000352s\n",
      "Low point swamp fill  0.6067007359999934  seconds\n"
     ]
    },
    {
     "name": "stdout",
     "output_type": "stream",
     "text": [
      "0 - Build upstream areas 0.5623314609999852s\n",
      "1 : 26\n"
     ]
    },
    {
     "name": "stdout",
     "output_type": "stream",
     "text": [
      "235  iterations, time =  0.2994777870000007\n",
      "Build low point catchments -  0.3004648009999755  seconds\n",
      "0  Sort spills -  0.004381764000015664\n",
      "0  Gather spill data -  0.00010950099999718077\n",
      "0  Sort all spills -  6.370099998775913e-05\n"
     ]
    },
    {
     "name": "stdout",
     "output_type": "stream",
     "text": [
      "0 - Build downhill matrices 0.2018853570000374s\n",
      "Low point swamp fill  0.573034994000011  seconds\n"
     ]
    },
    {
     "name": "stdout",
     "output_type": "stream",
     "text": [
      "0 - Build upstream areas 0.5935666600000218s\n",
      "2 : 11\n"
     ]
    },
    {
     "name": "stdout",
     "output_type": "stream",
     "text": [
      "282  iterations, time =  0.366116734000002\n",
      "Build low point catchments -  0.3670572479999805  seconds\n",
      "0  Sort spills -  0.002293934000022091\n",
      "0  Gather spill data -  0.0004175060000193298\n",
      "0  Sort all spills -  8.440199997039599e-05\n"
     ]
    },
    {
     "name": "stdout",
     "output_type": "stream",
     "text": [
      "0 - Build downhill matrices 0.20348295899998448s\n",
      "Low point swamp fill  0.6244568930000014  seconds\n"
     ]
    },
    {
     "name": "stdout",
     "output_type": "stream",
     "text": [
      "0 - Build upstream areas 0.5965935460000082s\n",
      "3 : 5\n"
     ]
    },
    {
     "name": "stdout",
     "output_type": "stream",
     "text": [
      "283  iterations, time =  0.36916204599998537\n",
      "Build low point catchments -  0.37014096000001473  seconds\n",
      "0  Sort spills -  0.0008963129999983721\n",
      "0  Gather spill data -  0.0004697069999792802\n",
      "0  Sort all spills -  7.870100000673119e-05\n"
     ]
    },
    {
     "name": "stdout",
     "output_type": "stream",
     "text": [
      "0 - Build downhill matrices 0.20113109900000836s\n",
      "Low point swamp fill  0.6145763839999745  seconds\n"
     ]
    },
    {
     "name": "stdout",
     "output_type": "stream",
     "text": [
      "0 - Build upstream areas 0.5948343739999586s\n",
      "4 : 2\n"
     ]
    },
    {
     "name": "stdout",
     "output_type": "stream",
     "text": [
      "283  iterations, time =  0.3664173620000497\n",
      "Build low point catchments -  0.3673779760000002  seconds\n",
      "0  Sort spills -  0.00061600899999803\n",
      "0  Gather spill data -  0.0003785050000146839\n",
      "0  Sort all spills -  0.0002858049999758805\n"
     ]
    },
    {
     "name": "stdout",
     "output_type": "stream",
     "text": [
      "0 - Build downhill matrices 0.20791128100000833s\n",
      "Low point swamp fill  0.6223421320000284  seconds\n"
     ]
    },
    {
     "name": "stdout",
     "output_type": "stream",
     "text": [
      "0 - Build upstream areas 0.5904562580000174s\n",
      "5 : 1\n"
     ]
    },
    {
     "name": "stdout",
     "output_type": "stream",
     "text": [
      "283  iterations, time =  0.37003087700003334\n",
      "Build low point catchments -  0.37101069099998085  seconds\n",
      "0  Sort spills -  0.0004456059999711215\n",
      "0  Gather spill data -  0.0003644050000275456\n",
      "0  Sort all spills -  6.490099997336074e-05\n"
     ]
    },
    {
     "name": "stdout",
     "output_type": "stream",
     "text": [
      "0 - Build downhill matrices 0.19986234999998942s\n",
      "Low point swamp fill  0.6082256739999821  seconds\n"
     ]
    },
    {
     "name": "stdout",
     "output_type": "stream",
     "text": [
      "0 - Build upstream areas 0.590151192999997s\n",
      "6 : 1\n"
     ]
    },
    {
     "name": "stdout",
     "output_type": "stream",
     "text": [
      "283  iterations, time =  0.36057441499997367\n",
      "Build low point catchments -  0.36154142899999897  seconds\n",
      "0  Sort spills -  0.000448806000008517\n",
      "0  Gather spill data -  0.00039340499995432765\n",
      "0  Sort all spills -  6.750099998953374e-05\n"
     ]
    },
    {
     "name": "stdout",
     "output_type": "stream",
     "text": [
      "0 - Build downhill matrices 0.20048364400003038s\n",
      "Low point swamp fill  0.6000375119999717  seconds\n"
     ]
    },
    {
     "name": "stdout",
     "output_type": "stream",
     "text": [
      "0 - Build upstream areas 0.5916451550000374s\n",
      "7 : 1\n"
     ]
    },
    {
     "name": "stdout",
     "output_type": "stream",
     "text": [
      "283  iterations, time =  0.3578231490000121\n",
      "Build low point catchments -  0.35879156300001114  seconds\n",
      "0  Sort spills -  0.00045170600003530126\n",
      "0  Gather spill data -  0.00036230500001011023\n",
      "0  Sort all spills -  6.580100000519451e-05\n"
     ]
    },
    {
     "name": "stdout",
     "output_type": "stream",
     "text": [
      "0 - Build downhill matrices 0.19947590700002138s\n",
      "Low point swamp fill  0.5958411999999953  seconds\n"
     ]
    },
    {
     "name": "stdout",
     "output_type": "stream",
     "text": [
      "0 - Build upstream areas 0.588466459000017s\n",
      "8 : 1\n"
     ]
    },
    {
     "name": "stdout",
     "output_type": "stream",
     "text": [
      "283  iterations, time =  0.36284958999999617\n",
      "Build low point catchments -  0.3638316029999942  seconds\n",
      "0  Sort spills -  0.0004597070000045278\n",
      "0  Gather spill data -  0.00047070599998733087\n",
      "0  Sort all spills -  6.620099998144724e-05\n"
     ]
    },
    {
     "name": "stdout",
     "output_type": "stream",
     "text": [
      "0 - Build downhill matrices 0.19991789100004098s\n",
      "Low point swamp fill  0.6009204130000398  seconds\n"
     ]
    },
    {
     "name": "stdout",
     "output_type": "stream",
     "text": [
      "0 - Build upstream areas 0.5877810060000002s\n",
      "9 : 1\n"
     ]
    },
    {
     "name": "stdout",
     "output_type": "stream",
     "text": [
      "283  iterations, time =  0.3625835449998931\n",
      "Build low point catchments -  0.36352605800004767  seconds\n",
      "0  Sort spills -  0.0004507059999241392\n",
      "0  Gather spill data -  0.0003830059999927471\n",
      "0  Sort all spills -  6.620099998144724e-05\n"
     ]
    },
    {
     "name": "stdout",
     "output_type": "stream",
     "text": [
      "0 - Build downhill matrices 0.19923776699999962s\n",
      "Low point swamp fill  0.6007702529999506  seconds\n"
     ]
    },
    {
     "name": "stdout",
     "output_type": "stream",
     "text": [
      "0 - Build upstream areas 0.5863239379999641s\n",
      "10 : 1\n"
     ]
    },
    {
     "name": "stdout",
     "output_type": "stream",
     "text": [
      "283  iterations, time =  0.35793644499995025\n",
      "Build low point catchments -  0.3588905579999846  seconds\n",
      "0  Sort spills -  0.00044570599993676296\n",
      "0  Gather spill data -  0.00037870500000281027\n",
      "0  Sort all spills -  6.730099994456396e-05\n"
     ]
    },
    {
     "name": "stdout",
     "output_type": "stream",
     "text": [
      "0 - Build downhill matrices 0.19828533899999456s\n",
      "Low point swamp fill  0.5995922840000958  seconds\n"
     ]
    },
    {
     "name": "stdout",
     "output_type": "stream",
     "text": [
      "0 - Build upstream areas 0.5871147919999657s\n",
      "11 : 1\n"
     ]
    },
    {
     "name": "stdout",
     "output_type": "stream",
     "text": [
      "283  iterations, time =  0.3586488290000034\n",
      "Build low point catchments -  0.3596064429999615  seconds\n",
      "0  Sort spills -  0.00045030699993731105\n",
      "0  Gather spill data -  0.00037680499997350125\n",
      "0  Sort all spills -  6.160100008401059e-05\n"
     ]
    },
    {
     "name": "stdout",
     "output_type": "stream",
     "text": [
      "0 - Build downhill matrices 0.1970720080000774s\n",
      "Low point swamp fill  0.5941137650000883  seconds\n"
     ]
    },
    {
     "name": "stdout",
     "output_type": "stream",
     "text": [
      "0 - Build upstream areas 0.585373312999991s\n",
      "12 : 1\n"
     ]
    },
    {
     "name": "stdout",
     "output_type": "stream",
     "text": [
      "283  iterations, time =  0.35693417999993926\n",
      "Build low point catchments -  0.3579490939999914  seconds\n",
      "0  Sort spills -  0.0004543059999377874\n",
      "0  Gather spill data -  0.00010190199998305616\n",
      "0  Sort all spills -  4.99000000218075e-05\n"
     ]
    },
    {
     "name": "stdout",
     "output_type": "stream",
     "text": [
      "0 - Build downhill matrices 0.19869021299996348s\n",
      "Low point swamp fill  0.5947205279999253  seconds\n"
     ]
    },
    {
     "name": "stdout",
     "output_type": "stream",
     "text": [
      "0 - Build upstream areas 0.586231272999953s\n",
      "13 : 1\n"
     ]
    },
    {
     "name": "stdout",
     "output_type": "stream",
     "text": [
      "283  iterations, time =  0.3822586979999869\n",
      "Build low point catchments -  0.383277411999984  seconds\n",
      "0  Sort spills -  0.00046890600003735017\n",
      "0  Gather spill data -  0.00010480200000984041\n",
      "0  Sort all spills -  4.7799999947528704e-05\n"
     ]
    },
    {
     "name": "stdout",
     "output_type": "stream",
     "text": [
      "0 - Build downhill matrices 0.19900609300009364s\n",
      "Low point swamp fill  0.6199559140000019  seconds\n"
     ]
    },
    {
     "name": "stdout",
     "output_type": "stream",
     "text": [
      "0 - Build upstream areas 0.5902648859999999s\n",
      "14 : 1\n"
     ]
    },
    {
     "name": "stdout",
     "output_type": "stream",
     "text": [
      "283  iterations, time =  0.35341046799999276\n",
      "Build low point catchments -  0.3543957809999938  seconds\n",
      "0  Sort spills -  0.00046940599997924437\n",
      "0  Gather spill data -  0.0001042009999991933\n",
      "0  Sort all spills -  5.129999999553547e-05\n"
     ]
    },
    {
     "name": "stdout",
     "output_type": "stream",
     "text": [
      "0 - Build downhill matrices 0.1983294689999866s\n",
      "Low point swamp fill  0.5902561560000095  seconds\n"
     ]
    },
    {
     "name": "stdout",
     "output_type": "stream",
     "text": [
      "0 - Build upstream areas 0.6372630729999855s\n",
      "15 : 1\n"
     ]
    },
    {
     "name": "stdout",
     "output_type": "stream",
     "text": [
      "283  iterations, time =  0.35051409400000466\n",
      "Build low point catchments -  0.35148320700000113  seconds\n",
      "0  Sort spills -  0.0013145169999688733\n",
      "0  Gather spill data -  0.00038830500000130996\n",
      "0  Sort all spills -  6.65009999920585e-05\n"
     ]
    },
    {
     "name": "stdout",
     "output_type": "stream",
     "text": [
      "0 - Build downhill matrices 0.20072558799995477s\n",
      "Low point swamp fill  0.5936146489999601  seconds\n"
     ]
    },
    {
     "name": "stdout",
     "output_type": "stream",
     "text": [
      "0 - Build upstream areas 0.5870871440000656s\n",
      "16 : 1\n"
     ]
    },
    {
     "name": "stdout",
     "output_type": "stream",
     "text": [
      "283  iterations, time =  0.3594285880000143\n",
      "Build low point catchments -  0.3603975009999658  seconds\n",
      "0  Sort spills -  0.0004709059999186138\n",
      "0  Gather spill data -  0.0003899050000200077\n",
      "0  Sort all spills -  6.420100010018359e-05\n"
     ]
    },
    {
     "name": "stdout",
     "output_type": "stream",
     "text": [
      "0 - Build downhill matrices 0.19857404599997608s\n",
      "Low point swamp fill  0.5962020420000727  seconds\n"
     ]
    },
    {
     "name": "stdout",
     "output_type": "stream",
     "text": [
      "0 - Build upstream areas 0.585665371999994s\n",
      "17 : 1\n"
     ]
    },
    {
     "name": "stdout",
     "output_type": "stream",
     "text": [
      "283  iterations, time =  0.394262425000079\n",
      "Build low point catchments -  0.3952912390000165  seconds\n",
      "0  Sort spills -  0.00044350600001052953\n",
      "0  Gather spill data -  0.00010530199995173462\n",
      "0  Sort all spills -  5.160099999557133e-05\n"
     ]
    },
    {
     "name": "stdout",
     "output_type": "stream",
     "text": [
      "0 - Build downhill matrices 0.1984133240000574s\n",
      "Low point swamp fill  0.6312887620000538  seconds\n"
     ]
    },
    {
     "name": "stdout",
     "output_type": "stream",
     "text": [
      "0 - Build upstream areas 0.5845668069999874s\n",
      "18 : 1\n"
     ]
    },
    {
     "name": "stdout",
     "output_type": "stream",
     "text": [
      "283  iterations, time =  0.3534747600000401\n",
      "Build low point catchments -  0.3545031730000119  seconds\n",
      "0  Sort spills -  0.0004590059999145524\n",
      "0  Gather spill data -  9.940200004621147e-05\n",
      "0  Sort all spills -  5.2801000038016355e-05\n"
     ]
    },
    {
     "name": "stdout",
     "output_type": "stream",
     "text": [
      "0 - Build downhill matrices 0.19685678299993015s\n",
      "Low point swamp fill  0.5889016479999327  seconds\n"
     ]
    },
    {
     "name": "stdout",
     "output_type": "stream",
     "text": [
      "0 - Build upstream areas 0.5862141899999642s\n",
      "19 : 1\n"
     ]
    },
    {
     "name": "stdout",
     "output_type": "stream",
     "text": [
      "283  iterations, time =  0.3533704219998981\n",
      "Build low point catchments -  0.35435763500004214  seconds\n",
      "0  Sort spills -  0.00045340599990595365\n",
      "0  Gather spill data -  0.00010050200000932819\n",
      "0  Sort all spills -  5.25010000274051e-05\n"
     ]
    },
    {
     "name": "stdout",
     "output_type": "stream",
     "text": [
      "0 - Build downhill matrices 0.19638876399994842s\n",
      "Low point swamp fill  0.5884573900000305  seconds\n"
     ]
    },
    {
     "name": "stdout",
     "output_type": "stream",
     "text": [
      "0 - Build upstream areas 0.5862011490000896s\n",
      "20 : 1\n"
     ]
    },
    {
     "name": "stdout",
     "output_type": "stream",
     "text": [
      "283  iterations, time =  0.35759944400001586\n",
      "Build low point catchments -  0.3586039570000139  seconds\n",
      "0  Sort spills -  0.0004519059999665842\n",
      "0  Gather spill data -  0.00010390200009169348\n",
      "0  Sort all spills -  5.300100008298614e-05\n"
     ]
    },
    {
     "name": "stdout",
     "output_type": "stream",
     "text": [
      "0 - Build downhill matrices 0.1997070929999154s\n",
      "Low point swamp fill  0.5962252409999564  seconds\n"
     ]
    },
    {
     "name": "stdout",
     "output_type": "stream",
     "text": [
      "0 - Build upstream areas 0.5892676380000239s\n",
      "21 : 1\n"
     ]
    },
    {
     "name": "stdout",
     "output_type": "stream",
     "text": [
      "283  iterations, time =  0.35850213200001235\n",
      "Build low point catchments -  0.35953374500002155  seconds\n",
      "0  Sort spills -  0.00045360600006461027\n",
      "0  Gather spill data -  0.00010320199999114266\n",
      "0  Sort all spills -  5.1901000006182585e-05\n"
     ]
    },
    {
     "name": "stdout",
     "output_type": "stream",
     "text": [
      "0 - Build downhill matrices 0.1987730680000368s\n",
      "Low point swamp fill  0.5959789990000672  seconds\n"
     ]
    },
    {
     "name": "stdout",
     "output_type": "stream",
     "text": [
      "0 - Build upstream areas 0.587485364000031s\n",
      "22 : 1\n"
     ]
    },
    {
     "name": "stdout",
     "output_type": "stream",
     "text": [
      "283  iterations, time =  0.3576372969999966\n",
      "Build low point catchments -  0.3586297099999456  seconds\n",
      "0  Sort spills -  0.000446905999979208\n",
      "0  Gather spill data -  0.0003738049999810755\n",
      "0  Sort all spills -  6.60010000501643e-05\n"
     ]
    },
    {
     "name": "stdout",
     "output_type": "stream",
     "text": [
      "0 - Build downhill matrices 0.19912335900005473s\n",
      "Low point swamp fill  0.5953744529999767  seconds\n"
     ]
    },
    {
     "name": "stdout",
     "output_type": "stream",
     "text": [
      "0 - Build upstream areas 0.5953532150000456s\n",
      "23 : 1\n"
     ]
    },
    {
     "name": "stdout",
     "output_type": "stream",
     "text": [
      "283  iterations, time =  0.3619341290000193\n",
      "Build low point catchments -  0.3629206419999491  seconds\n",
      "0  Sort spills -  0.00045610600000145496\n",
      "0  Gather spill data -  0.00038180499996087747\n",
      "0  Sort all spills -  7.340100000874372e-05\n"
     ]
    },
    {
     "name": "stdout",
     "output_type": "stream",
     "text": [
      "0 - Build downhill matrices 0.20062955399998827s\n",
      "Low point swamp fill  0.6018680849999782  seconds\n"
     ]
    },
    {
     "name": "stdout",
     "output_type": "stream",
     "text": [
      "0 - Build upstream areas 0.6023873650000269s\n",
      "24 : 1\n"
     ]
    },
    {
     "name": "stdout",
     "output_type": "stream",
     "text": [
      "283  iterations, time =  0.35960556600002747\n",
      "Build low point catchments -  0.3605724779999946  seconds\n",
      "0  Sort spills -  0.00044530499997108564\n",
      "0  Gather spill data -  0.0003588050000189469\n",
      "0  Sort all spills -  6.410100002085528e-05\n"
     ]
    },
    {
     "name": "stdout",
     "output_type": "stream",
     "text": [
      "0 - Build downhill matrices 0.19850551299998642s\n",
      "Low point swamp fill  0.5969120700000303  seconds\n"
     ]
    }
   ],
   "source": [
    "## Quagmire also has a swamp filling algorithm\n",
    "\n",
    "mesh1s = QuagMesh(DM)\n",
    "with mesh1s.deform_topography():\n",
    "    mesh1s.topography.data = mesh.topography.data\n",
    "    \n",
    "mesh1s.low_points_local_patch_fill(its=5, smoothing_steps=1)\n",
    "\n",
    "for i in range(0,50):\n",
    "    mesh1s.low_points_swamp_fill(ref_height=-0.01)\n",
    "    \n",
    "    # In parallel, we can't break if ANY processor has work to do (barrier / sync issue)\n",
    "    low_points2 = mesh1s.identify_global_low_points()\n",
    "    \n",
    "    print(\"{} : {}\".format(i,low_points2[0]))\n",
    "    if low_points2[0] == 0:\n",
    "        break"
   ]
  },
  {
   "cell_type": "code",
   "execution_count": null,
   "metadata": {},
   "outputs": [],
   "source": [
    "rainfall_fn_1s  = mesh1s.topography ** 2.0\n",
    "flowrate_fn_1s  = mesh1s.upstream_integral_fn(rainfall_fn_1s)\n",
    "str_power_fn_1s = mesh1s.upstream_integral_fn(rainfall_fn_1s)**2.0 * mesh.slope ** 2.0"
   ]
  },
  {
   "cell_type": "markdown",
   "metadata": {},
   "source": [
    "## Locating and viewing the outflow points\n",
    "\n",
    "`quagmire` provides a mechanism to find the outflow points of a domain and return the node values. *Note:* in parallel these are the local node numbers and are not a unique ID. To do this, we can obtain the global ID from PETSc but it does also help to have the indices all be small numbers so we can map colours effectively."
   ]
  },
  {
   "cell_type": "code",
   "execution_count": null,
   "metadata": {},
   "outputs": [],
   "source": [
    "outflows = mesh1s.identify_outflow_points()\n",
    "print(\"Mesh has {} outflows\".format(outflows.shape[0]))"
   ]
  },
  {
   "cell_type": "code",
   "execution_count": null,
   "metadata": {},
   "outputs": [],
   "source": [
    "import quagmire\n",
    "print(quagmire.mesh.check_object_is_a_q_mesh_and_raise(mesh1s))"
   ]
  },
  {
   "cell_type": "code",
   "execution_count": null,
   "metadata": {},
   "outputs": [],
   "source": [
    "import lavavu\n",
    "\n",
    "outpoints = np.column_stack([mesh.tri.points[outflows], heightn[outflows]])\n",
    "points = np.column_stack([mesh.tri.points, heightn])\n",
    "\n",
    "lv = lavavu.Viewer(border=False, background=\"#FFFFFF\", resolution=[600,600], near=-10.0)\n",
    "\n",
    "nodes = lv.points(\"nodes\", pointsize=10.0, pointtype=\"shiny\", colour=\"#FF0000\" )\n",
    "nodes.vertices(outpoints)\n",
    "\n",
    "tri1 = lv.triangles(\"triangles\", wireframe=False)\n",
    "tri1.vertices(points)\n",
    "tri1.indices(mesh.tri.simplices)\n",
    "\n",
    "tri1.values(np.log(flowrate_fn_1s.evaluate(mesh1s)), \"cum-rain-swamp\")\n",
    "tri1.values(np.log(flowrate_fn.evaluate(mesh)),     \"cumulative rain\")\n",
    "\n",
    "tri1.colourmap(\"#BBEEBB #889988 #000099\")\n",
    "tri1.colourbar()\n",
    "\n",
    "## Swamped\n",
    "\n",
    "points = np.column_stack([mesh1s.tri.points, mesh1s.topography.data-0.01])\n",
    "\n",
    "tri2 = lv.triangles(\"triangles2\", wireframe=False)\n",
    "tri2.vertices(points)\n",
    "tri2.indices(mesh1s.tri.simplices)\n",
    "\n",
    "tri2.values(mesh1s.topography.data-mesh.topography.data,   \"swamps\")\n",
    "tri2.values(np.ones_like(mesh1s.topography.data), \"blank\")\n",
    "tri2.values(np.log(flowrate_fn_1s.evaluate(mesh1s)), \"cum-rain-swamp\")\n",
    "\n",
    "tri2.colourmap(\"#003366:0.5, #000099:0.8, #000099\")\n",
    "tri2.colourbar()\n",
    "\n",
    "\n",
    "lv.control.Panel()\n",
    "lv.control.ObjectList()\n",
    "tri1.control.List(options=[\"cum-rain-swamp\",\n",
    "                   \"cumulative rain\", \n",
    "                   ], property=\"colourby\", command=\"redraw\")\n",
    "\n",
    "tri2.control.List(options=[\"blank\", \"swamps\", \n",
    "                   \"cum-rain-swamp\"], property=\"colourby\", command=\"redraw\")\n",
    "\n",
    "\n",
    "lv.control.show()"
   ]
  },
  {
   "cell_type": "code",
   "execution_count": null,
   "metadata": {},
   "outputs": [],
   "source": [
    "## Stream power / slope where the lakes / swamps are located:"
   ]
  },
  {
   "cell_type": "markdown",
   "metadata": {},
   "source": [
    "## Set neighbours to 1 and compute \"uphill\" connectivity\n",
    "\n",
    "In serial, i.e. for this demonstration, we number the outflow points by their order in the local mesh numbering. We can then use the `mesh.uphill_propagation` routine to propagate this information from the outflow to the top of the catchment. \n",
    "\n",
    "This routine returns the mesh data (for this processor) of a globally synchronised map of the information propagated from the selected points. \n",
    "\n",
    "The routine is used in the computation of flood fills for the swamp algorithm and should be polished up a bit (sorry)."
   ]
  },
  {
   "cell_type": "code",
   "execution_count": null,
   "metadata": {},
   "outputs": [],
   "source": [
    "## Unique catchments requires the downhill matrix with downhill_neighbours=1\n",
    "\n",
    "mesh1s.near_neighbours=1\n",
    "# mesh1s.update_height(mesh1s.heightVariable.data)"
   ]
  },
  {
   "cell_type": "code",
   "execution_count": null,
   "metadata": {},
   "outputs": [],
   "source": [
    "## Need a unique ID that works in parallel ... global node number would work but \n",
    "## not that easy to map to colours in lavavu \n",
    "\n",
    "from petsc4py import PETSc\n",
    "outflows\n",
    "outflowID = mesh1s.lgmap_row.apply(outflows.astype(PETSc.IntType))\n",
    "\n",
    "# But on 1 proc, this is easier / better:\n",
    "\n",
    "outflowID = np.array(range(0, outflows.shape[0]))\n",
    "ctmt = mesh1s.uphill_propagation(outflows,  outflowID, its=99999, fill=-999999).astype(np.int)"
   ]
  },
  {
   "cell_type": "markdown",
   "metadata": {},
   "source": [
    "## Visualise the catchment information"
   ]
  },
  {
   "cell_type": "code",
   "execution_count": null,
   "metadata": {},
   "outputs": [],
   "source": [
    "import lavavu\n",
    "\n",
    "outpoints = np.column_stack([mesh.tri.points[outflows], heightn[outflows]])\n",
    "points = np.column_stack([mesh.tri.points, mesh1s.topography.data])\n",
    "\n",
    "lv = lavavu.Viewer(border=False, background=\"#FFFFFF\", resolution=[900,600], near=-10.0)\n",
    "\n",
    "nodes = lv.points(\"nodes\", pointsize=10.0, pointtype=\"shiny\", colour=\"#FF0000\" )\n",
    "nodes.vertices(outpoints)\n",
    "\n",
    "tri1 = lv.triangles(\"triangles\", wireframe=False, opacity=1.0)\n",
    "tri1.vertices(points)\n",
    "tri1.indices(mesh.tri.simplices)\n",
    "tri1.values(np.log(flowrate_fn_1s.evaluate(mesh1s)),\"cum-rain-swamp\")\n",
    "\n",
    "tri1.colourmap(\"#BBEEBB:0.0, #889988:0.2, #889988:0.2, #0000FF:0.2, #0000FF\")\n",
    "tri1.colourbar(visible=False)\n",
    "\n",
    "## Swamped\n",
    "\n",
    "tri2 = lv.triangles(\"triangles2\", wireframe=False)\n",
    "tri2.vertices(points-(0.0,0.0,0.01))\n",
    "tri2.indices(mesh1s.tri.simplices)\n",
    "\n",
    "tri2.values(ctmt,   \"catchments\")\n",
    "\n",
    "tri2.colourmap(\"spectral\", discrete=True, range=[0, outflows.shape[0]-1])\n",
    "tri2.colourbar(visible=False)\n",
    "\n",
    "tri3 = lv.triangles(\"triangles3\", wireframe=False)\n",
    "tri3.vertices(points-(0.0,0.0,0.005))\n",
    "\n",
    "tri3.indices(mesh1s.tri.simplices)\n",
    "tri3.values(mesh1s.topography.data-mesh.topography.data,   \"swamps\")\n",
    "tri3.colourmap(\"#003366:0.0, #000099,  #000099, #000099, #0000FF\")\n",
    "tri3.colourbar(visible=False)\n",
    "\n",
    "\n",
    "lv.control.Panel()\n",
    "lv.control.ObjectList()\n",
    "\n",
    "lv.control.show()"
   ]
  },
  {
   "cell_type": "code",
   "execution_count": null,
   "metadata": {},
   "outputs": [],
   "source": []
  }
 ],
 "metadata": {
  "jupytext": {
   "text_representation": {
    "extension": ".md",
    "format_name": "myst",
    "format_version": 0.12,
    "jupytext_version": "1.6.0"
   }
  },
  "kernelspec": {
   "display_name": "Python 3",
   "language": "python",
   "name": "python3"
  },
  "language_info": {
   "codemirror_mode": {
    "name": "ipython",
    "version": 3
   },
   "file_extension": ".py",
   "mimetype": "text/x-python",
   "name": "python",
   "nbconvert_exporter": "python",
   "pygments_lexer": "ipython3",
   "version": "3.7.8"
  },
  "source_map": [
   12,
   31,
   36,
   42,
   67,
   96,
   100,
   120,
   125,
   131,
   136,
   141,
   191,
   193,
   203,
   210,
   222,
   226,
   271
  ]
 },
 "nbformat": 4,
 "nbformat_minor": 4
}