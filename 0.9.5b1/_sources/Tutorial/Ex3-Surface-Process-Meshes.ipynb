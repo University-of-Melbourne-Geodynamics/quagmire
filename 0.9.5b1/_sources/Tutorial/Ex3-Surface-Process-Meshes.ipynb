{
 "cells": [
  {
   "cell_type": "markdown",
   "metadata": {},
   "source": [
    "## Example 3 - Meshes for Surface Process Models\n",
    "\n",
    "This notebook introduces the `QuagMesh` object, which builds upon the `QuagMesh` and introduces methods for finding the stream connectivity, catchment identification and handling local minima.\n",
    "\n",
    "Here we demonstrate the stream flow components of the `QuagMesh` \n",
    "\n",
    "> Note: Again, the API for the structured mesh is identical\n",
    "\n",
    "#### Contents\n",
    "\n",
    "- [Upstream area and stream power](#Upstream-area-and-stream-power)\n",
    "- [Outflow analysis](#Outflow analysis)"
   ]
  },
  {
   "cell_type": "code",
   "execution_count": 1,
   "metadata": {},
   "outputs": [],
   "source": [
    "from quagmire.tools import meshtools\n",
    "from quagmire import QuagMesh, QuagMesh\n",
    "from quagmire import function as fn"
   ]
  },
  {
   "cell_type": "code",
   "execution_count": 2,
   "metadata": {},
   "outputs": [],
   "source": [
    "import matplotlib.pyplot as plt\n",
    "import numpy as np\n",
    "\n",
    "%matplotlib inline"
   ]
  },
  {
   "cell_type": "code",
   "execution_count": 3,
   "metadata": {},
   "outputs": [
    {
     "name": "stdout",
     "output_type": "stream",
     "text": [
      "Underlying Mesh type: TriMesh\n",
      "0 - Delaunay triangulation 0.17651651799997126s\n",
      "0 - Calculate node weights and area 0.006466622000004918s\n",
      "0 - Find boundaries 0.0016405049999548282s\n"
     ]
    },
    {
     "name": "stdout",
     "output_type": "stream",
     "text": [
      "0 - cKDTree 0.013644146999979512s\n"
     ]
    },
    {
     "name": "stdout",
     "output_type": "stream",
     "text": [
      "0 - Construct neighbour cloud arrays 0.4051849179999749s, (0.22584348999998838s + 0.1792997279999895s)\n",
      "0 - Construct rbf weights 0.04081044299999803s\n",
      "Triangulation has 62234 points\n"
     ]
    }
   ],
   "source": [
    "minX, maxX = -5.0, 5.0\n",
    "minY, maxY = -5.0, 5.0,\n",
    "dx, dy = 0.02, 0.02\n",
    "\n",
    "x, y, simplices = meshtools.elliptical_mesh(minX, maxX, minY, maxY, dx, dy, random_scale=1.0)\n",
    "\n",
    "DM = meshtools.create_DMPlex_from_points(x, y, bmask=None)\n",
    "\n",
    "mesh = QuagMesh(DM, downhill_neighbours=1)\n",
    "\n",
    "print (\"Triangulation has {} points\".format(mesh.npoints))"
   ]
  },
  {
   "cell_type": "markdown",
   "metadata": {},
   "source": [
    "## Height field and Rainfall\n",
    "\n",
    "We generate the usual cylindrically symmetry domed surface and add multiple channels incised along the boundary. Here is it interesting to leave out the random noise to see how discretisation error influences the surface flow paths.\n",
    "\n",
    "The `QuagMesh` stores a rainfall pattern that is used to compute the stream power assuming everything goes into the surface runoff it also records a sediment distribution pattern (etc)."
   ]
  },
  {
   "cell_type": "code",
   "execution_count": 4,
   "metadata": {},
   "outputs": [
    {
     "name": "stdout",
     "output_type": "stream",
     "text": [
      "0 - Build downhill matrices 0.05049207599995498s\n"
     ]
    },
    {
     "name": "stdout",
     "output_type": "stream",
     "text": [
      "0 - Build upstream areas 0.10374706300001435s\n"
     ]
    }
   ],
   "source": [
    "radius  = np.sqrt((x**2 + y**2))\n",
    "theta   = np.arctan2(y,x) + 0.1\n",
    "\n",
    "height  = np.exp(-0.025*(x**2 + y**2)**2) + 0.25 * (0.2*radius)**4  * np.cos(5.0*theta)**2 \n",
    "height  += 0.5 * (1.0-0.2*radius)\n",
    "heightn  = height + np.random.random(height.size) * 0.01 # random noise\n",
    "\n",
    "with mesh.deform_topography():\n",
    "    mesh.topography.data = height"
   ]
  },
  {
   "cell_type": "code",
   "execution_count": 5,
   "metadata": {},
   "outputs": [
    {
     "ename": "AttributeError",
     "evalue": "module 'quagmire.function.misc' has no attribute 'levelset'",
     "output_type": "error",
     "traceback": [
      "\u001b[0;31m---------------------------------------------------------------------------\u001b[0m",
      "\u001b[0;31mAttributeError\u001b[0m                            Traceback (most recent call last)",
      "\u001b[0;32m<ipython-input-5-8c2db27eba4b>\u001b[0m in \u001b[0;36m<module>\u001b[0;34m\u001b[0m\n\u001b[0;32m----> 1\u001b[0;31m \u001b[0mboundary_mask_fn\u001b[0m \u001b[0;34m=\u001b[0m \u001b[0mfn\u001b[0m\u001b[0;34m.\u001b[0m\u001b[0mmisc\u001b[0m\u001b[0;34m.\u001b[0m\u001b[0mlevelset\u001b[0m\u001b[0;34m(\u001b[0m\u001b[0mmesh\u001b[0m\u001b[0;34m.\u001b[0m\u001b[0mmask\u001b[0m\u001b[0;34m,\u001b[0m \u001b[0;36m0.5\u001b[0m\u001b[0;34m)\u001b[0m\u001b[0;34m\u001b[0m\u001b[0;34m\u001b[0m\u001b[0m\n\u001b[0m",
      "\u001b[0;31mAttributeError\u001b[0m: module 'quagmire.function.misc' has no attribute 'levelset'"
     ]
    }
   ],
   "source": [
    "boundary_mask_fn = fn.misc.levelset(mesh.mask, 0.5)"
   ]
  },
  {
   "cell_type": "code",
   "execution_count": 6,
   "metadata": {},
   "outputs": [
    {
     "data": {
      "text/plain": [
       "array([5.01931816, 5.02341623, 5.03617816, ..., 2.66829351, 2.3281053 ,\n",
       "       3.99135784])"
      ]
     },
     "execution_count": 6,
     "metadata": {},
     "output_type": "execute_result"
    }
   ],
   "source": [
    "rainfall = mesh.add_variable(name=\"Rainfall\")\n",
    "rainfall.data = (mesh.topography**2).evaluate(mesh)\n",
    "mesh.cumulative_flow(rainfall.data)**2"
   ]
  },
  {
   "cell_type": "code",
   "execution_count": 7,
   "metadata": {},
   "outputs": [
    {
     "data": {
      "text/plain": [
       "array([1.15501106e-05, 1.69348645e-05, 7.48535258e-06, ...,\n",
       "       4.44709461e-06, 3.86745508e-06, 7.02558358e-06])"
      ]
     },
     "execution_count": 7,
     "metadata": {},
     "output_type": "execute_result"
    }
   ],
   "source": [
    "(mesh.upstream_integral_fn((mesh.topography**2))**2).evaluate(mesh)"
   ]
  },
  {
   "cell_type": "code",
   "execution_count": 8,
   "metadata": {},
   "outputs": [],
   "source": [
    "# rbf1  = mesh.build_rbf_smoother(1.0, 1)\n",
    "# rbf01 = mesh.build_rbf_smoother(0.1, 1)\n",
    "# rbf001 = mesh.build_rbf_smoother(0.01, 1)\n",
    "\n",
    "# print(rbf1.smooth_fn(rainfall, iterations=1).evaluate(0.0,0.0))\n",
    "# print(rbf01.smooth_fn(rainfall, iterations=1).evaluate(0.0,0.0))\n",
    "# print(rbf001.smooth_fn(rainfall, iterations=1).evaluate(0.0,0.0))"
   ]
  },
  {
   "cell_type": "code",
   "execution_count": null,
   "metadata": {},
   "outputs": [],
   "source": []
  },
  {
   "cell_type": "code",
   "execution_count": 9,
   "metadata": {},
   "outputs": [],
   "source": [
    "# rbf001.smooth_fn(rainfall, iterations=1).evaluate(mesh)"
   ]
  },
  {
   "cell_type": "code",
   "execution_count": 10,
   "metadata": {},
   "outputs": [
    {
     "data": {
      "text/plain": [
       "array([2.24038348, 2.24129789, 2.24414308, ..., 0.47308102, 0.42065372,\n",
       "       0.36434709])"
      ]
     },
     "execution_count": 10,
     "metadata": {},
     "output_type": "execute_result"
    }
   ],
   "source": [
    "rainfall.evaluate(mesh)"
   ]
  },
  {
   "cell_type": "markdown",
   "metadata": {},
   "source": [
    "## Upstream area and stream power\n",
    "\n",
    "Integrating information upstream is a key component of stream power laws that are often used in landscape evolution models. This is computed by multiple $\\mathbf{D} \\cdot \\mathbf{A}_{\\mathrm{upstream}}$ evaluations to accumulate the area downstream node-by-node on the mesh. \n",
    "\n",
    "A `QuagMesh` object has a cumulative_flow method that computes this operation. There is also a quagmire function wrapper of this method that can be used as an operator to compute the area-weighted sum. This function is the numerical approximation of the upstream integral:\n",
    "\n",
    "```python\n",
    "upstream_precipitation_integral_fn = mesh.upstream_integral_fn(rainfall_pattern)\n",
    "```\n",
    "\n",
    "\n",
    "\n",
    "<!--\n",
    "NOTE: rbf_smooth / streamwise_smooth need to be a function on the mesh ... \n",
    "\n",
    "\n",
    "This is handled by the `cumulative_flow(vector)` routine.\n",
    "\n",
    "In [derivatives and hill slopes](#Derivatives-and-hill-slopes) we smoothed the entire landscape, however we can also target the RBF kernel to smooth just the streams:\n",
    "\n",
    "```python\n",
    "streamwise_smoothing(data, its, centre_weight=0.75)\n",
    "```\n",
    "\n",
    "where `its` indicates the number of iterations to smooth the field stream-wise. Increasing `its` smooths the field further afield upstream and downstream.\n",
    "-->"
   ]
  },
  {
   "cell_type": "code",
   "execution_count": 11,
   "metadata": {},
   "outputs": [
    {
     "ename": "NameError",
     "evalue": "name 'boundary_mask_fn' is not defined",
     "output_type": "error",
     "traceback": [
      "\u001b[0;31m---------------------------------------------------------------------------\u001b[0m",
      "\u001b[0;31mNameError\u001b[0m                                 Traceback (most recent call last)",
      "\u001b[0;32m<ipython-input-11-89acfb2e8c7d>\u001b[0m in \u001b[0;36m<module>\u001b[0;34m\u001b[0m\n\u001b[1;32m      1\u001b[0m \u001b[0mrainfall_fn\u001b[0m \u001b[0;34m=\u001b[0m \u001b[0;34m(\u001b[0m\u001b[0mmesh\u001b[0m\u001b[0;34m.\u001b[0m\u001b[0mtopography\u001b[0m\u001b[0;34m**\u001b[0m\u001b[0;36m2.0\u001b[0m\u001b[0;34m)\u001b[0m\u001b[0;34m\u001b[0m\u001b[0;34m\u001b[0m\u001b[0m\n\u001b[1;32m      2\u001b[0m \u001b[0mupstream_precipitation_integral_fn\u001b[0m \u001b[0;34m=\u001b[0m \u001b[0mmesh\u001b[0m\u001b[0;34m.\u001b[0m\u001b[0mupstream_integral_fn\u001b[0m\u001b[0;34m(\u001b[0m\u001b[0mrainfall_fn\u001b[0m\u001b[0;34m)\u001b[0m\u001b[0;34m\u001b[0m\u001b[0;34m\u001b[0m\u001b[0m\n\u001b[0;32m----> 3\u001b[0;31m \u001b[0mstream_power_fn\u001b[0m \u001b[0;34m=\u001b[0m \u001b[0mupstream_precipitation_integral_fn\u001b[0m\u001b[0;34m**\u001b[0m\u001b[0;36m2\u001b[0m \u001b[0;34m*\u001b[0m \u001b[0mmesh\u001b[0m\u001b[0;34m.\u001b[0m\u001b[0mslope\u001b[0m\u001b[0;34m**\u001b[0m\u001b[0;36m1.0\u001b[0m \u001b[0;34m*\u001b[0m \u001b[0mboundary_mask_fn\u001b[0m\u001b[0;34m\u001b[0m\u001b[0;34m\u001b[0m\u001b[0m\n\u001b[0m\u001b[1;32m      4\u001b[0m \u001b[0;34m\u001b[0m\u001b[0m\n\u001b[1;32m      5\u001b[0m \u001b[0mstream_power_fn\u001b[0m\u001b[0;34m.\u001b[0m\u001b[0mevaluate\u001b[0m\u001b[0;34m(\u001b[0m\u001b[0mmesh\u001b[0m\u001b[0;34m)\u001b[0m\u001b[0;34m\u001b[0m\u001b[0;34m\u001b[0m\u001b[0m\n",
      "\u001b[0;31mNameError\u001b[0m: name 'boundary_mask_fn' is not defined"
     ]
    }
   ],
   "source": [
    "rainfall_fn = (mesh.topography**2.0)\n",
    "upstream_precipitation_integral_fn = mesh.upstream_integral_fn(rainfall_fn)\n",
    "stream_power_fn = upstream_precipitation_integral_fn**2 * mesh.slope**1.0 * boundary_mask_fn\n",
    "\n",
    "stream_power_fn.evaluate(mesh)"
   ]
  },
  {
   "cell_type": "markdown",
   "metadata": {},
   "source": [
    "#### Tools: stream power smoothing\n",
    "\n",
    "It may be that some smoothing is helpful in stabilizing the effect of the stream power term in the topography evolution equation. The following examples may be helpful.\n",
    "\n",
    "Note that we provide an operator called `streamwise_smoothing_fn` which is conservative, a centre weighted smoothing kernel that only operates on nodes that are connected to each other in the stream network."
   ]
  },
  {
   "cell_type": "code",
   "execution_count": 12,
   "metadata": {},
   "outputs": [
    {
     "ename": "NameError",
     "evalue": "name 'stream_power_fn' is not defined",
     "output_type": "error",
     "traceback": [
      "\u001b[0;31m---------------------------------------------------------------------------\u001b[0m",
      "\u001b[0;31mNameError\u001b[0m                                 Traceback (most recent call last)",
      "\u001b[0;32m<ipython-input-12-e15a98da088a>\u001b[0m in \u001b[0;36m<module>\u001b[0;34m\u001b[0m\n\u001b[1;32m      2\u001b[0m \u001b[0;34m\u001b[0m\u001b[0m\n\u001b[1;32m      3\u001b[0m \u001b[0mrbf_smoother\u001b[0m \u001b[0;34m=\u001b[0m \u001b[0mmesh\u001b[0m\u001b[0;34m.\u001b[0m\u001b[0mbuild_rbf_smoother\u001b[0m\u001b[0;34m(\u001b[0m\u001b[0;36m0.05\u001b[0m\u001b[0;34m,\u001b[0m \u001b[0;36m1\u001b[0m\u001b[0;34m)\u001b[0m\u001b[0;34m\u001b[0m\u001b[0;34m\u001b[0m\u001b[0m\n\u001b[0;32m----> 4\u001b[0;31m \u001b[0mrbf_smooth_str_power_fn\u001b[0m \u001b[0;34m=\u001b[0m \u001b[0mrbf_smoother\u001b[0m\u001b[0;34m.\u001b[0m\u001b[0msmooth_fn\u001b[0m\u001b[0;34m(\u001b[0m\u001b[0mstream_power_fn\u001b[0m\u001b[0;34m)\u001b[0m\u001b[0;34m\u001b[0m\u001b[0;34m\u001b[0m\u001b[0m\n\u001b[0m\u001b[1;32m      5\u001b[0m \u001b[0mprint\u001b[0m\u001b[0;34m(\u001b[0m\u001b[0mrbf_smooth_str_power_fn\u001b[0m\u001b[0;34m.\u001b[0m\u001b[0mevaluate\u001b[0m\u001b[0;34m(\u001b[0m\u001b[0mmesh\u001b[0m\u001b[0;34m)\u001b[0m\u001b[0;34m)\u001b[0m\u001b[0;34m\u001b[0m\u001b[0;34m\u001b[0m\u001b[0m\n\u001b[1;32m      6\u001b[0m \u001b[0;34m\u001b[0m\u001b[0m\n",
      "\u001b[0;31mNameError\u001b[0m: name 'stream_power_fn' is not defined"
     ]
    }
   ],
   "source": [
    "## We can apply some smoothing to this if necessary\n",
    "\n",
    "rbf_smoother = mesh.build_rbf_smoother(0.05, 1)\n",
    "rbf_smooth_str_power_fn = rbf_smoother.smooth_fn(stream_power_fn)\n",
    "print(rbf_smooth_str_power_fn.evaluate(mesh))\n",
    "\n",
    "str_smooth_str_power_fn = mesh.streamwise_smoothing_fn(stream_power_fn)\n",
    "print(str_smooth_str_power_fn.evaluate(mesh))"
   ]
  },
  {
   "cell_type": "code",
   "execution_count": 13,
   "metadata": {},
   "outputs": [
    {
     "ename": "NameError",
     "evalue": "name 'boundary_mask_fn' is not defined",
     "output_type": "error",
     "traceback": [
      "\u001b[0;31m---------------------------------------------------------------------------\u001b[0m",
      "\u001b[0;31mNameError\u001b[0m                                 Traceback (most recent call last)",
      "\u001b[0;32m<ipython-input-13-7c76fcf1e9b8>\u001b[0m in \u001b[0;36m<module>\u001b[0;34m\u001b[0m\n\u001b[1;32m      2\u001b[0m \u001b[0;34m\u001b[0m\u001b[0m\n\u001b[1;32m      3\u001b[0m \u001b[0mrbf_smoothed_slope_fn\u001b[0m \u001b[0;34m=\u001b[0m \u001b[0mrbf_smoother\u001b[0m\u001b[0;34m.\u001b[0m\u001b[0msmooth_fn\u001b[0m\u001b[0;34m(\u001b[0m\u001b[0mmesh\u001b[0m\u001b[0;34m.\u001b[0m\u001b[0mslope\u001b[0m\u001b[0;34m)\u001b[0m\u001b[0;34m\u001b[0m\u001b[0;34m\u001b[0m\u001b[0m\n\u001b[0;32m----> 4\u001b[0;31m \u001b[0mrbf_smooth_str_power_fn2\u001b[0m \u001b[0;34m=\u001b[0m \u001b[0mupstream_precipitation_integral_fn\u001b[0m\u001b[0;34m**\u001b[0m\u001b[0;36m2\u001b[0m \u001b[0;34m*\u001b[0m \u001b[0mrbf_smoothed_slope_fn\u001b[0m\u001b[0;34m**\u001b[0m\u001b[0;36m1.0\u001b[0m \u001b[0;34m*\u001b[0m \u001b[0mboundary_mask_fn\u001b[0m\u001b[0;34m\u001b[0m\u001b[0;34m\u001b[0m\u001b[0m\n\u001b[0m\u001b[1;32m      5\u001b[0m \u001b[0mprint\u001b[0m\u001b[0;34m(\u001b[0m\u001b[0mrbf_smooth_str_power_fn2\u001b[0m\u001b[0;34m.\u001b[0m\u001b[0mevaluate\u001b[0m\u001b[0;34m(\u001b[0m\u001b[0mmesh\u001b[0m\u001b[0;34m)\u001b[0m\u001b[0;34m)\u001b[0m\u001b[0;34m\u001b[0m\u001b[0;34m\u001b[0m\u001b[0m\n\u001b[1;32m      6\u001b[0m \u001b[0;34m\u001b[0m\u001b[0m\n",
      "\u001b[0;31mNameError\u001b[0m: name 'boundary_mask_fn' is not defined"
     ]
    }
   ],
   "source": [
    "## We could also smooth the components that make up the stream power\n",
    "\n",
    "rbf_smoothed_slope_fn = rbf_smoother.smooth_fn(mesh.slope)\n",
    "rbf_smooth_str_power_fn2 = upstream_precipitation_integral_fn**2 * rbf_smoothed_slope_fn**1.0 * boundary_mask_fn\n",
    "print(rbf_smooth_str_power_fn2.evaluate(mesh))\n",
    "\n",
    "str_smoothed_slope_fn = mesh.streamwise_smoothing_fn(mesh.slope)\n",
    "str_smooth_str_power_fn2 = upstream_precipitation_integral_fn**2 * str_smoothed_slope_fn**1.0 * boundary_mask_fn\n",
    "print(str_smooth_str_power_fn2.evaluate(mesh))"
   ]
  },
  {
   "cell_type": "code",
   "execution_count": null,
   "metadata": {},
   "outputs": [],
   "source": []
  },
  {
   "cell_type": "code",
   "execution_count": null,
   "metadata": {},
   "outputs": [],
   "source": []
  },
  {
   "cell_type": "code",
   "execution_count": 14,
   "metadata": {},
   "outputs": [
    {
     "name": "stdout",
     "output_type": "stream",
     "text": [
      "LavaVu Run error: Failed to open X display\n",
      "\n",
      "\n"
     ]
    },
    {
     "ename": "NameError",
     "evalue": "name 'stream_power_fn' is not defined",
     "output_type": "error",
     "traceback": [
      "\u001b[0;31m---------------------------------------------------------------------------\u001b[0m",
      "\u001b[0;31mNameError\u001b[0m                                 Traceback (most recent call last)",
      "\u001b[0;32m<ipython-input-14-83016a160272>\u001b[0m in \u001b[0;36m<module>\u001b[0;34m\u001b[0m\n\u001b[1;32m      6\u001b[0m \u001b[0;34m\u001b[0m\u001b[0m\n\u001b[1;32m      7\u001b[0m \u001b[0;34m\u001b[0m\u001b[0m\n\u001b[0;32m----> 8\u001b[0;31m \u001b[0mstream_power_0\u001b[0m \u001b[0;34m=\u001b[0m \u001b[0mstream_power_fn\u001b[0m\u001b[0;34m.\u001b[0m\u001b[0mevaluate\u001b[0m\u001b[0;34m(\u001b[0m\u001b[0mmesh\u001b[0m\u001b[0;34m)\u001b[0m\u001b[0;34m\u001b[0m\u001b[0;34m\u001b[0m\u001b[0m\n\u001b[0m\u001b[1;32m      9\u001b[0m \u001b[0mstream_power_a\u001b[0m \u001b[0;34m=\u001b[0m \u001b[0mrbf_smooth_str_power_fn\u001b[0m\u001b[0;34m.\u001b[0m\u001b[0mevaluate\u001b[0m\u001b[0;34m(\u001b[0m\u001b[0mmesh\u001b[0m\u001b[0;34m)\u001b[0m\u001b[0;34m\u001b[0m\u001b[0;34m\u001b[0m\u001b[0m\n\u001b[1;32m     10\u001b[0m \u001b[0mstream_power_b\u001b[0m \u001b[0;34m=\u001b[0m \u001b[0mstr_smooth_str_power_fn\u001b[0m\u001b[0;34m.\u001b[0m\u001b[0mevaluate\u001b[0m\u001b[0;34m(\u001b[0m\u001b[0mmesh\u001b[0m\u001b[0;34m)\u001b[0m\u001b[0;34m\u001b[0m\u001b[0;34m\u001b[0m\u001b[0m\n",
      "\u001b[0;31mNameError\u001b[0m: name 'stream_power_fn' is not defined"
     ]
    }
   ],
   "source": [
    "import lavavu\n",
    "\n",
    "points = np.column_stack([mesh.tri.points, height])\n",
    "\n",
    "lv = lavavu.Viewer(border=False, background=\"#FFFFFF\", resolution=[800,600], near=-10.0)\n",
    "\n",
    "\n",
    "stream_power_0 = stream_power_fn.evaluate(mesh)\n",
    "stream_power_a = rbf_smooth_str_power_fn.evaluate(mesh)\n",
    "stream_power_b = str_smooth_str_power_fn.evaluate(mesh)\n",
    "stream_power_c = rbf_smooth_str_power_fn2.evaluate(mesh)\n",
    "stream_power_d = str_smooth_str_power_fn2.evaluate(mesh)\n",
    "\n",
    "\n",
    "tri1 = lv.triangles(\"triangles\", wireframe=False)\n",
    "tri1.vertices(points)\n",
    "tri1.indices(mesh.tri.simplices)\n",
    "tri1.values(stream_power_0, \"stream_power (RAW)\")\n",
    "tri1.values(stream_power_a, \"stream_power (RBF 1)\")\n",
    "tri1.values(stream_power_b, \"stream_power (STR 1)\")\n",
    "tri1.values(stream_power_c, \"stream_power (RBF 2)\")\n",
    "tri1.values(stream_power_d, \"stream_power (STR 2)\")\n",
    "\n",
    "tri1.colourmap(\"drywet\")\n",
    "tri1.colourbar()\n",
    "\n",
    "lv.control.Panel()\n",
    "lv.control.ObjectList()\n",
    "tri1.control.List(options=\n",
    "                  [\"stream_power (RAW)\", \n",
    "                   \"stream_power (RBF 1)\",\n",
    "                   \"stream_power (STR 1)\", \n",
    "                   \"stream_power (RBF 2)\", \n",
    "                   \"stream_power (STR 2)\", \n",
    "                   ], \n",
    "                   property=\"colourby\", value=\"stream_power (RAW)\", command=\"redraw\")\n",
    "lv.control.show()"
   ]
  },
  {
   "cell_type": "markdown",
   "metadata": {},
   "source": [
    "## Outflow analysis\n",
    "\n",
    "The topography we have defined has multiple outflow points, which, in the analytic case, should be equal. If they differ, this is a result of the discretisation. \n",
    "\n",
    "When we introduce random noise we also (usually) introduce some internal low points in the mesh that capture some of the surface flow."
   ]
  },
  {
   "cell_type": "code",
   "execution_count": 15,
   "metadata": {},
   "outputs": [
    {
     "name": "stdout",
     "output_type": "stream",
     "text": [
      "17 outflow nodes:\n",
      "[61753 61803 61853 61902 61903 61952 61953 61954 62002 62052 62102 62151\n",
      " 62152 62201 62202 62203 62205]\n",
      "0 internal low point nodes:\n",
      "[61753 61803 61853 61902 61903 61952 61953 61954 62002 62052 62102 62151\n",
      " 62152 62201 62202 62203 62205]\n",
      "[1.46523046e+00 2.96227839e+00 6.54560973e+00 4.20637215e+00\n",
      " 1.36276438e-01 2.09389508e+00 3.71921249e-04 9.09250087e-02\n",
      " 1.59007655e+00 3.54420645e+00 6.61017444e+00 3.88768145e+00\n",
      " 1.26776220e-01 1.20498823e+00 7.21849823e-04 6.52541886e-02\n",
      " 3.63336895e-03]\n",
      "0 - Build downhill matrices 0.05033767599996963s\n"
     ]
    },
    {
     "name": "stdout",
     "output_type": "stream",
     "text": [
      "0 - Build upstream areas 0.0655175289999761s\n",
      "21 outflow nodes:\n",
      "[61753 61754 61803 61852 61853 61902 61903 61952 61953 61954 61955 61958\n",
      " 62002 62051 62052 62101 62152 62202 62205 62209 62212]\n",
      "0 internal low point nodes:\n",
      "[]\n",
      "[0.11804564 0.000444   0.14754191 0.10177896 0.01243918 0.06691686\n",
      " 0.14767613 0.01107893 0.00028606 0.00060959 0.06307405 0.01699379\n",
      " 0.09755815 0.1302381  0.03774935 0.27236167 0.18594057 0.18342239\n",
      " 0.00037763 0.00088499 0.00249364]\n"
     ]
    }
   ],
   "source": [
    "outflow_nodes = mesh.identify_outflow_points()\n",
    "low_point_nodes = mesh.identify_low_points()\n",
    "cumulative_rain = mesh.upstream_integral_fn(rainfall_fn).evaluate(mesh)\n",
    "outflow_std_mesh = cumulative_rain[outflow_nodes]\n",
    "\n",
    "\n",
    "print(\"{} outflow nodes:\".format(len(outflow_nodes)))\n",
    "print(outflow_nodes)\n",
    "print(\"{} internal low point nodes:\".format(len(low_point_nodes)))\n",
    "\n",
    "print(outflow_nodes)\n",
    "print(outflow_std_mesh)\n",
    "\n",
    "outflow_standard_mesh = cumulative_rain[outflow_nodes]\n",
    "\n",
    "with mesh.deform_topography():\n",
    "    mesh.topography.data = heightn\n",
    "    \n",
    "cumulative_rain_n = mesh.upstream_integral_fn(rainfall_fn).evaluate(mesh)\n",
    "outflow_nodes = mesh.identify_outflow_points()\n",
    "outflow_rough_mesh = cumulative_rain_n[outflow_nodes]\n",
    "\n",
    "print(\"{} outflow nodes:\".format(len(outflow_nodes)))\n",
    "print(outflow_nodes)\n",
    "print(\"{} internal low point nodes:\".format(len(low_point_nodes)))\n",
    "print(low_point_nodes)\n",
    "print(outflow_rough_mesh)"
   ]
  },
  {
   "cell_type": "code",
   "execution_count": 16,
   "metadata": {},
   "outputs": [
    {
     "data": {
      "image/png": "[encoded data removed]",
      "text/plain": [
       "<Figure size 864x432 with 1 Axes>"
      ]
     },
     "metadata": {
      "filenames": {
       "image/png": "/home/runner/work/quagmire/quagmire/jupyterbook/_build/jupyter_execute/Tutorial/Ex3-Surface-Process-Meshes_23_0.png"
      },
      "needs_background": "light"
     },
     "output_type": "display_data"
    }
   ],
   "source": [
    "import matplotlib.pyplot as plt\n",
    "%matplotlib inline\n",
    "\n",
    "# plot bar graph of cumulative rain for each outflow point\n",
    "\n",
    "fig = plt.figure(figsize=(12,6))\n",
    "ax1 = fig.add_subplot(111, xlabel='outflow node', ylabel='cumulative rain')\n",
    "ax1.bar(np.array(range(0,len(outflow_std_mesh))), width=0.4, height=outflow_std_mesh)\n",
    "ax1.bar(np.array(range(0,len(outflow_rough_mesh)))+0.5, width=0.4, height=outflow_rough_mesh)\n",
    "plt.show()"
   ]
  },
  {
   "cell_type": "code",
   "execution_count": 17,
   "metadata": {},
   "outputs": [
    {
     "name": "stdout",
     "output_type": "stream",
     "text": [
      "LavaVu Run error: Failed to open X display\n",
      "\n",
      "\n"
     ]
    },
    {
     "ename": "NameError",
     "evalue": "name 'stream_power_fn' is not defined",
     "output_type": "error",
     "traceback": [
      "\u001b[0;31m---------------------------------------------------------------------------\u001b[0m",
      "\u001b[0;31mNameError\u001b[0m                                 Traceback (most recent call last)",
      "\u001b[0;32m<ipython-input-17-71601e970515>\u001b[0m in \u001b[0;36m<module>\u001b[0;34m\u001b[0m\n\u001b[1;32m      9\u001b[0m \u001b[0;34m\u001b[0m\u001b[0m\n\u001b[1;32m     10\u001b[0m \u001b[0;34m\u001b[0m\u001b[0m\n\u001b[0;32m---> 11\u001b[0;31m \u001b[0mstream_power_0\u001b[0m \u001b[0;34m=\u001b[0m \u001b[0mstream_power_fn\u001b[0m\u001b[0;34m.\u001b[0m\u001b[0mevaluate\u001b[0m\u001b[0;34m(\u001b[0m\u001b[0mmesh\u001b[0m\u001b[0;34m)\u001b[0m\u001b[0;34m\u001b[0m\u001b[0;34m\u001b[0m\u001b[0m\n\u001b[0m\u001b[1;32m     12\u001b[0m \u001b[0mstream_power_a\u001b[0m \u001b[0;34m=\u001b[0m \u001b[0mrbf_smooth_str_power_fn\u001b[0m\u001b[0;34m.\u001b[0m\u001b[0mevaluate\u001b[0m\u001b[0;34m(\u001b[0m\u001b[0mmesh\u001b[0m\u001b[0;34m)\u001b[0m\u001b[0;34m\u001b[0m\u001b[0;34m\u001b[0m\u001b[0m\n\u001b[1;32m     13\u001b[0m \u001b[0mstream_power_b\u001b[0m \u001b[0;34m=\u001b[0m \u001b[0mstr_smooth_str_power_fn\u001b[0m\u001b[0;34m.\u001b[0m\u001b[0mevaluate\u001b[0m\u001b[0;34m(\u001b[0m\u001b[0mmesh\u001b[0m\u001b[0;34m)\u001b[0m\u001b[0;34m\u001b[0m\u001b[0;34m\u001b[0m\u001b[0m\n",
      "\u001b[0;31mNameError\u001b[0m: name 'stream_power_fn' is not defined"
     ]
    }
   ],
   "source": [
    "## Note, having changed the mesh topography and the related connectivity matrices, \n",
    "## the stream power functions immediately reflect the new topology\n",
    "\n",
    "import lavavu\n",
    "\n",
    "points = np.column_stack([mesh.tri.points, height])\n",
    "\n",
    "lv = lavavu.Viewer(border=False, background=\"#FFFFFF\", resolution=[600,600], near=-10.0)\n",
    "\n",
    "\n",
    "stream_power_0 = stream_power_fn.evaluate(mesh)\n",
    "stream_power_a = rbf_smooth_str_power_fn.evaluate(mesh)\n",
    "stream_power_b = str_smooth_str_power_fn.evaluate(mesh)\n",
    "stream_power_c = rbf_smooth_str_power_fn2.evaluate(mesh)\n",
    "stream_power_d = str_smooth_str_power_fn2.evaluate(mesh)\n",
    "\n",
    "\n",
    "tri1 = lv.triangles(\"triangles\", wireframe=False)\n",
    "tri1.vertices(points)\n",
    "tri1.indices(mesh.tri.simplices)\n",
    "tri1.values(stream_power_0, \"stream_power (RAW)\")\n",
    "tri1.values(stream_power_a, \"stream_power (RBF 1)\")\n",
    "tri1.values(stream_power_b, \"stream_power (STR 1)\")\n",
    "tri1.values(stream_power_c, \"stream_power (RBF 2)\")\n",
    "tri1.values(stream_power_d, \"stream_power (STR 2)\")\n",
    "\n",
    "tri1.colourmap(\"drywet\")\n",
    "tri1.colourbar()\n",
    "\n",
    "lv.control.Panel()\n",
    "lv.control.ObjectList()\n",
    "tri1.control.List(options=\n",
    "                  [\"stream_power (RAW)\", \n",
    "                   \"stream_power (RBF 1)\",\n",
    "                   \"stream_power (STR 1)\", \n",
    "                   \"stream_power (RBF 2)\", \n",
    "                   \"stream_power (STR 2)\", \n",
    "                   ], \n",
    "                   property=\"colourby\", value=\"stream_power (RAW)\", command=\"redraw\")\n",
    "lv.control.show()"
   ]
  },
  {
   "cell_type": "markdown",
   "metadata": {},
   "source": [
    "The downhill matrices are introduced in the next example, [Ex4-Multiple-downhill-pathways](./Ex4-Multiple-downhill-pathways.ipynb)"
   ]
  }
 ],
 "metadata": {
  "jupytext": {
   "text_representation": {
    "extension": ".md",
    "format_name": "myst",
    "format_version": 0.12,
    "jupytext_version": "1.6.0"
   }
  },
  "kernelspec": {
   "display_name": "Python 3",
   "language": "python",
   "name": "python3"
  },
  "language_info": {
   "codemirror_mode": {
    "name": "ipython",
    "version": 3
   },
   "file_extension": ".py",
   "mimetype": "text/x-python",
   "name": "python",
   "nbconvert_exporter": "python",
   "pygments_lexer": "ipython3",
   "version": "3.7.8"
  },
  "source_map": [
   12,
   27,
   33,
   40,
   52,
   60,
   72,
   76,
   82,
   86,
   96,
   100,
   104,
   106,
   135,
   141,
   149,
   160,
   172,
   176,
   180,
   218,
   227,
   257,
   270,
   311
  ]
 },
 "nbformat": 4,
 "nbformat_minor": 4
}