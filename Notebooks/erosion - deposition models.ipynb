{
 "cells": [
  {
   "cell_type": "markdown",
   "metadata": {},
   "source": [
    "# Long-range erosion and deposition models\n",
    "\n",
    "This notebook explores erosion and deposition mechanics for long-range transport by rivers. The incision rate in \"stream power\" form is,\n",
    "\n",
    "$$\n",
    "\\frac{d h}{d t} = q_s = K q_r^m S^n\n",
    "$$\n",
    "\n",
    "where $q_r = \\int_0^A R \\, \\mathrm{d}A$ is the accumulated run-off for all areas which lie upstream, $S$ is the slope, and $K$ is a proportionality constant which relates to the efficiency of the stream to transport sediment. $m$ and $n$ vary depend on the transport theory being used but $\\frac{n}{m}=\\frac{1}{2}$ is common.\n",
    "\n",
    "We expore three transport models:\n",
    "\n",
    "1. Local equilibrium\n",
    "2. Saltation length (Beaumont _et al._ 1992, Kooi & Beaumont 1994, 1996)\n",
    "3. $\\xi-q$ model (Davy and Lague 2009)"
   ]
  },
  {
   "cell_type": "code",
   "execution_count": null,
   "metadata": {
    "collapsed": false
   },
   "outputs": [],
   "source": [
    "from quagmire import SurfaceProcessMesh\n",
    "from quagmire import tools as meshtools\n",
    "import numpy as np\n",
    "import matplotlib.pyplot as plt\n",
    "%matplotlib inline"
   ]
  },
  {
   "cell_type": "code",
   "execution_count": null,
   "metadata": {
    "collapsed": false
   },
   "outputs": [],
   "source": [
    "minX, maxX = -5.0, 5.0\n",
    "minY, maxY = -5.0, 5.0,\n",
    "dx, dy = 0.05, 0.05\n",
    "\n",
    "x, y, bmask = meshtools.elliptical_mesh(minX, maxX, minY, maxY, dx, dy, 10000, 1000)\n",
    "x, y = meshtools.lloyd_mesh_improvement(x, y, bmask, 5)\n",
    "DM = meshtools.create_DMPlex_from_points(x, y, bmask)\n",
    "\n",
    "height = np.exp(-0.025*(x**2 + y**2)**2) + 0.0001\n",
    "height += np.random.random(height.size) * 0.05 # random noise\n",
    "rain   = height**2\n",
    "\n",
    "sp = SurfaceProcessMesh(DM)\n",
    "sp.update_height(height)\n",
    "sp.update_surface_processes(rain, np.zeros_like(rain))"
   ]
  },
  {
   "cell_type": "markdown",
   "metadata": {},
   "source": [
    "Each of the erosion-depositon models require the stream power..."
   ]
  },
  {
   "cell_type": "code",
   "execution_count": null,
   "metadata": {
    "collapsed": false
   },
   "outputs": [],
   "source": [
    "def compute_stream_power(self, m=1, n=1):\n",
    "    \"\"\"\n",
    "    Stream power law (q_s)\n",
    "    \"\"\"\n",
    "    rainflux = self.rainfall_pattern\n",
    "    rainfall = self.area * rainflux\n",
    "    cumulative_rain = self.cumulative_flow(rainfall)\n",
    "    cumulative_flow_rate = cumulative_rain / self.area\n",
    "    stream_power = cumulative_flow_rate**m *self.slope**n\n",
    "    return stream_power\n",
    "\n",
    "stream_power = compute_stream_power(sp, m=1, n=1)"
   ]
  },
  {
   "cell_type": "code",
   "execution_count": null,
   "metadata": {
    "collapsed": false
   },
   "outputs": [],
   "source": [
    "# Plot the height, rainfall, and stream power\n",
    "fig, (ax1, ax2, ax3) = plt.subplots(1,3, figsize=(10,3))\n",
    "for ax in [ax1, ax2, ax3]:\n",
    "    ax.axis('equal')\n",
    "    ax.axis('off')\n",
    "im1 = ax1.tripcolor(x, y, sp.tri.simplices, height, cmap='terrain')\n",
    "im2 = ax2.tripcolor(x, y, sp.tri.simplices, rain, cmap='Blues')\n",
    "im3 = ax3.tripcolor(x, y, sp.tri.simplices, stream_power, cmap='Purples')\n",
    "\n",
    "fig.colorbar(im1, ax=ax1)\n",
    "fig.colorbar(im2, ax=ax2)\n",
    "fig.colorbar(im3, ax=ax3)\n",
    "plt.show()"
   ]
  },
  {
   "cell_type": "markdown",
   "metadata": {},
   "source": [
    "## 1. Local equilibrium\n",
    "\n",
    "The assumption of the stream power law is that sediment transport is in a state of local equilibrium in which the transport rate is equal to the local carrying capacity. If we neglect suspended-load transport for a moment and assume only bed-load transport then the local deposition is the amount of material that can be eroded from upstream."
   ]
  },
  {
   "cell_type": "code",
   "execution_count": null,
   "metadata": {
    "collapsed": false
   },
   "outputs": [],
   "source": [
    "def erosion_deposition_1(self, stream_power, efficiency=0.1):\n",
    "    \"\"\"\n",
    "    Local equilibrium model\n",
    "    \"\"\"\n",
    "    erosion_rate = efficiency*stream_power\n",
    "    full_capacity_sediment_load = stream_power*self.area\n",
    "    cumulative_eroded_material = self.cumulative_flow(erosion_rate*self.area)\n",
    "    \n",
    "    transport_limited_eroded_material = np.minimum(cumulative_eroded_material, full_capacity_sediment_load)\n",
    "    excess = sp.gvec.duplicate()\n",
    "    excess.setArray(cumulative_eroded_material - transport_limited_eroded_material)\n",
    "    \n",
    "    deposition = excess - self.downhillMat*excess\n",
    "    deposition_rate = deposition.array/self.area\n",
    "    return erosion_rate, deposition_rate\n",
    "\n",
    "erosion_rate1, deposition_rate1 = erosion_deposition_1(sp, stream_power, efficiency=0.1)"
   ]
  },
  {
   "cell_type": "code",
   "execution_count": null,
   "metadata": {
    "collapsed": false
   },
   "outputs": [],
   "source": [
    "# Plot the stream power, erosion and deposition rates\n",
    "fig, (ax1, ax2, ax3) = plt.subplots(1,3, figsize=(10,3))\n",
    "for ax in [ax1, ax2, ax3]:\n",
    "    ax.axis('equal')\n",
    "    ax.axis('off')\n",
    "im1 = ax1.tripcolor(x, y, sp.tri.simplices, stream_power, cmap='Purples')\n",
    "im2 = ax2.tripcolor(x, y, sp.tri.simplices, erosion_rate1, cmap='Reds', vmin=0)\n",
    "im3 = ax3.tripcolor(x, y, sp.tri.simplices, deposition_rate1, cmap='Blues', vmin=0)\n",
    "\n",
    "fig.colorbar(im1, ax=ax1)\n",
    "fig.colorbar(im2, ax=ax2)\n",
    "fig.colorbar(im3, ax=ax3)\n",
    "plt.show()"
   ]
  },
  {
   "cell_type": "markdown",
   "metadata": {},
   "source": [
    "## 2. Saltation length\n",
    "\n",
    "This model relates the length of time it takes for a grain to settle to a material property, $L_s$.\n",
    "From Beaumont et al. 1992, Kooi & Beaumont 1994, 1996 we see a linear dependency of deposition flux to stream capacity:\n",
    "\n",
    "$$\n",
    "\\frac{dh}{dt} = \\frac{dq_s}{dl} = \\frac{D_c}{q_c} \\left(q_c - q_s \\right)\n",
    "$$\n",
    "\n",
    "where\n",
    "\n",
    "$$\n",
    "\\frac{D_c}{q_c} = \\frac{1}{L_s}\n",
    "$$\n",
    "\n",
    "$D_c$ is the detachment capacity, $q_c$ is the carrying capacity, $q_s$ is the stream capacity, and $L_s$ is the erosion length scale (a measure of the detachability of the substrate). When the flux equals capacity, $q_c = q_s$, no erosion is possible."
   ]
  },
  {
   "cell_type": "code",
   "execution_count": null,
   "metadata": {
    "collapsed": false
   },
   "outputs": [],
   "source": [
    "def erosion_deposition_2(self, stream_power, efficiency=0.1, length_scale=10.):\n",
    "    \"\"\"\n",
    "    Saltation length from Beaumont et al. 1992\n",
    "    \"\"\"\n",
    "    \n",
    "    erosion_rate = efficiency*stream_power\n",
    "    \n",
    "    cumulative_eroded_material = self.cumulative_flow(erosion_rate*self.area)\n",
    "    cumulative_deposition_rate = cumulative_eroded_material / self.area\n",
    "    \n",
    "    erosion_deposition = 1.0/length_scale * (cumulative_deposition_rate - erosion_rate)\n",
    "    return erosion_rate, erosion_deposition\n",
    "\n",
    "erosion_rate2, deposition_rate2 = erosion_deposition_2(sp, stream_power, efficiency=0.1, length_scale=10.)"
   ]
  },
  {
   "cell_type": "code",
   "execution_count": null,
   "metadata": {
    "collapsed": false
   },
   "outputs": [],
   "source": [
    "# Plot the stream power, erosion and deposition rates\n",
    "fig, (ax1, ax2, ax3) = plt.subplots(1,3, figsize=(10,3))\n",
    "for ax in [ax1, ax2, ax3]:\n",
    "    ax.axis('equal')\n",
    "    ax.axis('off')\n",
    "im1 = ax1.tripcolor(x, y, sp.tri.simplices, stream_power, cmap='Purples')\n",
    "im2 = ax2.tripcolor(x, y, sp.tri.simplices, erosion_rate2, cmap='Reds')\n",
    "im3 = ax3.tripcolor(x, y, sp.tri.simplices, deposition_rate2, cmap='Blues')\n",
    "\n",
    "fig.colorbar(im1, ax=ax1)\n",
    "fig.colorbar(im2, ax=ax2)\n",
    "fig.colorbar(im3, ax=ax3)\n",
    "plt.show()"
   ]
  },
  {
   "cell_type": "markdown",
   "metadata": {},
   "source": [
    "## 3. $\\xi - q$ model\n",
    "\n",
    "Davy and Lague (2009) propose a similar suspended-load model that encapsulates a range of behaviours between detachment and transport-limited end members. This model couples erodability as a function of stream power with a sedimentation term weighted by $\\alpha$.\n",
    "\n",
    "$$\n",
    "\\frac{dh}{dt} = -K q_r^m S^n + \\frac{Q_s}{\\alpha Q_w}\n",
    "$$\n",
    "\n",
    "where $Q_s$ and $Q_w$ are the sedimentary and water discharge, respectively."
   ]
  },
  {
   "cell_type": "code",
   "execution_count": null,
   "metadata": {
    "collapsed": false
   },
   "outputs": [],
   "source": [
    "def erosion_depositon_3(self, stream_power, efficiency=0.1, alpha=1.):\n",
    "    \"\"\"\n",
    "    xi - q model from Davy and Lague 2009\n",
    "    \"\"\"\n",
    "    rainflux = self.rainfall_pattern\n",
    "    rainfall = self.area * rainflux\n",
    "    cumulative_rain = self.cumulative_flow(rainfall)\n",
    "    cumulative_flow_rate = cumulative_rain / self.area\n",
    "    erosion_rate = efficiency*stream_power\n",
    "    \n",
    "    cumulative_eroded_material = self.cumulative_flow(erosion_rate*self.area)\n",
    "    cumulative_deposition_rate = cumulative_eroded_material / self.area\n",
    "    \n",
    "    deposition_rate = cumulative_deposition_rate / (alpha * cumulative_flow_rate)\n",
    "\n",
    "    return erosion_rate, deposition_rate\n",
    "\n",
    "erosion_rate3, deposition_rate3 = erosion_depositon_3(sp, stream_power, efficiency=0.1, alpha=1.0)"
   ]
  },
  {
   "cell_type": "code",
   "execution_count": null,
   "metadata": {
    "collapsed": false
   },
   "outputs": [],
   "source": [
    "# Plot the stream power, erosion and deposition rates\n",
    "fig, (ax1, ax2, ax3) = plt.subplots(1,3, figsize=(10,3))\n",
    "for ax in [ax1, ax2, ax3]:\n",
    "    ax.axis('equal')\n",
    "    ax.axis('off')\n",
    "im1 = ax1.tripcolor(x, y, sp.tri.simplices, stream_power, cmap='Purples')\n",
    "im2 = ax2.tripcolor(x, y, sp.tri.simplices, erosion_rate3, cmap='Reds')\n",
    "im3 = ax3.tripcolor(x, y, sp.tri.simplices, deposition_rate3, cmap='Blues')\n",
    "\n",
    "fig.colorbar(im1, ax=ax1)\n",
    "fig.colorbar(im2, ax=ax2)\n",
    "fig.colorbar(im3, ax=ax3)\n",
    "plt.show()"
   ]
  },
  {
   "cell_type": "markdown",
   "metadata": {},
   "source": [
    "A comparison of deposition rates calculated from each model..."
   ]
  },
  {
   "cell_type": "code",
   "execution_count": null,
   "metadata": {
    "collapsed": false
   },
   "outputs": [],
   "source": [
    "# Compare deposition rates\n",
    "fig, (ax1, ax2, ax3) = plt.subplots(1,3, figsize=(10,3))\n",
    "for ax in [ax1, ax2, ax3]:\n",
    "    ax.axis('equal')\n",
    "    ax.axis('off')\n",
    "im1 = ax1.tripcolor(x, y, sp.tri.simplices, deposition_rate1, cmap='Blues', vmin=0, vmax=2)\n",
    "im2 = ax2.tripcolor(x, y, sp.tri.simplices, deposition_rate2, cmap='Blues', vmin=0, vmax=2)\n",
    "im3 = ax3.tripcolor(x, y, sp.tri.simplices, deposition_rate3, cmap='Blues', vmin=0, vmax=2)\n",
    "\n",
    "fig.colorbar(im1, ax=ax1)\n",
    "fig.colorbar(im2, ax=ax2)\n",
    "fig.colorbar(im3, ax=ax3)\n",
    "plt.show()"
   ]
  }
 ],
 "metadata": {
  "kernelspec": {
   "display_name": "Python 2",
   "language": "python2",
   "name": "python2"
  },
  "language_info": {
   "codemirror_mode": {
    "name": "ipython",
    "version": 2
   },
   "file_extension": ".py",
   "mimetype": "text/x-python",
   "name": "python",
   "nbconvert_exporter": "python",
   "pygments_lexer": "ipython2",
   "version": "2.7.13"
  }
 },
 "nbformat": 4,
 "nbformat_minor": 2
}
