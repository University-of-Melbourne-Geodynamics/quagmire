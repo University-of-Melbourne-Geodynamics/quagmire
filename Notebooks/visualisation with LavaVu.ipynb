{
 "cells": [
  {
   "cell_type": "markdown",
   "metadata": {
    "deletable": true,
    "editable": true
   },
   "source": [
    "# Visualising with LavaVu\n",
    "\n",
    "[LavaVu](https://github.com/OKaluza/LavaVu) is a lightweight, automatable visualisation and analysis viewing utility.\n",
    "\n",
    "> This notebook assumes you have run `distributed_mesh.py` in the tests folder with one or more processors.\n",
    "\n",
    "How to load HDF5 data with h5py and display with LavaVu..."
   ]
  },
  {
   "cell_type": "code",
   "execution_count": null,
   "metadata": {
    "collapsed": false,
    "deletable": true,
    "editable": true,
    "scrolled": false
   },
   "outputs": [],
   "source": [
    "import lavavu\n",
    "import h5py\n",
    "import numpy\n",
    "\n",
    "f = h5py.File('../tests/spiral.h5', 'r')\n",
    "\n",
    "#Print some info about the data structures\n",
    "lavavu.printH5(f)\n",
    "\n",
    "for field in f['fields']:\n",
    "    print(field)\n",
    "for label in f['labels']:\n",
    "    print(label)"
   ]
  },
  {
   "cell_type": "code",
   "execution_count": null,
   "metadata": {
    "collapsed": false,
    "deletable": true,
    "editable": true
   },
   "outputs": [],
   "source": [
    "topography = f['fields']['height']\n",
    "vertices = f['geometry']['vertices']\n",
    "cells = f['viz']['topology']['cells']\n",
    "\n",
    "boundary = f['labels']['boundary']['1']['indices']"
   ]
  },
  {
   "cell_type": "code",
   "execution_count": null,
   "metadata": {
    "collapsed": false,
    "deletable": true,
    "editable": true
   },
   "outputs": [],
   "source": [
    "#print topography[0:10],topography.shape\n",
    "#print vertices[0:10],vertices.shape\n",
    "#print cells[0:10],cells.shape\n",
    "#print boundary[0:10],topography.shape"
   ]
  },
  {
   "cell_type": "markdown",
   "metadata": {
    "deletable": true,
    "editable": true
   },
   "source": [
    "**Create a viewer**"
   ]
  },
  {
   "cell_type": "code",
   "execution_count": null,
   "metadata": {
    "collapsed": false,
    "deletable": true,
    "editable": true,
    "scrolled": false
   },
   "outputs": [],
   "source": [
    "lv = lavavu.Viewer(border=False, background=\"darkgrey\")"
   ]
  },
  {
   "cell_type": "markdown",
   "metadata": {
    "deletable": true,
    "editable": true
   },
   "source": [
    "**Plot a triangle surface**\n",
    "\n",
    "Can be vertices only (3 per tri) or vertices (shared) with indices (3 per tri)"
   ]
  },
  {
   "cell_type": "code",
   "execution_count": null,
   "metadata": {
    "collapsed": true,
    "deletable": true,
    "editable": true
   },
   "outputs": [],
   "source": [
    "#Convert the vertex & vector arrays to 3d with numpy\n",
    "verts = numpy.reshape(vertices, (-1,2))\n",
    "#Insert the topography layer in Y axis\n",
    "verts = numpy.insert(verts, 2, values=topography, axis=1)"
   ]
  },
  {
   "cell_type": "code",
   "execution_count": null,
   "metadata": {
    "collapsed": false,
    "deletable": true,
    "editable": true,
    "scrolled": false
   },
   "outputs": [],
   "source": [
    "#Plot the triangles\n",
    "tris = lv.triangles(\"surface\")\n",
    "tris.vertices(verts)\n",
    "tris.indices(cells)"
   ]
  },
  {
   "cell_type": "markdown",
   "metadata": {
    "deletable": true,
    "editable": true
   },
   "source": [
    "**Add values, can be used to colour and filter the data**"
   ]
  },
  {
   "cell_type": "code",
   "execution_count": null,
   "metadata": {
    "collapsed": true,
    "deletable": true,
    "editable": true
   },
   "outputs": [],
   "source": [
    "#Use topography value to colour the surface\n",
    "tris.values(topography, 'topography')\n",
    "#tris.values(boundary, \"boundary\") #Load another field\n",
    "#tris.values(tin[\"discharge\"])\n",
    "cm = tris.colourmap(\"diverge\") #Apply a built in colourmap\n",
    "cb = tris.colourbar() #Add a colour bar\n",
    "\n",
    "#Filter by min height value\n",
    "tris[\"zmin\"] = 0.011"
   ]
  },
  {
   "cell_type": "markdown",
   "metadata": {
    "deletable": true,
    "editable": true
   },
   "source": [
    "**Apply an initial rotation and display an interactive viewer window**\n",
    "\n",
    "Along with viewer window, controls can be added to adjust properties dynamically"
   ]
  },
  {
   "cell_type": "code",
   "execution_count": null,
   "metadata": {
    "collapsed": false,
    "deletable": true,
    "editable": true,
    "scrolled": false
   },
   "outputs": [],
   "source": [
    "lv.rotate('x', -60)\n",
    "\n",
    "lv.window()\n",
    "tris.control.Checkbox('wireframe')\n",
    "tris.control.Range('zmin', range=(0,1), step=0.001)\n",
    "lv.control.Range(command='background', range=(0,1), step=0.1, value=1)\n",
    "lv.control.ObjectList()\n",
    "lv.control.show()"
   ]
  },
  {
   "cell_type": "code",
   "execution_count": null,
   "metadata": {
    "collapsed": false,
    "deletable": true,
    "editable": true
   },
   "outputs": [],
   "source": [
    "tris.reload()\n",
    "lv.redisplay()"
   ]
  },
  {
   "cell_type": "markdown",
   "metadata": {
    "deletable": true,
    "editable": true
   },
   "source": [
    "**Saving camera position, images and state**\n",
    "\n"
   ]
  },
  {
   "cell_type": "code",
   "execution_count": null,
   "metadata": {
    "collapsed": false,
    "deletable": true,
    "editable": true
   },
   "outputs": [],
   "source": [
    "lv.camera() #Get current camera as set in viewer"
   ]
  },
  {
   "cell_type": "code",
   "execution_count": null,
   "metadata": {
    "collapsed": false,
    "deletable": true,
    "editable": true,
    "scrolled": false
   },
   "outputs": [],
   "source": [
    "#Plot a static image with a saved camera setup\n",
    "lv.translation(0.00558684254065156, 1.16282057762146, -8.33703231811523)\n",
    "lv.rotation(-0.487509340047836, 0.172793388366699, 0.269237726926804, 0.807206630706787)\n",
    "lv.display(resolution=[480,320])\n",
    "lv.image('saved.png', resolution=[640,480], transparent=True) #Save to disk"
   ]
  },
  {
   "cell_type": "code",
   "execution_count": null,
   "metadata": {
    "collapsed": false,
    "deletable": true,
    "editable": true,
    "scrolled": false
   },
   "outputs": [],
   "source": [
    "#State of properties and view can be loaded and saved to a file\n",
    "lv.save(\"state.json\")\n",
    "#lv.file(\"state.json\")\n"
   ]
  }
 ],
 "metadata": {
  "kernelspec": {
   "display_name": "Python 2",
   "language": "python",
   "name": "python2"
  },
  "language_info": {
   "codemirror_mode": {
    "name": "ipython",
    "version": 2
   },
   "file_extension": ".py",
   "mimetype": "text/x-python",
   "name": "python",
   "nbconvert_exporter": "python",
   "pygments_lexer": "ipython2",
   "version": "2.7.13"
  }
 },
 "nbformat": 4,
 "nbformat_minor": 0
}
