{
 "cells": [
  {
   "cell_type": "markdown",
   "metadata": {
    "deletable": true,
    "editable": true
   },
   "source": [
    "# Rosenbrock landscape\n",
    "\n",
    "The Rosenbrock function is a typical non-convex bivariate that is commonly used to benchmark optimisation routines.\n",
    "\n",
    "$$\n",
    "f(x,y) = (1-x)^2 + 100(y-x^2)^2\n",
    "$$\n",
    "\n",
    "Here we explore 1 and 2 downhill neighbour pathways on an unstructured mesh using this function."
   ]
  },
  {
   "cell_type": "code",
   "execution_count": null,
   "metadata": {
    "collapsed": false,
    "deletable": true,
    "editable": true
   },
   "outputs": [],
   "source": [
    "import numpy as np\n",
    "import matplotlib.pyplot as plt\n",
    "from quagmire import SurfaceProcessMesh\n",
    "from quagmire import tools as meshtools\n",
    "import scipy as sp\n",
    "%matplotlib inline"
   ]
  },
  {
   "cell_type": "code",
   "execution_count": null,
   "metadata": {
    "collapsed": false,
    "deletable": true,
    "editable": true
   },
   "outputs": [],
   "source": [
    "minX, maxX = -2.0, 2.0\n",
    "minY, maxY = -2.0, 3.0\n",
    "\n",
    "x, y, bmask = meshtools.square_mesh(minX, maxX, minY, maxY, 0.05, 0.05, samples=10000, boundary_samples=1000)\n",
    "x, y = meshtools.lloyd_mesh_improvement(x, y, bmask, 5)\n",
    "\n",
    "# x_new = np.zeros(500)\n",
    "# y_new = np.zeros(500) + np.random.uniform(-2, 0.1)\n",
    "# x = np.append(x, x_new)\n",
    "# y = np.append(y, y_new)\n",
    "\n",
    "height = (1.0 - x)**2 + 100.0*(y - x**2)**2 # Rosenbrock function\n",
    "# height[height < 50] = 50.\n",
    "height -= 100*y # make a small incline\n",
    "\n",
    "dm = meshtools.create_DMPlex_from_points(x, y, bmask)\n",
    "sp = SurfaceProcessMesh(dm)\n",
    "sp.update_height(height)"
   ]
  },
  {
   "cell_type": "code",
   "execution_count": null,
   "metadata": {
    "collapsed": false,
    "deletable": true,
    "editable": true
   },
   "outputs": [],
   "source": [
    "fig = plt.figure(1)\n",
    "ax = fig.add_subplot(111, xlim=(minX, maxX), ylim=(minY, maxY))\n",
    "im = ax.tripcolor(x, y, sp.tri.simplices, height, cmap='terrain')\n",
    "fig.colorbar(im, ax=ax, label='height')\n",
    "plt.show()"
   ]
  },
  {
   "cell_type": "code",
   "execution_count": null,
   "metadata": {
    "collapsed": true,
    "deletable": true,
    "editable": true
   },
   "outputs": [],
   "source": [
    "def compute_stream_power(self):\n",
    "    \"\"\" Compute stream power \"\"\"\n",
    "    rainflux = self.rainfall_pattern\n",
    "    rainfall = self.area * rainflux\n",
    "    cumulative_rain = self.cumulative_flow(rainfall)\n",
    "    cumulative_flow_rate = cumulative_rain / self.area\n",
    "    return cumulative_flow_rate * self.slope\n",
    "\n",
    "def compute_cumulative_flow_rate(self):\n",
    "    rainflux = self.rainfall_pattern\n",
    "    rainfall = self.area * rainflux\n",
    "    cumulative_rain = self.cumulative_flow(rainfall)\n",
    "    cumulative_flow_rate = cumulative_rain / self.area\n",
    "    return cumulative_flow_rate"
   ]
  },
  {
   "cell_type": "markdown",
   "metadata": {
    "deletable": true,
    "editable": true
   },
   "source": [
    "## Compare one and two downhill pathways\n",
    "\n",
    "The Rosenbrock function encapsulates a Y-junction where a river splits in two."
   ]
  },
  {
   "cell_type": "code",
   "execution_count": null,
   "metadata": {
    "collapsed": false,
    "deletable": true,
    "editable": true
   },
   "outputs": [],
   "source": [
    "sp._build_downhill_matrix()\n",
    "down2 = sp.downhillMat.copy() # 2 downhill neighbours\n",
    "\n",
    "sp._build_adjacency_matrix_1() \n",
    "down1 = sp.adjacency1.copy() # 1 downhill neighbour"
   ]
  },
  {
   "cell_type": "code",
   "execution_count": null,
   "metadata": {
    "collapsed": false,
    "deletable": true,
    "editable": true
   },
   "outputs": [],
   "source": [
    "upstream_area = np.empty((2, sp.npoints))\n",
    "\n",
    "for i, downhillMat in enumerate([down1, down2]):\n",
    "    sp.downhillMat = downhillMat\n",
    "    upstream_area[i] = sp.cumulative_flow(sp.area)\n",
    "\n",
    "max_uparea = upstream_area.max()\n",
    "\n",
    "fig, (ax1, ax2) = plt.subplots(1,2, figsize=(10,3.5))\n",
    "\n",
    "for i, ax in enumerate([ax1,ax2]):\n",
    "    ax.set_xlim(minX, maxX)\n",
    "    ax.set_ylim(minY, maxY)\n",
    "    ax.set_title('{} neighbour'.format(i+1))\n",
    "\n",
    "    im = ax.tripcolor(x, y, sp.tri.simplices, upstream_area[i], vmax=max_uparea, cmap='YlGnBu')\n",
    "    fig.colorbar(im, ax=ax)"
   ]
  },
  {
   "cell_type": "markdown",
   "metadata": {
    "deletable": true,
    "editable": true
   },
   "source": [
    "A finite volume of water is propagated downstream where a single stream meets a Y-junction and the river must diverge."
   ]
  },
  {
   "cell_type": "code",
   "execution_count": null,
   "metadata": {
    "collapsed": false,
    "deletable": true,
    "editable": true
   },
   "outputs": [],
   "source": [
    "rain = np.zeros_like(height)\n",
    "rain[np.logical_and(x > -0.1, x < 0.1)] = 10.\n",
    "rain[y > 0.] = 0.0\n",
    "\n",
    "smooth_rain = sp.local_area_smoothing(rain, its=10)"
   ]
  },
  {
   "cell_type": "code",
   "execution_count": null,
   "metadata": {
    "collapsed": false,
    "deletable": true,
    "editable": true
   },
   "outputs": [],
   "source": [
    "# Create some movies!\n",
    "import matplotlib.animation as manimation\n",
    "FFMpegWriter = manimation.writers['ffmpeg']\n",
    "metadata = dict(title='Movie Test', artist='Matplotlib',\n",
    "        comment='Movie support!')\n",
    "writer = FFMpegWriter(fps=24, codec='libx264', bitrate=2000, metadata=metadata)\n",
    "\n",
    "DX0 = sp.gvec.duplicate()\n",
    "DX1 = sp.gvec.duplicate()\n",
    "\n",
    "for i, downhillMat in enumerate([down1, down2]):\n",
    "    sp.downhillMat = downhillMat\n",
    "    DX0.set(0.0)\n",
    "    DX1.setArray(smooth_rain)\n",
    "    \n",
    "    plt.ion()\n",
    "    \n",
    "    fig = plt.figure(1)\n",
    "    ax1 = fig.add_subplot(111, xlim=[minX,maxX], ylim=[minY,maxY])\n",
    "    ax1.axes.set_aspect(\"equal\")\n",
    "    ax1.axis('off')\n",
    "    ax1.tripcolor(x, y, sp.tri.simplices, height, cmap='YlOrRd', shading='gouraud', zorder=0)\n",
    "    im1 = ax1.tripcolor(x, y, sp.tri.simplices, DX1.array, vmax=1, cmap='Blues', shading='gouraud', alpha=0.5, zorder=1)\n",
    "    \n",
    "    step = 0\n",
    "    with writer.saving(fig, 'rosenbrock_{}n.mp4'.format(i+1), 100):\n",
    "        while DX1.array.any():\n",
    "            im1.set_array(DX1.array)\n",
    "            fig.canvas.draw()\n",
    "            writer.grab_frame()\n",
    "\n",
    "            if step%10 == 0:\n",
    "                print \"{} neighbour - step {:04d} -  remaining information {:.6f}\".format(i+1, step, DX1.sum())\n",
    "\n",
    "            step += 1\n",
    "\n",
    "            DX1 = sp.downhillMat*DX1\n",
    "            DX0 += DX1\n",
    "    plt.close()"
   ]
  },
  {
   "cell_type": "markdown",
   "metadata": {
    "collapsed": true,
    "deletable": true,
    "editable": true
   },
   "source": [
    "Downstream flow is better represented using 2 downhill pathways in this example.\n",
    "\n",
    "### Timestepping\n",
    "\n",
    "The difference between the choice in number of downhill neighbours may reduce if the landscape is incised and sediments are distributed. We implement Davy and Lague's $\\xi - q$ model (no. 3 in \"`erosion - deposition models.ipynb`\")"
   ]
  }
 ],
 "metadata": {
  "kernelspec": {
   "display_name": "Python 2",
   "language": "python2",
   "name": "python2"
  },
  "language_info": {
   "codemirror_mode": {
    "name": "ipython",
    "version": 2
   },
   "file_extension": ".py",
   "mimetype": "text/x-python",
   "name": "python",
   "nbconvert_exporter": "python",
   "pygments_lexer": "ipython2",
   "version": "2.7.13"
  }
 },
 "nbformat": 4,
 "nbformat_minor": 2
}
