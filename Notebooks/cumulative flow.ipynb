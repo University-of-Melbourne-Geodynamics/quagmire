{
 "cells": [
  {
   "cell_type": "markdown",
   "metadata": {
    "deletable": true,
    "editable": true
   },
   "source": [
    "# Cumulative flow\n",
    "\n",
    "Surface flow algorithms rely on the interconnection of nodes to pass information from one node to another in a downhill direction. Some algorithms include multiple downhill pathways where information is passed from a parent node to more than one downhill neighbours. Flow is split among $N$ downhill neighbours using\n",
    "\n",
    "$$\n",
    "\\frac{Q_i}{Q_{\\mathrm{total}}} = \\frac{S_i^\\alpha}{\\sum_{i=1}^{N} S_i^{\\alpha}}\n",
    "$$\n",
    "\n",
    "where $Q_{\\mathrm{total}}$ is the total water discharge flowing through the node, $Q_i$ is the discharge into the immediate downstream node, $i$, and $\\alpha$ is a partitioning parameter (usually $\\alpha=\\frac{1}{2}$). This notebook explores the propagation of information to downstream areas using one or two pathways."
   ]
  },
  {
   "cell_type": "code",
   "execution_count": null,
   "metadata": {
    "collapsed": false,
    "deletable": true,
    "editable": true
   },
   "outputs": [],
   "source": [
    "import numpy as np\n",
    "import matplotlib.pyplot as plt\n",
    "from time import clock\n",
    "%matplotlib inline\n",
    "\n",
    "from quagmire import TopoMesh # all routines we need are within this class\n",
    "from quagmire import tools as meshtools"
   ]
  },
  {
   "cell_type": "code",
   "execution_count": null,
   "metadata": {
    "collapsed": false,
    "deletable": true,
    "editable": true
   },
   "outputs": [],
   "source": [
    "minX, maxX = -5.0, 5.0\n",
    "minY, maxY = -5.0, 5.0\n",
    "\n",
    "x, y, bmask, = meshtools.elliptical_mesh(minX, maxX, minY, maxY, 0.05, 0.05, samples=20000, boundary_samples=500)\n",
    "x, y = meshtools.lloyd_mesh_improvement(x, y, bmask, iterations=5)\n",
    "\n",
    "radius  = np.sqrt((x**2 + y**2))\n",
    "theta   = np.arctan2(y,x)\n",
    "height  = np.exp(-0.01 *(x**2 + y**2)**2) + 0.05 * (0.2*radius)**8  * np.cos(30.0*theta)**2 ## Concentrated\n",
    "height  = np.exp(-0.025*(x**2 + y**2)**2) + 0.05 * (0.2*radius)**4  * np.cos(30.0*theta)**2 ## Less so\n",
    "\n",
    "height  += 0.5 * (1.0-0.2*radius)\n",
    "\n",
    "# height  += 0.05 * np.random.random(height.shape)\n",
    "\n",
    "print height.max(), height.min()"
   ]
  },
  {
   "cell_type": "code",
   "execution_count": null,
   "metadata": {
    "collapsed": false,
    "deletable": true,
    "editable": true
   },
   "outputs": [],
   "source": [
    "dm = meshtools.create_DMPlex_from_points(x, y, bmask)\n",
    "\n",
    "mesh = TopoMesh(dm)\n",
    "mesh.update_height(height)"
   ]
  },
  {
   "cell_type": "code",
   "execution_count": null,
   "metadata": {
    "collapsed": false,
    "deletable": true,
    "editable": true
   },
   "outputs": [],
   "source": [
    "fig, (ax1) = plt.subplots(1,1, figsize=(10,10))\n",
    "ax1.tripcolor(x, y, mesh.tri.simplices, height, cmap='YlOrRd', \n",
    "              shading='gouraud', alpha=0.5, zorder=1)\n"
   ]
  },
  {
   "cell_type": "markdown",
   "metadata": {
    "deletable": true,
    "editable": true
   },
   "source": [
    "## One, two or all downhill neighbours\n",
    "\n",
    "We can build different variants of the downhill propagation matrix including different numbers of downhill neighbours -- one, two (the default) or all. \n",
    "\n",
    " 1. The `downhillMat` matrix houses the downstream neighbour network. It is the (weighted) sum of two matrices `adjacency1` and `adjacency2` which contain the first and second neighbours respectively. Below we replace `downhillMat` with `adjacency1`.\n",
    " \n",
    " 2. This is the default setting in Quagmire. It uses the partitioning algorithm above to split information among downhill neighbours. If there is only one downhill neighbour then all the flow is directed to that node.\n",
    "\n",
    " 3. Now we split flow into all downhill neighbours. There may be several recipient nodes that are lower than the parent node depending on the unstructured mesh."
   ]
  },
  {
   "cell_type": "code",
   "execution_count": null,
   "metadata": {
    "collapsed": false,
    "deletable": true,
    "editable": true
   },
   "outputs": [],
   "source": [
    "mesh._build_adjacency_matrix_1()\n",
    "down1 = mesh.adjacency1.copy()\n",
    "mesh.downhillMat = down1\n",
    "down1T = down1.copy().transpose()\n",
    "\n",
    "print \"No of local minima = \", np.count_nonzero(down1T.getRowSum().array == 0.0)\n"
   ]
  },
  {
   "cell_type": "code",
   "execution_count": null,
   "metadata": {
    "collapsed": false,
    "deletable": true,
    "editable": true
   },
   "outputs": [],
   "source": [
    "mesh._build_downhill_matrix()\n",
    "down2 = mesh.downhillMat.copy()"
   ]
  },
  {
   "cell_type": "code",
   "execution_count": null,
   "metadata": {
    "collapsed": false,
    "deletable": true,
    "editable": true
   },
   "outputs": [],
   "source": [
    "mesh._build_downhill_matrix_neighbours()\n",
    "downN = mesh.downhillMat.copy()"
   ]
  },
  {
   "cell_type": "code",
   "execution_count": null,
   "metadata": {
    "collapsed": false,
    "deletable": true,
    "editable": true
   },
   "outputs": [],
   "source": [
    "def downhill_propagation(downhillMat, vector):\n",
    "    \"\"\" time the propagation of information downhill \"\"\"\n",
    "    mesh.downhillMat = downhillMat\n",
    "    t = clock()\n",
    "    cumvec = mesh.cumulative_flow(vector)\n",
    "    return cumvec, clock() - t\n",
    "\n",
    "upstream_area_1n, t_1n = downhill_propagation(down1, mesh.area)\n",
    "upstream_area_2n, t_2n = downhill_propagation(down2, mesh.area)\n",
    "upstream_area_Nn, t_Nn = downhill_propagation(downN, mesh.area)"
   ]
  },
  {
   "cell_type": "markdown",
   "metadata": {
    "deletable": true,
    "editable": true
   },
   "source": [
    "## Comparison plot"
   ]
  },
  {
   "cell_type": "code",
   "execution_count": null,
   "metadata": {
    "collapsed": false,
    "deletable": true,
    "editable": true,
    "scrolled": true
   },
   "outputs": [],
   "source": [
    "fig, (ax1,ax2,ax3) = plt.subplots(1,3, figsize=(21,7))\n",
    "for ax in [ax1,ax2,ax3]:\n",
    "    ax.axis('off')\n",
    "\n",
    "vmax = np.mean([upstream_area_1n.max(), upstream_area_2n.max(), upstream_area_Nn.max()])\n",
    "print \"Max Area 1,2,N: \", upstream_area_1n.max(), upstream_area_2n.max(), upstream_area_Nn.max()\n",
    "\n",
    "vmax=0.5\n",
    "\n",
    "im1 = ax1.tripcolor(x, y, mesh.tri.simplices, upstream_area_1n, cmap='YlGnBu', vmax=vmax)\n",
    "im2 = ax2.tripcolor(x, y, mesh.tri.simplices, upstream_area_2n, cmap='YlGnBu', vmax=vmax)\n",
    "im3 = ax3.tripcolor(x, y, mesh.tri.simplices, upstream_area_Nn, cmap='YlGnBu', vmax=vmax)\n",
    "\n",
    "ax1.set_title('1 neighbour')\n",
    "ax2.set_title('2 neighbours')\n",
    "ax3.set_title('$N$ neighbours')\n",
    "\n",
    "plt.show()"
   ]
  },
  {
   "cell_type": "markdown",
   "metadata": {
    "collapsed": true,
    "deletable": true,
    "editable": true
   },
   "source": [
    "## Movie: One downhill neighbour"
   ]
  },
  {
   "cell_type": "code",
   "execution_count": null,
   "metadata": {
    "collapsed": false,
    "deletable": true,
    "editable": true
   },
   "outputs": [],
   "source": [
    "import matplotlib.animation as manimation\n",
    "FFMpegWriter = manimation.writers['ffmpeg']\n",
    "metadata = dict(title='Movie Test', artist='Matplotlib',\n",
    "        comment='Movie support!')\n",
    "writer = FFMpegWriter(fps=24, codec='libx264', bitrate=2000, metadata=metadata)\n",
    "\n",
    "\n",
    "DX0 = mesh.gvec.duplicate()\n",
    "DX1 = mesh.gvec.duplicate()\n",
    "DX1.set(1.0)\n",
    "\n",
    "plt.ion()\n",
    "fig = plt.figure(1, figsize=(5,5))\n",
    "ax1 = fig.add_subplot(111, xlim=[minX,maxX], ylim=[minY,maxY])\n",
    "ax1.axes.set_aspect(\"equal\")\n",
    "ax1.axis('off')\n",
    "ax1.triplot(x, y, mesh.tri.simplices, color=\"Black\", linewidth=0.1, alpha=0.5, zorder=0)\n",
    "im1 = ax1.tripcolor(x, y, mesh.tri.simplices, DX1.array, vmin=0, vmax=1, cmap='YlOrRd', shading='gouraud', alpha=0.5, zorder=1)\n",
    "\n",
    "step=0\n",
    "DXsum0 = DX1.sum()\n",
    "with writer.saving(fig, 'sombrero_1n.mp4', 100):\n",
    "    while DX1.sum() > DXsum0 * 1.0e-8 and step < 250: \n",
    "                \n",
    "        im1.set_array(DX1.array)\n",
    "        fig.canvas.draw()\n",
    "        writer.grab_frame()\n",
    "\n",
    "        if step%10 == 0:\n",
    "            print \"step {:05d} -  remaining information  {:.3f}\".format(step, DX1.sum())\n",
    "\n",
    "        step += 1\n",
    "\n",
    "        DX1 = mesh.downhillMat*DX1\n",
    "        DX0 += DX1\n",
    "        \n",
    "plt.close()\n",
    "\n",
    "print \"Terminated after {} steps\".format(step)"
   ]
  },
  {
   "cell_type": "markdown",
   "metadata": {
    "deletable": true,
    "editable": true
   },
   "source": [
    "## Movie: Two downhill neighbours\n"
   ]
  },
  {
   "cell_type": "code",
   "execution_count": null,
   "metadata": {
    "collapsed": false,
    "deletable": true,
    "editable": true,
    "scrolled": false
   },
   "outputs": [],
   "source": [
    "DX0 = mesh.gvec.duplicate()\n",
    "DX1 = mesh.gvec.duplicate()\n",
    "DX1.set(1.0)\n",
    "\n",
    "plt.ion()\n",
    "fig = plt.figure(1, figsize=(5,5))\n",
    "ax1 = fig.add_subplot(111, xlim=[minX,maxX], ylim=[minY,maxY])\n",
    "ax1.axes.set_aspect(\"equal\")\n",
    "ax1.axis('off')\n",
    "ax1.triplot(x, y, mesh.tri.simplices, color=\"Black\", linewidth=0.1, alpha=0.5, zorder=0)\n",
    "im1 = ax1.tripcolor(x, y, mesh.tri.simplices, DX1.array, vmin=0, vmax=1, cmap='YlOrRd', shading='gouraud', alpha=0.5, zorder=1)\n",
    "\n",
    "step=0\n",
    "\n",
    "DXsum0 = DX1.sum()\n",
    "with writer.saving(fig, 'sombrero_2n.mp4', 100):\n",
    "    while DX1.sum() > DXsum0 * 1.0e-8 and step < 250: \n",
    "                \n",
    "        im1.set_array(DX1.array)\n",
    "        fig.canvas.draw()\n",
    "        writer.grab_frame()\n",
    "\n",
    "        if step%10 == 0:\n",
    "            print \"step {:05d} -  remaining information  {:.3f}\".format(step, DX1.sum())\n",
    "\n",
    "        step += 1\n",
    "\n",
    "        DX1 = mesh.downhillMat*DX1\n",
    "        DX0 += DX1\n",
    "        \n",
    "plt.close()\n",
    "\n",
    "print \"Terminated after {} steps\".format(step)"
   ]
  },
  {
   "cell_type": "markdown",
   "metadata": {
    "deletable": true,
    "editable": true
   },
   "source": [
    "## Movie $N$ downhill neighbours\n"
   ]
  },
  {
   "cell_type": "code",
   "execution_count": null,
   "metadata": {
    "collapsed": false,
    "deletable": true,
    "editable": true
   },
   "outputs": [],
   "source": [
    "DX0 = mesh.gvec.duplicate()\n",
    "DX1 = mesh.gvec.duplicate()\n",
    "DX1.set(1.0)\n",
    "\n",
    "plt.ion()\n",
    "fig = plt.figure(1, figsize=(5,5))\n",
    "ax1 = fig.add_subplot(111, xlim=[minX,maxX], ylim=[minY,maxY])\n",
    "ax1.axes.set_aspect(\"equal\")\n",
    "ax1.axis('off')\n",
    "ax1.triplot(x, y, mesh.tri.simplices, color=\"Black\", linewidth=0.1, alpha=0.5, zorder=0)\n",
    "im1 = ax1.tripcolor(x, y, mesh.tri.simplices, DX1.array, vmin=0, vmax=1, cmap='YlOrRd', shading='gouraud', alpha=0.5, zorder=1)\n",
    "\n",
    "step=0\n",
    "DXsum0 = DX1.sum()\n",
    "\n",
    "with writer.saving(fig, 'sombrero_Nn.mp4', 100):\n",
    "    while DX1.sum() > DXsum0 * 1.0e-8 and step < 250: \n",
    "\n",
    "                \n",
    "        im1.set_array(DX1.array)\n",
    "        fig.canvas.draw()\n",
    "        writer.grab_frame()\n",
    "\n",
    "        if step%10 == 0:\n",
    "            print \"step {:05d} -  remaining information  {:.3f}\".format(step, DX1.sum())\n",
    "\n",
    "        step += 1\n",
    "\n",
    "        DX1 = mesh.downhillMat*DX1\n",
    "        DX0 += DX1\n",
    "\n",
    "plt.close()\n",
    "\n",
    "print \"Terminated after {} steps\".format(step)"
   ]
  },
  {
   "cell_type": "markdown",
   "metadata": {
    "deletable": true,
    "editable": true
   },
   "source": [
    "## Compare upstream area\n",
    "\n",
    "Examine the difference in upstream area for the three neighbour combinations.\n",
    "\n",
    "$$\n",
    "A_{\\mathrm{upstream}} = \\int_{\\mathrm{upstream}} \\!\\!\\!\\! A(\\xi) \\, \\mathrm{d}\\xi\n",
    "$$"
   ]
  },
  {
   "cell_type": "markdown",
   "metadata": {
    "deletable": true,
    "editable": true
   },
   "source": [
    "## Timings\n",
    "\n",
    "The number of iterations to propogate information out of the domain increases with the number of downhill neighbours. One downhill neighbour is the fastest, yet the least realistic. Two downhill neighbours offers a good compromise between realistic flow and computation time."
   ]
  },
  {
   "cell_type": "code",
   "execution_count": null,
   "metadata": {
    "collapsed": false,
    "deletable": true,
    "editable": true
   },
   "outputs": [],
   "source": [
    "def timed_downhill_propagation(downhillMat, vector):\n",
    "    \"\"\" time the propagation of information downhill \"\"\"\n",
    "    mesh.gvec.setArray(vector)\n",
    "    DX0 = mesh.gvec.copy()\n",
    "    DX1 = mesh.gvec.copy()\n",
    "\n",
    "    DX1_sum = DX1.sum()\n",
    "    tt = [0.]\n",
    "    ua = [DX1_sum]\n",
    "    \n",
    "    step = 0\n",
    "    DX1_sum0 = DX1_sum\n",
    "    \n",
    "    t = clock()\n",
    "\n",
    "    while DX1_sum > 1e-8 * DX1_sum0:\n",
    "        \n",
    "        DX1 = downhillMat*DX1\n",
    "        DX0 += DX1\n",
    "        DX1_sum = DX1.sum()\n",
    "        \n",
    "        tt.append(clock() - t)\n",
    "        ua.append(DX1_sum)\n",
    "        step += 1\n",
    "\n",
    "        # print DX1_sum, DX1_sum0, step\n",
    "        \n",
    "    return ua, tt\n",
    "\n",
    "ua_1n, tt_1n = timed_downhill_propagation(down1, mesh.area)\n",
    "ua_2n, tt_2n = timed_downhill_propagation(down2, mesh.area)\n",
    "ua_Nn, tt_Nn = timed_downhill_propagation(downN, mesh.area)"
   ]
  },
  {
   "cell_type": "code",
   "execution_count": null,
   "metadata": {
    "collapsed": false,
    "deletable": true,
    "editable": true
   },
   "outputs": [],
   "source": [
    "fig = plt.figure(1)\n",
    "ax1 = fig.add_subplot(111)\n",
    "ax1.plot(tt_1n, (ua_1n), label='1 neighbour')\n",
    "ax1.plot(tt_2n, (ua_2n), label='2 neighbours')\n",
    "ax1.plot(tt_Nn, (ua_Nn), label='$N$ neighbours')\n",
    "plt.legend()\n",
    "plt.show()"
   ]
  },
  {
   "cell_type": "markdown",
   "metadata": {
    "deletable": true,
    "editable": true
   },
   "source": [
    "## Changing path length without changing the mesh\n",
    "\n",
    "An interesting comparison of the different downhill transport algorithms is to keep the mesh fixed but have arbitrarily longer paths ... we can do this with the magical spiral mountain"
   ]
  },
  {
   "cell_type": "code",
   "execution_count": null,
   "metadata": {
    "collapsed": false,
    "deletable": true,
    "editable": true
   },
   "outputs": [],
   "source": [
    "radius         = np.sqrt((x**2 + y**2))\n",
    "theta          = np.arctan2(y,x)\n",
    "spiral_factor  = 6.0\n",
    "height  = 0.5 * np.cos(2.0*theta+spiral_factor*radius)**2 \n",
    "height  += 5.0 * (1.0-0.2*radius)\n",
    "\n",
    "\n",
    "print height.max(), height.min()"
   ]
  },
  {
   "cell_type": "code",
   "execution_count": null,
   "metadata": {
    "collapsed": false,
    "deletable": true,
    "editable": true
   },
   "outputs": [],
   "source": [
    "mesh.update_height(height)"
   ]
  },
  {
   "cell_type": "code",
   "execution_count": null,
   "metadata": {
    "collapsed": false,
    "deletable": true,
    "editable": true
   },
   "outputs": [],
   "source": [
    "fig, (ax1) = plt.subplots(1,1, figsize=(10,10))\n",
    "ax1.tripcolor(x, y, mesh.tri.simplices, height, cmap='YlOrRd', \n",
    "              shading='gouraud', alpha=0.5, zorder=1)\n"
   ]
  },
  {
   "cell_type": "code",
   "execution_count": null,
   "metadata": {
    "collapsed": true,
    "deletable": true,
    "editable": true
   },
   "outputs": [],
   "source": [
    "mesh._build_adjacency_matrix_1()\n",
    "down1 = mesh.adjacency1.copy()\n",
    "mesh.downhillMat = down1\n",
    "\n",
    "mesh._build_downhill_matrix()\n",
    "down2 = mesh.downhillMat.copy()\n",
    "\n",
    "mesh._build_downhill_matrix_neighbours()\n",
    "downN = mesh.downhillMat.copy()\n",
    "\n",
    "upstream_area_1n, t_1n = downhill_propagation(down1, mesh.area)\n",
    "upstream_area_2n, t_2n = downhill_propagation(down2, mesh.area)\n",
    "upstream_area_Nn, t_Nn = downhill_propagation(downN, mesh.area)"
   ]
  },
  {
   "cell_type": "code",
   "execution_count": null,
   "metadata": {
    "collapsed": false,
    "deletable": true,
    "editable": true
   },
   "outputs": [],
   "source": [
    "fig, (ax1,ax2,ax3) = plt.subplots(1,3, figsize=(21,7))\n",
    "for ax in [ax1,ax2,ax3]:\n",
    "    ax.axis('off')\n",
    "\n",
    "vmax = 0.5 * np.mean([upstream_area_1n.max(), upstream_area_2n.max(), upstream_area_Nn.max()])\n",
    "print \"Max Area 1,2,N: \", upstream_area_1n.max(), upstream_area_2n.max(), upstream_area_Nn.max()\n",
    "\n",
    "im1 = ax1.tripcolor(x, y, mesh.tri.simplices, upstream_area_1n, cmap='YlGnBu', vmax=vmax)\n",
    "im2 = ax2.tripcolor(x, y, mesh.tri.simplices, upstream_area_2n, cmap='YlGnBu', vmax=vmax)\n",
    "im3 = ax3.tripcolor(x, y, mesh.tri.simplices, upstream_area_Nn, cmap='YlGnBu', vmax=vmax)\n",
    "\n",
    "ax1.set_title('1 neighbour')\n",
    "ax2.set_title('2 neighbours')\n",
    "ax3.set_title('$N$ neighbours')\n",
    "\n",
    "plt.show()"
   ]
  },
  {
   "cell_type": "code",
   "execution_count": null,
   "metadata": {
    "collapsed": false,
    "deletable": true,
    "editable": true
   },
   "outputs": [],
   "source": [
    "ua_1n, tt_1n = timed_downhill_propagation(down1, mesh.area)\n",
    "ua_2n, tt_2n = timed_downhill_propagation(down2, mesh.area)\n",
    "ua_Nn, tt_Nn = timed_downhill_propagation(downN, mesh.area)\n",
    "\n",
    "fig = plt.figure(1)\n",
    "ax1 = fig.add_subplot(111)\n",
    "ax1.plot(tt_1n, (ua_1n), label='1 neighbour')\n",
    "ax1.plot(tt_2n, (ua_2n), label='2 neighbours')\n",
    "ax1.plot(tt_Nn, (ua_Nn), label='$N$ neighbours')\n",
    "plt.legend()\n",
    "plt.show()"
   ]
  },
  {
   "cell_type": "code",
   "execution_count": null,
   "metadata": {
    "collapsed": false,
    "deletable": true,
    "editable": true
   },
   "outputs": [],
   "source": [
    "down1T = down1.copy().transpose()\n",
    "low_points =  np.where(down1T.getRowSum().array == 0.0)[0]\n",
    "\n",
    "print \"number of low points\", low_points.shape[0]"
   ]
  },
  {
   "cell_type": "code",
   "execution_count": null,
   "metadata": {
    "collapsed": false,
    "deletable": true,
    "editable": true
   },
   "outputs": [],
   "source": [
    "fig, (ax1) = plt.subplots(1,1, figsize=(21,21))\n",
    "\n",
    "im1 = ax1.tripcolor(x, y, mesh.tri.simplices, upstream_area_1n, cmap='YlGnBu', vmax=vmax)\n",
    "# im2 = ax2.tripcolor(x, y, mesh.tri.simplices, upstream_area_2n, cmap='YlGnBu', vmax=vmax)\n",
    "# im3 = ax3.tripcolor(x, y, mesh.tri.simplices, upstream_area_Nn, cmap='YlGnBu', vmax=vmax)\n",
    "\n",
    "# ax1.tripcolor(x, y, mesh.tri.simplices, height, cmap='YlOrRd', \n",
    "#               shading='gouraud', alpha=0.5, zorder=1)\n",
    "\n",
    "# ax1.scatter(x, y, s=1, marker=\".\")\n",
    "ax1.scatter(x[low_points], y[low_points], s=250.0, marker=\"x\")\n",
    "\n",
    "\n"
   ]
  }
 ],
 "metadata": {
  "kernelspec": {
   "display_name": "Python 2",
   "language": "python2",
   "name": "python2"
  },
  "language_info": {
   "codemirror_mode": {
    "name": "ipython",
    "version": 2
   },
   "file_extension": ".py",
   "mimetype": "text/x-python",
   "name": "python",
   "nbconvert_exporter": "python",
   "pygments_lexer": "ipython2",
   "version": "2.7.13"
  }
 },
 "nbformat": 4,
 "nbformat_minor": 2
}
